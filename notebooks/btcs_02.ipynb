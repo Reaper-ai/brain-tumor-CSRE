{
 "cells": [
  {
   "metadata": {
    "ExecuteTime": {
     "end_time": "2025-08-24T10:21:25.717621Z",
     "start_time": "2025-08-24T10:21:25.658563Z"
    }
   },
   "cell_type": "code",
   "source": [
    "import h5py\n",
    "import os\n",
    "from PIL import Image\n",
    "import numpy as np\n",
    "import pandas as pd"
   ],
   "id": "ca7ad1805175bf0",
   "outputs": [],
   "execution_count": 7
  },
  {
   "metadata": {
    "ExecuteTime": {
     "end_time": "2025-08-24T10:23:57.770342Z",
     "start_time": "2025-08-24T10:23:57.762830Z"
    }
   },
   "cell_type": "code",
   "source": [
    "labels_map = {1: \"meningioma\", 2: \"glioma\", 3: \"pituitary\"}\n",
    "\n",
    "def load_mat_v73(mat_file_path):\n",
    "    \"\"\"\n",
    "    Load MATLAB v7.3 .mat file and extract relevant data\n",
    "    \"\"\"\n",
    "    with h5py.File(mat_file_path, 'r') as file:\n",
    "        cjdata = file['cjdata']\n",
    "        data = {}\n",
    "\n",
    "        # Handle image and tumor mask\n",
    "        data['image'] = np.array(cjdata['image'])\n",
    "        data['tumorMask'] = np.array(cjdata['tumorMask'])\n",
    "\n",
    "        # Handle scalar values (label and PID) safely\n",
    "        label_data = np.array(cjdata['label'])\n",
    "        pid_data = np.array(cjdata['PID'])\n",
    "\n",
    "        # Convert to simple integer, regardless of array dimension\n",
    "        data['label'] = int(label_data.flatten()[0])\n",
    "        data['PID'] = int(pid_data.flatten()[0])\n",
    "\n",
    "    return data\n",
    "\n",
    "def save_image_and_mask(data, output_image_dir, output_mask_dir, filename):\n",
    "    \"\"\"\n",
    "    Save image and mask in proper folders\n",
    "    \"\"\"\n",
    "    label_name = labels_map[data['label']]\n",
    "    os.makedirs(os.path.join(output_image_dir, label_name), exist_ok=True)\n",
    "    os.makedirs(os.path.join(output_mask_dir, label_name), exist_ok=True)\n",
    "\n",
    "    # Save as PNG\n",
    "    Image.fromarray(data['image']).save(os.path.join(output_image_dir, label_name, filename))\n",
    "    Image.fromarray((data['tumorMask']*255).astype(np.uint8)).save(\n",
    "        os.path.join(output_mask_dir, label_name, filename))\n",
    "\n",
    "def process_dataset(mat_dir, output_image_dir, output_mask_dir, metadata_path):\n",
    "    \"\"\"\n",
    "    Process all .mat files in a folder and save images, masks, metadata\n",
    "    \"\"\"\n",
    "    metadata = []\n",
    "    for mat_file in os.listdir(mat_dir):\n",
    "        if mat_file.endswith(\".mat\"):\n",
    "            mat_path = os.path.join(mat_dir, mat_file)\n",
    "            data = load_mat_v73(mat_path)\n",
    "            filename = f\"{mat_file.split('.')[0]}.png\"\n",
    "\n",
    "            save_image_and_mask(data, output_image_dir, output_mask_dir, filename)\n",
    "            metadata.append([filename, labels_map[data['label']], data['PID']])\n",
    "\n",
    "    # Save metadata CSV\n",
    "    df = pd.DataFrame(metadata, columns=[\"filename\", \"label\", \"PID\"])\n",
    "    df.to_csv(metadata_path, index=False)\n",
    "    print(f\"Processed {len(metadata)} files. Metadata saved to {metadata_path}\")\n"
   ],
   "id": "997aa7243fa31fb0",
   "outputs": [],
   "execution_count": 10
  },
  {
   "metadata": {
    "ExecuteTime": {
     "end_time": "2025-08-24T10:30:13.309828Z",
     "start_time": "2025-08-24T10:24:00.498744Z"
    }
   },
   "cell_type": "code",
   "source": [
    "`mat_dir = \"../data/archive/dataset/data\"\n",
    "image_dir = \"../data/mri_t1_dataset/images\"\n",
    "mask_dir = \"../data/mri_t1_dataset/masks\"\n",
    "metadata_path = \"../data/mri_t1_dataset/metadata.csv\"\n",
    "process_dataset(mat_dir, image_dir, mask_dir, metadata_path)\n"
   ],
   "id": "e40340e48e5dba67",
   "outputs": [
    {
     "name": "stdout",
     "output_type": "stream",
     "text": [
      "Processed 3064 files. Metadata saved to ../data/mri_t1_dataset/metadata.csv\n"
     ]
    }
   ],
   "execution_count": 11
  },
  {
   "metadata": {},
   "cell_type": "code",
   "outputs": [],
   "execution_count": null,
   "source": "",
   "id": "bad76d5befa1b53d"
  }
 ],
 "metadata": {
  "kernelspec": {
   "display_name": "Python 3",
   "language": "python",
   "name": "python3"
  },
  "language_info": {
   "codemirror_mode": {
    "name": "ipython",
    "version": 2
   },
   "file_extension": ".py",
   "mimetype": "text/x-python",
   "name": "python",
   "nbconvert_exporter": "python",
   "pygments_lexer": "ipython2",
   "version": "2.7.6"
  }
 },
 "nbformat": 4,
 "nbformat_minor": 5
}
