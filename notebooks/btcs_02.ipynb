{
 "cells": [
  {
   "metadata": {},
   "cell_type": "markdown",
   "source": "## Data Reorganisation",
   "id": "25c4869ceb4a4ecf"
  },
  {
   "metadata": {},
   "cell_type": "markdown",
   "source": [
    "This notebook provides a one-stop pipeline to **download, organize, validate, and convert** BraTS2020 `.nii` files into faster-to-load formats\n",
    "\n",
    "**What it does**\n",
    "- Verify directory structure and required modalities: `flair`, `t1`, `t1ce`, `t2`, `seg`.\n",
    "- Convert `.nii` files to `.npy` with dtype optimizations (images float16, masks uint8) and delete original `.nii` files to free space."
   ],
   "id": "d0133bb5a79500bb"
  },
  {
   "metadata": {
    "ExecuteTime": {
     "end_time": "2025-08-12T18:39:11.369410Z",
     "start_time": "2025-08-12T18:39:11.365379Z"
    }
   },
   "cell_type": "code",
   "source": [
    "import os\n",
    "import shutil\n",
    "from glob import glob\n",
    "import numpy as np\n",
    "import nibabel as nib"
   ],
   "id": "7879be01abe70aea",
   "outputs": [],
   "execution_count": 36
  },
  {
   "metadata": {
    "ExecuteTime": {
     "end_time": "2025-08-12T18:16:52.142796Z",
     "start_time": "2025-08-12T18:16:52.134562Z"
    }
   },
   "cell_type": "code",
   "source": [
    "\n",
    "# Input base folder (old structure)\n",
    "src_dir = \"../data/archive\"\n",
    "\n",
    "# Base output folders\n",
    "train_base = \"../data/BraTS_2020_Train\"\n",
    "val_base = \"../data/BraTS_2020_Val\"\n",
    "\n",
    "# Find all nii files recursively\n",
    "nii_files = glob(os.path.join(src_dir, \"**\", \"*.nii\"), recursive=True)\n",
    "\n",
    "for file_path in nii_files:\n",
    "    filename = os.path.basename(file_path)\n",
    "    parts = filename.replace(\".nii\", \"\").split(\"_\")\n",
    "\n",
    "    # Detect type and set base destination\n",
    "    if \"Training\" in filename:\n",
    "        dst_base = train_base\n",
    "        set_type = \"Training\"\n",
    "        case_num = parts[2]\n",
    "    elif \"Validation\" in filename:\n",
    "        dst_base = val_base\n",
    "        set_type = \"Validation\"\n",
    "        case_num = parts[2]\n",
    "    else:\n",
    "        continue  # Skip unknown types\n",
    "\n",
    "    # Modality (last part before extension)\n",
    "    modality = parts[-1]\n",
    "\n",
    "    # Make modality folder\n",
    "    dst_folder = os.path.join(dst_base, modality)\n",
    "    os.makedirs(dst_folder, exist_ok=True)\n",
    "\n",
    "    # New filename format\n",
    "    new_filename = f\"BraTS20_{set_type}_{modality}_{case_num}.nii\"\n",
    "    dst_path = os.path.join(dst_folder, new_filename)\n",
    "\n",
    "    # Move file\n",
    "    shutil.move(file_path, dst_path)\n",
    "\n",
    "# Remove empty directories\n",
    "for root, dirs, files in os.walk(src_dir, topdown=False):\n",
    "    for dir_ in dirs:\n",
    "        dir_path = os.path.join(root, dir_)\n",
    "        if not os.listdir(dir_path):  # if empty\n",
    "            os.rmdir(dir_path)\n",
    "\n",
    "print(\"✅ Files moved and old folders cleaned up successfully.\")"
   ],
   "id": "6040ae933cb2a4b2",
   "outputs": [
    {
     "name": "stdout",
     "output_type": "stream",
     "text": [
      "✅ Files moved and old folders cleaned up successfully.\n"
     ]
    }
   ],
   "execution_count": 33
  },
  {
   "metadata": {},
   "cell_type": "markdown",
   "source": [
    " ## 2) Conversion: `.nii` -> `.npy`\n",
    "**Behavior**:\n",
    " - Image volumes saved with dtype `IMAGE_DTYPE`\n",
    " - Segmentation volumes saved with dtype `MASK_DTYPE` (`uint8`).\n",
    " - After successful save, the original `.nii` will be deleted\n"
   ],
   "id": "285a62e24d691733"
  },
  {
   "metadata": {
    "ExecuteTime": {
     "end_time": "2025-08-12T18:39:11.339084Z",
     "start_time": "2025-08-12T18:32:56.770368Z"
    }
   },
   "cell_type": "code",
   "source": [
    "# Dtypes\n",
    "IMAGE_DTYPE = np.float32\n",
    "MASK_DTYPE = np.uint8\n",
    "\n",
    "# Paths to train & val\n",
    "base_dirs = [\"../data/BraTS_2020_Train\", \"../data/BraTS_2020_Val\"]\n",
    "\n",
    "for base_dir in base_dirs:\n",
    "    nii_files = glob(os.path.join(base_dir, \"**\", \"*.nii*\"), recursive=True)\n",
    "    print(f\"Found {len(nii_files)} files in {base_dir}\")\n",
    "\n",
    "    for nii_path in nii_files:\n",
    "        filename = os.path.basename(nii_path).lower()\n",
    "\n",
    "        # Load NIfTI\n",
    "        img = nib.load(nii_path)\n",
    "        data = img.get_fdata()\n",
    "\n",
    "        # Decide dtype: mask or image\n",
    "        if \"segm\" in filename or \"mask\" in filename:\n",
    "            data = data.astype(MASK_DTYPE)  # segmentation mask\n",
    "        else:\n",
    "            data = data.astype(IMAGE_DTYPE)  # MRI scan\n",
    "\n",
    "        # Save as .npy\n",
    "        npy_path = nii_path.rsplit(\".\", 1)[0] + \".npy\"\n",
    "        np.save(npy_path, data)\n",
    "\n",
    "print(\"✅ All files converted to .npy with correct dtypes (images float32, masks uint8).\")\n"
   ],
   "id": "be9347fd321412d0",
   "outputs": [
    {
     "name": "stdout",
     "output_type": "stream",
     "text": [
      "Found 1845 files in ../data/BraTS_2020_Train\n",
      "Found 500 files in ../data/BraTS_2020_Val\n",
      "✅ All files converted to .npy with correct dtypes (images float32, masks uint8).\n"
     ]
    }
   ],
   "execution_count": 35
  },
  {
   "metadata": {
    "ExecuteTime": {
     "end_time": "2025-08-12T18:39:15.591497Z",
     "start_time": "2025-08-12T18:39:15.153951Z"
    }
   },
   "cell_type": "code",
   "source": [
    "for base_dir in base_dirs:\n",
    "    nii_files = glob(os.path.join(base_dir, \"**\", \"*.nii*\"), recursive=True)\n",
    "    print(f\"Found {len(nii_files)} NIfTI files in {base_dir} to remove.\")\n",
    "\n",
    "    for nii_path in nii_files:\n",
    "        os.remove(nii_path)\n",
    "\n",
    "print(\"✅ All .nii and .nii.gz files removed.\")\n"
   ],
   "id": "460d3f8b75fcee77",
   "outputs": [
    {
     "name": "stdout",
     "output_type": "stream",
     "text": [
      "Found 1845 NIfTI files in ../data/BraTS_2020_Train to remove.\n",
      "Found 500 NIfTI files in ../data/BraTS_2020_Val to remove.\n",
      "✅ All .nii and .nii.gz files removed.\n"
     ]
    }
   ],
   "execution_count": 37
  },
  {
   "metadata": {},
   "cell_type": "markdown",
   "source": "## View Samples",
   "id": "9b23b322c6b3becb"
  },
  {
   "metadata": {
    "ExecuteTime": {
     "end_time": "2025-08-12T18:41:42.783704Z",
     "start_time": "2025-08-12T18:41:41.643827Z"
    }
   },
   "cell_type": "code",
   "source": [
    "import numpy as np\n",
    "import matplotlib.pyplot as plt\n",
    "\n",
    "# Path to your npy file (example: flair volume)\n",
    "npy_path = \"../data/BraTS_2020_Train/flair/BraTS20_Training_flair_001.npy\"\n",
    "\n",
    "# Load the MRI volume\n",
    "volume = np.load(npy_path)\n",
    "\n",
    "print(\"Volume shape:\", volume.shape)   # (depth, height, width) or similar\n",
    "\n",
    "# Show a single slice\n",
    "slice_index = volume.shape[0] // 2  # middle slice\n",
    "plt.imshow(volume[slice_index, :, :], cmap=\"gray\")\n",
    "plt.title(f\"Slice {slice_index}\")\n",
    "plt.axis(\"off\")\n",
    "plt.show()\n"
   ],
   "id": "e5a1e055283e4f2e",
   "outputs": [
    {
     "name": "stdout",
     "output_type": "stream",
     "text": [
      "Volume shape: (240, 240, 155)\n"
     ]
    },
    {
     "data": {
      "text/plain": [
       "<Figure size 640x480 with 1 Axes>"
      ],
      "image/png": "[encoded data removed]"
     },
     "metadata": {},
     "output_type": "display_data"
    }
   ],
   "execution_count": 39
  },
  {
   "metadata": {
    "ExecuteTime": {
     "end_time": "2025-08-12T18:43:00.374892Z",
     "start_time": "2025-08-12T18:43:00.236710Z"
    }
   },
   "cell_type": "code",
   "source": [
    "from ipywidgets import interact\n",
    "\n",
    "def view_slice(idx):\n",
    "    plt.imshow(volume[idx, :, :], cmap=\"gray\")\n",
    "    plt.title(f\"Slice {idx}\")\n",
    "    plt.axis(\"off\")\n",
    "    plt.show()\n",
    "\n",
    "interact(view_slice, idx=(0, volume.shape[0]-1))\n"
   ],
   "id": "6caec1246fe5f0ee",
   "outputs": [
    {
     "data": {
      "text/plain": [
       "interactive(children=(IntSlider(value=119, description='idx', max=239), Output()), _dom_classes=('widget-inter…"
      ],
      "application/vnd.jupyter.widget-view+json": {
       "version_major": 2,
       "version_minor": 0,
       "model_id": "997df0338b4b43e7856d35a96c277943"
      }
     },
     "metadata": {},
     "output_type": "display_data"
    },
    {
     "data": {
      "text/plain": [
       "<function __main__.view_slice(idx)>"
      ]
     },
     "execution_count": 40,
     "metadata": {},
     "output_type": "execute_result"
    }
   ],
   "execution_count": 40
  }
 ],
 "metadata": {
  "kernelspec": {
   "display_name": "Python 3",
   "language": "python",
   "name": "python3"
  },
  "language_info": {
   "codemirror_mode": {
    "name": "ipython",
    "version": 2
   },
   "file_extension": ".py",
   "mimetype": "text/x-python",
   "name": "python",
   "nbconvert_exporter": "python",
   "pygments_lexer": "ipython2",
   "version": "2.7.6"
  }
 },
 "nbformat": 4,
 "nbformat_minor": 5
}
