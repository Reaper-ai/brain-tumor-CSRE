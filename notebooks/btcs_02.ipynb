{
 "cells": [
  {
   "metadata": {
    "jupyter": {
     "is_executing": true
    },
    "ExecuteTime": {
     "start_time": "2025-08-24T10:13:11.577764Z"
    }
   },
   "cell_type": "code",
   "source": "!pip install scipy",
   "id": "4b9b0e7195db7ac",
   "outputs": [],
   "execution_count": null
  },
  {
   "metadata": {},
   "cell_type": "code",
   "outputs": [],
   "execution_count": null,
   "source": [
    "import scipy.io\n",
    "import os\n",
    "from PIL import Image\n",
    "import numpy as np\n",
    "import pandas as pd"
   ],
   "id": "ca7ad1805175bf0"
  },
  {
   "cell_type": "code",
   "execution_count": null,
   "id": "initial_id",
   "metadata": {
    "collapsed": true
   },
   "outputs": [],
   "source": [
    "# Example directories\n",
    "mat_dir = \"../data/archive/dataset/data\"\n",
    "image_dir = \"../data/mri_t1_dataset/images\"\n",
    "mask_dir = \"../data/mri_t1_dataset/masks\"\n",
    "\n",
    "labels_map = {1: \"meningioma\", 2: \"glioma\", 3: \"pituitary\"}\n",
    "metadata = []\n",
    "\n",
    "for mat_file in os.listdir(mat_dir):\n",
    "    if mat_file.endswith(\".mat\"):\n",
    "        data = scipy.io.loadmat(os.path.join(mat_dir, mat_file))\n",
    "        cjdata = data['cjdata']\n",
    "\n",
    "        # Extract fields\n",
    "        img = cjdata['image'][0,0]          # 2D array\n",
    "        mask = cjdata['tumorMask'][0,0]     # 2D array\n",
    "        label = int(cjdata['label'][0,0])\n",
    "        pid = int(cjdata['PID'][0,0])\n",
    "\n",
    "        label_name = labels_map[label]\n",
    "\n",
    "        # Create directories if not exist\n",
    "        os.makedirs(os.path.join(image_dir, label_name), exist_ok=True)\n",
    "        os.makedirs(os.path.join(mask_dir, label_name), exist_ok=True)\n",
    "\n",
    "        # Save image and mask as PNG\n",
    "        filename = f\"{mat_file.split('.')[0]}.png\"\n",
    "        Image.fromarray(img).save(os.path.join(image_dir, label_name, filename))\n",
    "        Image.fromarray((mask*255).astype(np.uint8)).save(os.path.join(mask_dir, label_name, filename))\n",
    "\n",
    "        # Add to metadata\n",
    "        metadata.append([filename, label_name, pid])\n",
    "\n",
    "# Save metadata\n",
    "df = pd.DataFrame(metadata, columns=[\"filename\", \"label\", \"PID\"])\n",
    "df.to_csv(\"brain_tumor_dataset/metadata.csv\", index=False)"
   ]
  }
 ],
 "metadata": {
  "kernelspec": {
   "display_name": "Python 3",
   "language": "python",
   "name": "python3"
  },
  "language_info": {
   "codemirror_mode": {
    "name": "ipython",
    "version": 2
   },
   "file_extension": ".py",
   "mimetype": "text/x-python",
   "name": "python",
   "nbconvert_exporter": "python",
   "pygments_lexer": "ipython2",
   "version": "2.7.6"
  }
 },
 "nbformat": 4,
 "nbformat_minor": 5
}
