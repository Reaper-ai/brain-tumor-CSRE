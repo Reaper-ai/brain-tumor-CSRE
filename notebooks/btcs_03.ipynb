{
 "cells": [
  {
   "metadata": {
    "ExecuteTime": {
     "end_time": "2025-08-25T06:12:05.290803Z",
     "start_time": "2025-08-25T06:12:05.286549Z"
    }
   },
   "cell_type": "code",
   "source": [
    "import os\n",
    "import cv2\n",
    "import torch\n",
    "from torch import nn\n",
    "from torch.utils.data import Dataset, DataLoader, random_split\n",
    "import albumentations as A\n",
    "from albumentations.pytorch import ToTensorV2\n",
    "import segmentation_models_pytorch as smp\n",
    "from tqdm import tqdm"
   ],
   "id": "347d62707e3fa370",
   "outputs": [],
   "execution_count": 51
  },
  {
   "metadata": {
    "ExecuteTime": {
     "end_time": "2025-08-25T06:12:05.334773Z",
     "start_time": "2025-08-25T06:12:05.324407Z"
    }
   },
   "cell_type": "code",
   "source": [
    "class BrainMRIDataset(Dataset):\n",
    "    def __init__(self, image_dir, mask_dir, augment=False):\n",
    "        self.image_dir = image_dir\n",
    "        self.mask_dir = mask_dir\n",
    "        self.images = sorted(os.listdir(image_dir))\n",
    "        self.masks = sorted(os.listdir(mask_dir))\n",
    "\n",
    "        self.transform = A.Compose([\n",
    "            A.Resize(256, 256),\n",
    "            A.HorizontalFlip(p=0.5),\n",
    "            A.RandomRotate90(p=0.5),\n",
    "            A.ShiftScaleRotate(p=0.2),\n",
    "            A.Normalize(mean=(0.5,), std=(0.5,)),\n",
    "            ToTensorV2()\n",
    "        ]) if augment else A.Compose([\n",
    "            A.Resize(256, 256),\n",
    "            A.Normalize(mean=(0.5,), std=(0.5,)),\n",
    "            ToTensorV2()\n",
    "        ])\n",
    "\n",
    "    def __len__(self):\n",
    "        return len(self.images)\n",
    "\n",
    "    def __getitem__(self, idx):\n",
    "        img_path = os.path.join(self.image_dir, self.images[idx])\n",
    "        mask_path = os.path.join(self.mask_dir, self.masks[idx])\n",
    "\n",
    "        # load\n",
    "        image = cv2.imread(img_path, cv2.IMREAD_GRAYSCALE)\n",
    "        mask = cv2.imread(mask_path, cv2.IMREAD_GRAYSCALE)\n",
    "\n",
    "        # resize\n",
    "        image = cv2.resize(image, (256, 256))\n",
    "        mask = cv2.resize(mask, (256, 256), interpolation=cv2.INTER_NEAREST)\n",
    "\n",
    "        # apply augmentations\n",
    "        augmented = self.transform(image=image, mask=mask)\n",
    "        image = augmented[\"image\"]\n",
    "        mask = augmented[\"mask\"]\n",
    "\n",
    "        # convert to tensors\n",
    "        image = image.float() / 255.0  # [1,H,W]\n",
    "\n",
    "        # map mask to 0..3\n",
    "        mask = (mask // 85).long()\n",
    "\n",
    "        return image, mask\n",
    "\n"
   ],
   "id": "267a9e5433911b9d",
   "outputs": [],
   "execution_count": 52
  },
  {
   "metadata": {
    "ExecuteTime": {
     "end_time": "2025-08-25T06:12:05.349039Z",
     "start_time": "2025-08-25T06:12:05.345819Z"
    }
   },
   "cell_type": "code",
   "source": [
    "def get_model():\n",
    "    model = smp.Unet(\n",
    "    encoder_name=\"resnet18\",\n",
    "    encoder_weights=\"imagenet\",\n",
    "    in_channels=1,\n",
    "    classes=4\n",
    "    )\n",
    "    return model"
   ],
   "id": "b581f72ca4a70699",
   "outputs": [],
   "execution_count": 53
  },
  {
   "metadata": {
    "ExecuteTime": {
     "end_time": "2025-08-25T06:12:05.368567Z",
     "start_time": "2025-08-25T06:12:05.360561Z"
    }
   },
   "cell_type": "code",
   "source": [
    "def dice_loss(pred, target, num_classes=4, smooth=1e-5):\n",
    "    pred = torch.softmax(pred, dim=1)   # [B,C,H,W]\n",
    "    target_onehot = torch.nn.functional.one_hot(target, num_classes).permute(0,3,1,2).float()\n",
    "\n",
    "    dims = (0,2,3)\n",
    "    intersection = (pred * target_onehot).sum(dims)\n",
    "    cardinality = pred.sum(dims) + target_onehot.sum(dims)\n",
    "    dice = (2. * intersection + smooth) / (cardinality + smooth)\n",
    "    return 1 - dice.mean()\n",
    "\n",
    "def dice_score(outputs, targets, num_classes=4, epsilon=1e-7):\n",
    "    \"\"\" Multi-class Dice score (macro average). \"\"\"\n",
    "    outputs = torch.softmax(outputs, dim=1)      # [B, C, H, W]\n",
    "    preds = torch.argmax(outputs, dim=1)         # [B, H, W]\n",
    "\n",
    "    dice_per_class = []\n",
    "    for cls in range(num_classes):\n",
    "        pred_cls = (preds == cls).float()\n",
    "        true_cls = (targets == cls).float()\n",
    "\n",
    "        intersection = (pred_cls * true_cls).sum()\n",
    "        union = pred_cls.sum() + true_cls.sum()\n",
    "\n",
    "        dice = (2 * intersection + epsilon) / (union + epsilon)\n",
    "        dice_per_class.append(dice.item())\n",
    "\n",
    "    return sum(dice_per_class) / num_classes\n",
    "\n",
    "\n",
    "def iou_score(outputs, targets, num_classes=4, epsilon=1e-7):\n",
    "    \"\"\" Multi-class IoU (macro average). \"\"\"\n",
    "    outputs = torch.softmax(outputs, dim=1)\n",
    "    preds = torch.argmax(outputs, dim=1)\n",
    "\n",
    "    iou_per_class = []\n",
    "    for cls in range(num_classes):\n",
    "        pred_cls = (preds == cls).float()\n",
    "        true_cls = (targets == cls).float()\n",
    "\n",
    "        intersection = (pred_cls * true_cls).sum()\n",
    "        union = pred_cls.sum() + true_cls.sum() - intersection\n",
    "\n",
    "        iou = (intersection + epsilon) / (union + epsilon)\n",
    "        iou_per_class.append(iou.item())\n",
    "\n",
    "    return sum(iou_per_class) / num_classes\n",
    "\n",
    "ce_loss = nn.CrossEntropyLoss()\n",
    "\n",
    "def ce_dice_loss(pred, target):\n",
    "    return ce_loss(pred, target) + dice_loss(pred, target)\n"
   ],
   "id": "412c4a6570d7bc1c",
   "outputs": [],
   "execution_count": 54
  },
  {
   "metadata": {
    "ExecuteTime": {
     "end_time": "2025-08-25T06:12:05.384166Z",
     "start_time": "2025-08-25T06:12:05.377783Z"
    }
   },
   "cell_type": "code",
   "source": [
    "def train_model(model, modality, train_loader, val_loader, optimizer, epochs, device, best_loss=1):\n",
    "    history = {\"train_loss\": [], \"val_loss\": [], \"val_dice\": [], 'val_iou': []}\n",
    "\n",
    "    for epoch in range(epochs):\n",
    "        # ---- Training ----\n",
    "        model.train()\n",
    "        running_loss = 0.0\n",
    "        with tqdm(total=len(train_loader), desc=f\"Epoch {epoch+1}/{epochs}\", unit=\"batch\") as pbar:\n",
    "            for imgs, masks in train_loader:\n",
    "                imgs, masks = imgs.to(device), masks.to(device)\n",
    "\n",
    "                optimizer.zero_grad()\n",
    "                outputs = model(imgs)\n",
    "                loss = ce_dice_loss(outputs, masks)\n",
    "                loss.backward()\n",
    "\n",
    "                optimizer.step()\n",
    "\n",
    "                running_loss += loss.item()\n",
    "                pbar.update(1)\n",
    "\n",
    "        avg_train_loss = running_loss / len(train_loader)\n",
    "\n",
    "        # ---- Validation ----\n",
    "        model.eval()\n",
    "        val_loss, val_dice, val_iou = 0.0, 0.0, 0.0\n",
    "        with torch.no_grad():\n",
    "            for imgs, masks in val_loader:\n",
    "                imgs, masks = imgs.to(device), masks.to(device)\n",
    "                outputs = model(imgs)\n",
    "\n",
    "                loss = ce_dice_loss(outputs, masks)\n",
    "                val_loss += loss.item()\n",
    "                val_dice += dice_score(outputs, masks)\n",
    "                val_iou += iou_score(outputs, masks)\n",
    "\n",
    "        avg_val_loss = val_loss / len(val_loader)\n",
    "        avg_val_dice = val_dice / len(val_loader)\n",
    "        avg_val_iou  = val_iou / len(val_loader)\n",
    "\n",
    "        history[\"train_loss\"].append(avg_train_loss)\n",
    "        history[\"val_loss\"].append(avg_val_loss)\n",
    "        history[\"val_dice\"].append(avg_val_dice)\n",
    "        history[\"val_iou\"].append(avg_val_iou)\n",
    "\n",
    "        print(f\"Epoch {epoch+1}/{epochs} \"\n",
    "              f\"- Train Loss: {avg_train_loss:.4f} \"\n",
    "              f\"- Val Loss: {avg_val_loss:.4f} \"\n",
    "              f\"- Val Dice: {avg_val_dice:.4f} \"\n",
    "              f\"- Val IoU: {avg_val_iou:.4f}\")\n",
    "\n",
    "\n",
    "        if avg_val_loss < best_loss:\n",
    "            best_loss = avg_val_loss\n",
    "            save_path = os.path.join(\"..\", \"weights\", f\"{modality}_unet_resnet18.pth\")\n",
    "            torch.save(model.state_dict(), save_path)\n",
    "\n",
    "\n",
    "    return history"
   ],
   "id": "c187396d9eed33d2",
   "outputs": [],
   "execution_count": 55
  },
  {
   "metadata": {
    "ExecuteTime": {
     "end_time": "2025-08-25T06:12:05.404287Z",
     "start_time": "2025-08-25T06:12:05.399286Z"
    }
   },
   "cell_type": "code",
   "source": [
    "def train_one_modality(modality, root_dir=\"../data/dataset\", epochs=10, batch_size=8, lr=1e-4, device=\"cuda\"):\n",
    "    img_dir = os.path.join(root_dir, modality, \"images\")\n",
    "    mask_dir = os.path.join(root_dir, modality, \"masks\")\n",
    "\n",
    "    dataset = BrainMRIDataset(img_dir, mask_dir, augment=True)\n",
    "    val_size = int(0.2 * len(dataset))\n",
    "    train_size = len(dataset) - val_size\n",
    "    train_ds, val_ds = random_split(dataset, [train_size, val_size])\n",
    "\n",
    "    train_loader = DataLoader(train_ds, batch_size=batch_size, shuffle=True)\n",
    "    val_loader = DataLoader(val_ds, batch_size=batch_size, shuffle=False)\n",
    "\n",
    "    model = get_model().to(device)\n",
    "    optimizer = torch.optim.Adam(model.parameters(), lr=lr)\n",
    "\n",
    "    return train_model(model, modality, train_loader, val_loader, optimizer, epochs, device)\n"
   ],
   "id": "57bd1a184b89c9b4",
   "outputs": [],
   "execution_count": 56
  },
  {
   "metadata": {
    "ExecuteTime": {
     "end_time": "2025-08-25T07:39:05.975759Z",
     "start_time": "2025-08-25T06:12:05.413318Z"
    }
   },
   "cell_type": "code",
   "source": [
    "histories = {}\n",
    "modalities = [\"flair\", \"t1\", \"t1ce\", \"t2\"]\n",
    "\n",
    "for m in modalities:\n",
    "    hist = train_one_modality(m, epochs=20, batch_size=8, lr=1e-4)\n",
    "    histories[m] = hist\n",
    "    print(f\"\\nfinished training {m}\\n\")"
   ],
   "id": "7d2420406688a080",
   "outputs": [
    {
     "name": "stderr",
     "output_type": "stream",
     "text": [
      "Epoch 1/20: 100%|██████████| 543/543 [00:50<00:00, 10.80batch/s]\n"
     ]
    },
    {
     "name": "stdout",
     "output_type": "stream",
     "text": [
      "Epoch 1/20 - Train Loss: 1.0139 - Val Loss: 0.7081 - Val Dice: 0.4804 - Val IoU: 0.3970\n"
     ]
    },
    {
     "name": "stderr",
     "output_type": "stream",
     "text": [
      "Epoch 2/20: 100%|██████████| 543/543 [00:53<00:00, 10.16batch/s]\n"
     ]
    },
    {
     "name": "stdout",
     "output_type": "stream",
     "text": [
      "Epoch 2/20 - Train Loss: 0.6254 - Val Loss: 0.5949 - Val Dice: 0.5118 - Val IoU: 0.4207\n"
     ]
    },
    {
     "name": "stderr",
     "output_type": "stream",
     "text": [
      "Epoch 3/20: 100%|██████████| 543/543 [00:52<00:00, 10.35batch/s]\n"
     ]
    },
    {
     "name": "stdout",
     "output_type": "stream",
     "text": [
      "Epoch 3/20 - Train Loss: 0.5572 - Val Loss: 0.5414 - Val Dice: 0.5307 - Val IoU: 0.4393\n"
     ]
    },
    {
     "name": "stderr",
     "output_type": "stream",
     "text": [
      "Epoch 4/20: 100%|██████████| 543/543 [00:51<00:00, 10.49batch/s]\n"
     ]
    },
    {
     "name": "stdout",
     "output_type": "stream",
     "text": [
      "Epoch 4/20 - Train Loss: 0.5208 - Val Loss: 0.5174 - Val Dice: 0.5573 - Val IoU: 0.4589\n"
     ]
    },
    {
     "name": "stderr",
     "output_type": "stream",
     "text": [
      "Epoch 5/20: 100%|██████████| 543/543 [00:52<00:00, 10.31batch/s]\n"
     ]
    },
    {
     "name": "stdout",
     "output_type": "stream",
     "text": [
      "Epoch 5/20 - Train Loss: 0.5089 - Val Loss: 0.4992 - Val Dice: 0.5723 - Val IoU: 0.4731\n"
     ]
    },
    {
     "name": "stderr",
     "output_type": "stream",
     "text": [
      "Epoch 6/20: 100%|██████████| 543/543 [00:52<00:00, 10.29batch/s]\n"
     ]
    },
    {
     "name": "stdout",
     "output_type": "stream",
     "text": [
      "Epoch 6/20 - Train Loss: 0.4912 - Val Loss: 0.4833 - Val Dice: 0.5851 - Val IoU: 0.4826\n"
     ]
    },
    {
     "name": "stderr",
     "output_type": "stream",
     "text": [
      "Epoch 7/20: 100%|██████████| 543/543 [00:53<00:00, 10.16batch/s]\n"
     ]
    },
    {
     "name": "stdout",
     "output_type": "stream",
     "text": [
      "Epoch 7/20 - Train Loss: 0.4804 - Val Loss: 0.4918 - Val Dice: 0.5794 - Val IoU: 0.4770\n"
     ]
    },
    {
     "name": "stderr",
     "output_type": "stream",
     "text": [
      "Epoch 8/20: 100%|██████████| 543/543 [00:52<00:00, 10.27batch/s]\n"
     ]
    },
    {
     "name": "stdout",
     "output_type": "stream",
     "text": [
      "Epoch 8/20 - Train Loss: 0.4791 - Val Loss: 0.4721 - Val Dice: 0.5917 - Val IoU: 0.4890\n"
     ]
    },
    {
     "name": "stderr",
     "output_type": "stream",
     "text": [
      "Epoch 9/20: 100%|██████████| 543/543 [00:49<00:00, 10.94batch/s]\n"
     ]
    },
    {
     "name": "stdout",
     "output_type": "stream",
     "text": [
      "Epoch 9/20 - Train Loss: 0.4720 - Val Loss: 0.4811 - Val Dice: 0.5857 - Val IoU: 0.4846\n"
     ]
    },
    {
     "name": "stderr",
     "output_type": "stream",
     "text": [
      "Epoch 10/20: 100%|██████████| 543/543 [00:49<00:00, 10.90batch/s]\n"
     ]
    },
    {
     "name": "stdout",
     "output_type": "stream",
     "text": [
      "Epoch 10/20 - Train Loss: 0.4678 - Val Loss: 0.4873 - Val Dice: 0.5826 - Val IoU: 0.4839\n"
     ]
    },
    {
     "name": "stderr",
     "output_type": "stream",
     "text": [
      "Epoch 11/20: 100%|██████████| 543/543 [00:52<00:00, 10.43batch/s]\n"
     ]
    },
    {
     "name": "stdout",
     "output_type": "stream",
     "text": [
      "Epoch 11/20 - Train Loss: 0.4534 - Val Loss: 0.5037 - Val Dice: 0.5651 - Val IoU: 0.4707\n"
     ]
    },
    {
     "name": "stderr",
     "output_type": "stream",
     "text": [
      "Epoch 12/20: 100%|██████████| 543/543 [00:52<00:00, 10.42batch/s]\n"
     ]
    },
    {
     "name": "stdout",
     "output_type": "stream",
     "text": [
      "Epoch 12/20 - Train Loss: 0.4487 - Val Loss: 0.4591 - Val Dice: 0.6068 - Val IoU: 0.5023\n"
     ]
    },
    {
     "name": "stderr",
     "output_type": "stream",
     "text": [
      "Epoch 13/20: 100%|██████████| 543/543 [00:53<00:00, 10.24batch/s]\n"
     ]
    },
    {
     "name": "stdout",
     "output_type": "stream",
     "text": [
      "Epoch 13/20 - Train Loss: 0.4466 - Val Loss: 0.4627 - Val Dice: 0.5987 - Val IoU: 0.4976\n"
     ]
    },
    {
     "name": "stderr",
     "output_type": "stream",
     "text": [
      "Epoch 14/20: 100%|██████████| 543/543 [01:01<00:00,  8.86batch/s]\n"
     ]
    },
    {
     "name": "stdout",
     "output_type": "stream",
     "text": [
      "Epoch 14/20 - Train Loss: 0.4387 - Val Loss: 0.4682 - Val Dice: 0.5991 - Val IoU: 0.4982\n"
     ]
    },
    {
     "name": "stderr",
     "output_type": "stream",
     "text": [
      "Epoch 15/20: 100%|██████████| 543/543 [00:57<00:00,  9.41batch/s]\n"
     ]
    },
    {
     "name": "stdout",
     "output_type": "stream",
     "text": [
      "Epoch 15/20 - Train Loss: 0.4409 - Val Loss: 0.4721 - Val Dice: 0.5950 - Val IoU: 0.4952\n"
     ]
    },
    {
     "name": "stderr",
     "output_type": "stream",
     "text": [
      "Epoch 16/20: 100%|██████████| 543/543 [00:58<00:00,  9.31batch/s]\n"
     ]
    },
    {
     "name": "stdout",
     "output_type": "stream",
     "text": [
      "Epoch 16/20 - Train Loss: 0.4313 - Val Loss: 0.4370 - Val Dice: 0.6262 - Val IoU: 0.5222\n"
     ]
    },
    {
     "name": "stderr",
     "output_type": "stream",
     "text": [
      "Epoch 17/20: 100%|██████████| 543/543 [01:04<00:00,  8.38batch/s]\n"
     ]
    },
    {
     "name": "stdout",
     "output_type": "stream",
     "text": [
      "Epoch 17/20 - Train Loss: 0.4328 - Val Loss: 0.4565 - Val Dice: 0.6069 - Val IoU: 0.5058\n"
     ]
    },
    {
     "name": "stderr",
     "output_type": "stream",
     "text": [
      "Epoch 18/20: 100%|██████████| 543/543 [00:59<00:00,  9.18batch/s]\n"
     ]
    },
    {
     "name": "stdout",
     "output_type": "stream",
     "text": [
      "Epoch 18/20 - Train Loss: 0.4325 - Val Loss: 0.4470 - Val Dice: 0.6184 - Val IoU: 0.5135\n"
     ]
    },
    {
     "name": "stderr",
     "output_type": "stream",
     "text": [
      "Epoch 19/20: 100%|██████████| 543/543 [01:02<00:00,  8.67batch/s]\n"
     ]
    },
    {
     "name": "stdout",
     "output_type": "stream",
     "text": [
      "Epoch 19/20 - Train Loss: 0.4240 - Val Loss: 0.4407 - Val Dice: 0.6218 - Val IoU: 0.5172\n"
     ]
    },
    {
     "name": "stderr",
     "output_type": "stream",
     "text": [
      "Epoch 20/20: 100%|██████████| 543/543 [00:58<00:00,  9.34batch/s]\n"
     ]
    },
    {
     "name": "stdout",
     "output_type": "stream",
     "text": [
      "Epoch 20/20 - Train Loss: 0.4287 - Val Loss: 0.4498 - Val Dice: 0.6119 - Val IoU: 0.5123\n",
      "\n",
      "finished training flair\n",
      "\n"
     ]
    },
    {
     "name": "stderr",
     "output_type": "stream",
     "text": [
      "Epoch 1/20: 100%|██████████| 544/544 [01:05<00:00,  8.32batch/s]\n"
     ]
    },
    {
     "name": "stdout",
     "output_type": "stream",
     "text": [
      "Epoch 1/20 - Train Loss: 1.0532 - Val Loss: 0.7709 - Val Dice: 0.3849 - Val IoU: 0.3319\n"
     ]
    },
    {
     "name": "stderr",
     "output_type": "stream",
     "text": [
      "Epoch 2/20: 100%|██████████| 544/544 [00:58<00:00,  9.26batch/s]\n"
     ]
    },
    {
     "name": "stdout",
     "output_type": "stream",
     "text": [
      "Epoch 2/20 - Train Loss: 0.7023 - Val Loss: 0.6631 - Val Dice: 0.4484 - Val IoU: 0.3730\n"
     ]
    },
    {
     "name": "stderr",
     "output_type": "stream",
     "text": [
      "Epoch 3/20: 100%|██████████| 544/544 [01:00<00:00,  9.01batch/s]\n"
     ]
    },
    {
     "name": "stdout",
     "output_type": "stream",
     "text": [
      "Epoch 3/20 - Train Loss: 0.6333 - Val Loss: 0.6255 - Val Dice: 0.4751 - Val IoU: 0.3939\n"
     ]
    },
    {
     "name": "stderr",
     "output_type": "stream",
     "text": [
      "Epoch 4/20: 100%|██████████| 544/544 [00:57<00:00,  9.39batch/s]\n"
     ]
    },
    {
     "name": "stdout",
     "output_type": "stream",
     "text": [
      "Epoch 4/20 - Train Loss: 0.6021 - Val Loss: 0.5920 - Val Dice: 0.5037 - Val IoU: 0.4169\n"
     ]
    },
    {
     "name": "stderr",
     "output_type": "stream",
     "text": [
      "Epoch 5/20: 100%|██████████| 544/544 [00:56<00:00,  9.57batch/s]\n"
     ]
    },
    {
     "name": "stdout",
     "output_type": "stream",
     "text": [
      "Epoch 5/20 - Train Loss: 0.5855 - Val Loss: 0.5805 - Val Dice: 0.5114 - Val IoU: 0.4205\n"
     ]
    },
    {
     "name": "stderr",
     "output_type": "stream",
     "text": [
      "Epoch 6/20: 100%|██████████| 544/544 [00:54<00:00,  9.96batch/s]\n"
     ]
    },
    {
     "name": "stdout",
     "output_type": "stream",
     "text": [
      "Epoch 6/20 - Train Loss: 0.5674 - Val Loss: 0.5829 - Val Dice: 0.5110 - Val IoU: 0.4229\n"
     ]
    },
    {
     "name": "stderr",
     "output_type": "stream",
     "text": [
      "Epoch 7/20: 100%|██████████| 544/544 [00:56<00:00,  9.66batch/s]\n"
     ]
    },
    {
     "name": "stdout",
     "output_type": "stream",
     "text": [
      "Epoch 7/20 - Train Loss: 0.5617 - Val Loss: 0.5601 - Val Dice: 0.5268 - Val IoU: 0.4338\n"
     ]
    },
    {
     "name": "stderr",
     "output_type": "stream",
     "text": [
      "Epoch 8/20: 100%|██████████| 544/544 [00:57<00:00,  9.50batch/s]\n"
     ]
    },
    {
     "name": "stdout",
     "output_type": "stream",
     "text": [
      "Epoch 8/20 - Train Loss: 0.5491 - Val Loss: 0.5746 - Val Dice: 0.5187 - Val IoU: 0.4304\n"
     ]
    },
    {
     "name": "stderr",
     "output_type": "stream",
     "text": [
      "Epoch 9/20: 100%|██████████| 544/544 [00:55<00:00,  9.75batch/s]\n"
     ]
    },
    {
     "name": "stdout",
     "output_type": "stream",
     "text": [
      "Epoch 9/20 - Train Loss: 0.5395 - Val Loss: 0.5587 - Val Dice: 0.5315 - Val IoU: 0.4397\n"
     ]
    },
    {
     "name": "stderr",
     "output_type": "stream",
     "text": [
      "Epoch 10/20: 100%|██████████| 544/544 [00:59<00:00,  9.16batch/s]\n"
     ]
    },
    {
     "name": "stdout",
     "output_type": "stream",
     "text": [
      "Epoch 10/20 - Train Loss: 0.5424 - Val Loss: 0.5537 - Val Dice: 0.5342 - Val IoU: 0.4427\n"
     ]
    },
    {
     "name": "stderr",
     "output_type": "stream",
     "text": [
      "Epoch 11/20: 100%|██████████| 544/544 [00:55<00:00,  9.78batch/s]\n"
     ]
    },
    {
     "name": "stdout",
     "output_type": "stream",
     "text": [
      "Epoch 11/20 - Train Loss: 0.5299 - Val Loss: 0.5768 - Val Dice: 0.5162 - Val IoU: 0.4275\n"
     ]
    },
    {
     "name": "stderr",
     "output_type": "stream",
     "text": [
      "Epoch 12/20: 100%|██████████| 544/544 [00:54<00:00,  9.90batch/s]\n"
     ]
    },
    {
     "name": "stdout",
     "output_type": "stream",
     "text": [
      "Epoch 12/20 - Train Loss: 0.5240 - Val Loss: 0.5532 - Val Dice: 0.5329 - Val IoU: 0.4411\n"
     ]
    },
    {
     "name": "stderr",
     "output_type": "stream",
     "text": [
      "Epoch 13/20: 100%|██████████| 544/544 [00:54<00:00,  9.91batch/s]\n"
     ]
    },
    {
     "name": "stdout",
     "output_type": "stream",
     "text": [
      "Epoch 13/20 - Train Loss: 0.5166 - Val Loss: 0.5730 - Val Dice: 0.5199 - Val IoU: 0.4287\n"
     ]
    },
    {
     "name": "stderr",
     "output_type": "stream",
     "text": [
      "Epoch 14/20: 100%|██████████| 544/544 [00:56<00:00,  9.65batch/s]\n"
     ]
    },
    {
     "name": "stdout",
     "output_type": "stream",
     "text": [
      "Epoch 14/20 - Train Loss: 0.5209 - Val Loss: 0.5400 - Val Dice: 0.5455 - Val IoU: 0.4498\n"
     ]
    },
    {
     "name": "stderr",
     "output_type": "stream",
     "text": [
      "Epoch 15/20: 100%|██████████| 544/544 [00:57<00:00,  9.43batch/s]\n"
     ]
    },
    {
     "name": "stdout",
     "output_type": "stream",
     "text": [
      "Epoch 15/20 - Train Loss: 0.5083 - Val Loss: 0.5352 - Val Dice: 0.5505 - Val IoU: 0.4545\n"
     ]
    },
    {
     "name": "stderr",
     "output_type": "stream",
     "text": [
      "Epoch 16/20: 100%|██████████| 544/544 [01:05<00:00,  8.25batch/s]\n"
     ]
    },
    {
     "name": "stdout",
     "output_type": "stream",
     "text": [
      "Epoch 16/20 - Train Loss: 0.5032 - Val Loss: 0.5550 - Val Dice: 0.5357 - Val IoU: 0.4414\n"
     ]
    },
    {
     "name": "stderr",
     "output_type": "stream",
     "text": [
      "Epoch 17/20: 100%|██████████| 544/544 [01:06<00:00,  8.14batch/s]\n"
     ]
    },
    {
     "name": "stdout",
     "output_type": "stream",
     "text": [
      "Epoch 17/20 - Train Loss: 0.5077 - Val Loss: 0.5449 - Val Dice: 0.5405 - Val IoU: 0.4472\n"
     ]
    },
    {
     "name": "stderr",
     "output_type": "stream",
     "text": [
      "Epoch 18/20: 100%|██████████| 544/544 [01:13<00:00,  7.39batch/s]\n"
     ]
    },
    {
     "name": "stdout",
     "output_type": "stream",
     "text": [
      "Epoch 18/20 - Train Loss: 0.4984 - Val Loss: 0.5469 - Val Dice: 0.5373 - Val IoU: 0.4427\n"
     ]
    },
    {
     "name": "stderr",
     "output_type": "stream",
     "text": [
      "Epoch 19/20: 100%|██████████| 544/544 [01:05<00:00,  8.27batch/s]\n"
     ]
    },
    {
     "name": "stdout",
     "output_type": "stream",
     "text": [
      "Epoch 19/20 - Train Loss: 0.4947 - Val Loss: 0.5506 - Val Dice: 0.5409 - Val IoU: 0.4469\n"
     ]
    },
    {
     "name": "stderr",
     "output_type": "stream",
     "text": [
      "Epoch 20/20: 100%|██████████| 544/544 [01:12<00:00,  7.49batch/s]\n"
     ]
    },
    {
     "name": "stdout",
     "output_type": "stream",
     "text": [
      "Epoch 20/20 - Train Loss: 0.4814 - Val Loss: 0.5362 - Val Dice: 0.5520 - Val IoU: 0.4584\n",
      "\n",
      "finished training t1\n",
      "\n"
     ]
    },
    {
     "name": "stderr",
     "output_type": "stream",
     "text": [
      "Epoch 1/20: 100%|██████████| 544/544 [01:26<00:00,  6.29batch/s]\n"
     ]
    },
    {
     "name": "stdout",
     "output_type": "stream",
     "text": [
      "Epoch 1/20 - Train Loss: 0.9925 - Val Loss: 0.7143 - Val Dice: 0.4949 - Val IoU: 0.4100\n"
     ]
    },
    {
     "name": "stderr",
     "output_type": "stream",
     "text": [
      "Epoch 2/20: 100%|██████████| 544/544 [01:01<00:00,  8.91batch/s]\n"
     ]
    },
    {
     "name": "stdout",
     "output_type": "stream",
     "text": [
      "Epoch 2/20 - Train Loss: 0.5868 - Val Loss: 0.5380 - Val Dice: 0.5961 - Val IoU: 0.4995\n"
     ]
    },
    {
     "name": "stderr",
     "output_type": "stream",
     "text": [
      "Epoch 3/20: 100%|██████████| 544/544 [01:00<00:00,  8.93batch/s]\n"
     ]
    },
    {
     "name": "stdout",
     "output_type": "stream",
     "text": [
      "Epoch 3/20 - Train Loss: 0.4859 - Val Loss: 0.4878 - Val Dice: 0.6121 - Val IoU: 0.5101\n"
     ]
    },
    {
     "name": "stderr",
     "output_type": "stream",
     "text": [
      "Epoch 4/20: 100%|██████████| 544/544 [01:01<00:00,  8.80batch/s]\n"
     ]
    },
    {
     "name": "stdout",
     "output_type": "stream",
     "text": [
      "Epoch 4/20 - Train Loss: 0.4500 - Val Loss: 0.4753 - Val Dice: 0.6231 - Val IoU: 0.5204\n"
     ]
    },
    {
     "name": "stderr",
     "output_type": "stream",
     "text": [
      "Epoch 5/20: 100%|██████████| 544/544 [01:01<00:00,  8.91batch/s]\n"
     ]
    },
    {
     "name": "stdout",
     "output_type": "stream",
     "text": [
      "Epoch 5/20 - Train Loss: 0.4382 - Val Loss: 0.4611 - Val Dice: 0.6315 - Val IoU: 0.5270\n"
     ]
    },
    {
     "name": "stderr",
     "output_type": "stream",
     "text": [
      "Epoch 6/20: 100%|██████████| 544/544 [01:01<00:00,  8.89batch/s]\n"
     ]
    },
    {
     "name": "stdout",
     "output_type": "stream",
     "text": [
      "Epoch 6/20 - Train Loss: 0.4282 - Val Loss: 0.4876 - Val Dice: 0.6152 - Val IoU: 0.5126\n"
     ]
    },
    {
     "name": "stderr",
     "output_type": "stream",
     "text": [
      "Epoch 7/20: 100%|██████████| 544/544 [01:09<00:00,  7.82batch/s]\n"
     ]
    },
    {
     "name": "stdout",
     "output_type": "stream",
     "text": [
      "Epoch 7/20 - Train Loss: 0.4207 - Val Loss: 0.4422 - Val Dice: 0.6522 - Val IoU: 0.5501\n"
     ]
    },
    {
     "name": "stderr",
     "output_type": "stream",
     "text": [
      "Epoch 8/20: 100%|██████████| 544/544 [00:57<00:00,  9.49batch/s]\n"
     ]
    },
    {
     "name": "stdout",
     "output_type": "stream",
     "text": [
      "Epoch 8/20 - Train Loss: 0.4093 - Val Loss: 0.4360 - Val Dice: 0.6525 - Val IoU: 0.5503\n"
     ]
    },
    {
     "name": "stderr",
     "output_type": "stream",
     "text": [
      "Epoch 9/20: 100%|██████████| 544/544 [00:54<00:00,  9.92batch/s]\n"
     ]
    },
    {
     "name": "stdout",
     "output_type": "stream",
     "text": [
      "Epoch 9/20 - Train Loss: 0.4055 - Val Loss: 0.4158 - Val Dice: 0.6718 - Val IoU: 0.5700\n"
     ]
    },
    {
     "name": "stderr",
     "output_type": "stream",
     "text": [
      "Epoch 10/20: 100%|██████████| 544/544 [01:06<00:00,  8.18batch/s]\n"
     ]
    },
    {
     "name": "stdout",
     "output_type": "stream",
     "text": [
      "Epoch 10/20 - Train Loss: 0.4004 - Val Loss: 0.4231 - Val Dice: 0.6649 - Val IoU: 0.5623\n"
     ]
    },
    {
     "name": "stderr",
     "output_type": "stream",
     "text": [
      "Epoch 11/20: 100%|██████████| 544/544 [00:59<00:00,  9.17batch/s]\n"
     ]
    },
    {
     "name": "stdout",
     "output_type": "stream",
     "text": [
      "Epoch 11/20 - Train Loss: 0.3951 - Val Loss: 0.4228 - Val Dice: 0.6727 - Val IoU: 0.5711\n"
     ]
    },
    {
     "name": "stderr",
     "output_type": "stream",
     "text": [
      "Epoch 12/20: 100%|██████████| 544/544 [01:01<00:00,  8.80batch/s]\n"
     ]
    },
    {
     "name": "stdout",
     "output_type": "stream",
     "text": [
      "Epoch 12/20 - Train Loss: 0.4009 - Val Loss: 0.4398 - Val Dice: 0.6422 - Val IoU: 0.5386\n"
     ]
    },
    {
     "name": "stderr",
     "output_type": "stream",
     "text": [
      "Epoch 13/20: 100%|██████████| 544/544 [01:08<00:00,  7.90batch/s]\n"
     ]
    },
    {
     "name": "stdout",
     "output_type": "stream",
     "text": [
      "Epoch 13/20 - Train Loss: 0.4007 - Val Loss: 0.4069 - Val Dice: 0.6763 - Val IoU: 0.5714\n"
     ]
    },
    {
     "name": "stderr",
     "output_type": "stream",
     "text": [
      "Epoch 14/20: 100%|██████████| 544/544 [01:06<00:00,  8.18batch/s]\n"
     ]
    },
    {
     "name": "stdout",
     "output_type": "stream",
     "text": [
      "Epoch 14/20 - Train Loss: 0.3908 - Val Loss: 0.4179 - Val Dice: 0.6703 - Val IoU: 0.5683\n"
     ]
    },
    {
     "name": "stderr",
     "output_type": "stream",
     "text": [
      "Epoch 15/20: 100%|██████████| 544/544 [00:57<00:00,  9.51batch/s]\n"
     ]
    },
    {
     "name": "stdout",
     "output_type": "stream",
     "text": [
      "Epoch 15/20 - Train Loss: 0.3872 - Val Loss: 0.4222 - Val Dice: 0.6621 - Val IoU: 0.5598\n"
     ]
    },
    {
     "name": "stderr",
     "output_type": "stream",
     "text": [
      "Epoch 16/20: 100%|██████████| 544/544 [00:52<00:00, 10.30batch/s]\n"
     ]
    },
    {
     "name": "stdout",
     "output_type": "stream",
     "text": [
      "Epoch 16/20 - Train Loss: 0.3774 - Val Loss: 0.4244 - Val Dice: 0.6642 - Val IoU: 0.5634\n"
     ]
    },
    {
     "name": "stderr",
     "output_type": "stream",
     "text": [
      "Epoch 17/20: 100%|██████████| 544/544 [00:53<00:00, 10.17batch/s]\n"
     ]
    },
    {
     "name": "stdout",
     "output_type": "stream",
     "text": [
      "Epoch 17/20 - Train Loss: 0.3663 - Val Loss: 0.3924 - Val Dice: 0.6906 - Val IoU: 0.5859\n"
     ]
    },
    {
     "name": "stderr",
     "output_type": "stream",
     "text": [
      "Epoch 18/20: 100%|██████████| 544/544 [00:56<00:00,  9.68batch/s]\n"
     ]
    },
    {
     "name": "stdout",
     "output_type": "stream",
     "text": [
      "Epoch 18/20 - Train Loss: 0.3664 - Val Loss: 0.3927 - Val Dice: 0.6876 - Val IoU: 0.5853\n"
     ]
    },
    {
     "name": "stderr",
     "output_type": "stream",
     "text": [
      "Epoch 19/20: 100%|██████████| 544/544 [00:56<00:00,  9.57batch/s]\n"
     ]
    },
    {
     "name": "stdout",
     "output_type": "stream",
     "text": [
      "Epoch 19/20 - Train Loss: 0.3676 - Val Loss: 0.4072 - Val Dice: 0.6814 - Val IoU: 0.5796\n"
     ]
    },
    {
     "name": "stderr",
     "output_type": "stream",
     "text": [
      "Epoch 20/20: 100%|██████████| 544/544 [00:56<00:00,  9.70batch/s]\n"
     ]
    },
    {
     "name": "stdout",
     "output_type": "stream",
     "text": [
      "Epoch 20/20 - Train Loss: 0.3720 - Val Loss: 0.4083 - Val Dice: 0.6786 - Val IoU: 0.5762\n",
      "\n",
      "finished training t1ce\n",
      "\n"
     ]
    },
    {
     "name": "stderr",
     "output_type": "stream",
     "text": [
      "Epoch 1/20: 100%|██████████| 544/544 [01:05<00:00,  8.28batch/s]\n"
     ]
    },
    {
     "name": "stdout",
     "output_type": "stream",
     "text": [
      "Epoch 1/20 - Train Loss: 1.1621 - Val Loss: 0.7813 - Val Dice: 0.3955 - Val IoU: 0.3376\n"
     ]
    },
    {
     "name": "stderr",
     "output_type": "stream",
     "text": [
      "Epoch 2/20: 100%|██████████| 544/544 [00:54<00:00,  9.94batch/s]\n"
     ]
    },
    {
     "name": "stdout",
     "output_type": "stream",
     "text": [
      "Epoch 2/20 - Train Loss: 0.6962 - Val Loss: 0.6423 - Val Dice: 0.4776 - Val IoU: 0.3966\n"
     ]
    },
    {
     "name": "stderr",
     "output_type": "stream",
     "text": [
      "Epoch 3/20: 100%|██████████| 544/544 [00:53<00:00, 10.12batch/s]\n"
     ]
    },
    {
     "name": "stdout",
     "output_type": "stream",
     "text": [
      "Epoch 3/20 - Train Loss: 0.5961 - Val Loss: 0.5844 - Val Dice: 0.5010 - Val IoU: 0.4160\n"
     ]
    },
    {
     "name": "stderr",
     "output_type": "stream",
     "text": [
      "Epoch 4/20: 100%|██████████| 544/544 [00:54<00:00,  9.97batch/s]\n"
     ]
    },
    {
     "name": "stdout",
     "output_type": "stream",
     "text": [
      "Epoch 4/20 - Train Loss: 0.5536 - Val Loss: 0.5429 - Val Dice: 0.5507 - Val IoU: 0.4518\n"
     ]
    },
    {
     "name": "stderr",
     "output_type": "stream",
     "text": [
      "Epoch 5/20: 100%|██████████| 544/544 [00:55<00:00,  9.77batch/s]\n"
     ]
    },
    {
     "name": "stdout",
     "output_type": "stream",
     "text": [
      "Epoch 5/20 - Train Loss: 0.5322 - Val Loss: 0.5345 - Val Dice: 0.5510 - Val IoU: 0.4540\n"
     ]
    },
    {
     "name": "stderr",
     "output_type": "stream",
     "text": [
      "Epoch 6/20: 100%|██████████| 544/544 [00:56<00:00,  9.65batch/s]\n"
     ]
    },
    {
     "name": "stdout",
     "output_type": "stream",
     "text": [
      "Epoch 6/20 - Train Loss: 0.5236 - Val Loss: 0.5431 - Val Dice: 0.5432 - Val IoU: 0.4497\n"
     ]
    },
    {
     "name": "stderr",
     "output_type": "stream",
     "text": [
      "Epoch 7/20: 100%|██████████| 544/544 [00:57<00:00,  9.49batch/s]\n"
     ]
    },
    {
     "name": "stdout",
     "output_type": "stream",
     "text": [
      "Epoch 7/20 - Train Loss: 0.5036 - Val Loss: 0.4961 - Val Dice: 0.5827 - Val IoU: 0.4819\n"
     ]
    },
    {
     "name": "stderr",
     "output_type": "stream",
     "text": [
      "Epoch 8/20: 100%|██████████| 544/544 [00:56<00:00,  9.55batch/s]\n"
     ]
    },
    {
     "name": "stdout",
     "output_type": "stream",
     "text": [
      "Epoch 8/20 - Train Loss: 0.4936 - Val Loss: 0.4888 - Val Dice: 0.5851 - Val IoU: 0.4842\n"
     ]
    },
    {
     "name": "stderr",
     "output_type": "stream",
     "text": [
      "Epoch 9/20: 100%|██████████| 544/544 [00:54<00:00, 10.02batch/s]\n"
     ]
    },
    {
     "name": "stdout",
     "output_type": "stream",
     "text": [
      "Epoch 9/20 - Train Loss: 0.4893 - Val Loss: 0.4919 - Val Dice: 0.5861 - Val IoU: 0.4842\n"
     ]
    },
    {
     "name": "stderr",
     "output_type": "stream",
     "text": [
      "Epoch 10/20: 100%|██████████| 544/544 [00:55<00:00,  9.80batch/s]\n"
     ]
    },
    {
     "name": "stdout",
     "output_type": "stream",
     "text": [
      "Epoch 10/20 - Train Loss: 0.4883 - Val Loss: 0.5034 - Val Dice: 0.5746 - Val IoU: 0.4759\n"
     ]
    },
    {
     "name": "stderr",
     "output_type": "stream",
     "text": [
      "Epoch 11/20: 100%|██████████| 544/544 [00:55<00:00,  9.80batch/s]\n"
     ]
    },
    {
     "name": "stdout",
     "output_type": "stream",
     "text": [
      "Epoch 11/20 - Train Loss: 0.4778 - Val Loss: 0.5275 - Val Dice: 0.5466 - Val IoU: 0.4540\n"
     ]
    },
    {
     "name": "stderr",
     "output_type": "stream",
     "text": [
      "Epoch 12/20: 100%|██████████| 544/544 [00:56<00:00,  9.67batch/s]\n"
     ]
    },
    {
     "name": "stdout",
     "output_type": "stream",
     "text": [
      "Epoch 12/20 - Train Loss: 0.4740 - Val Loss: 0.5010 - Val Dice: 0.5830 - Val IoU: 0.4855\n"
     ]
    },
    {
     "name": "stderr",
     "output_type": "stream",
     "text": [
      "Epoch 13/20: 100%|██████████| 544/544 [00:54<00:00, 10.01batch/s]\n"
     ]
    },
    {
     "name": "stdout",
     "output_type": "stream",
     "text": [
      "Epoch 13/20 - Train Loss: 0.4711 - Val Loss: 0.4812 - Val Dice: 0.5938 - Val IoU: 0.4952\n"
     ]
    },
    {
     "name": "stderr",
     "output_type": "stream",
     "text": [
      "Epoch 14/20: 100%|██████████| 544/544 [00:55<00:00,  9.79batch/s]\n"
     ]
    },
    {
     "name": "stdout",
     "output_type": "stream",
     "text": [
      "Epoch 14/20 - Train Loss: 0.4544 - Val Loss: 0.4883 - Val Dice: 0.5890 - Val IoU: 0.4881\n"
     ]
    },
    {
     "name": "stderr",
     "output_type": "stream",
     "text": [
      "Epoch 15/20: 100%|██████████| 544/544 [01:03<00:00,  8.54batch/s]\n"
     ]
    },
    {
     "name": "stdout",
     "output_type": "stream",
     "text": [
      "Epoch 15/20 - Train Loss: 0.4558 - Val Loss: 0.5238 - Val Dice: 0.5633 - Val IoU: 0.4661\n"
     ]
    },
    {
     "name": "stderr",
     "output_type": "stream",
     "text": [
      "Epoch 16/20: 100%|██████████| 544/544 [00:55<00:00,  9.82batch/s]\n"
     ]
    },
    {
     "name": "stdout",
     "output_type": "stream",
     "text": [
      "Epoch 16/20 - Train Loss: 0.4547 - Val Loss: 0.4639 - Val Dice: 0.6101 - Val IoU: 0.5062\n"
     ]
    },
    {
     "name": "stderr",
     "output_type": "stream",
     "text": [
      "Epoch 17/20: 100%|██████████| 544/544 [00:53<00:00, 10.24batch/s]\n"
     ]
    },
    {
     "name": "stdout",
     "output_type": "stream",
     "text": [
      "Epoch 17/20 - Train Loss: 0.4441 - Val Loss: 0.4823 - Val Dice: 0.5992 - Val IoU: 0.4993\n"
     ]
    },
    {
     "name": "stderr",
     "output_type": "stream",
     "text": [
      "Epoch 18/20: 100%|██████████| 544/544 [00:53<00:00, 10.13batch/s]\n"
     ]
    },
    {
     "name": "stdout",
     "output_type": "stream",
     "text": [
      "Epoch 18/20 - Train Loss: 0.4473 - Val Loss: 0.4897 - Val Dice: 0.5838 - Val IoU: 0.4842\n"
     ]
    },
    {
     "name": "stderr",
     "output_type": "stream",
     "text": [
      "Epoch 19/20: 100%|██████████| 544/544 [00:53<00:00, 10.23batch/s]\n"
     ]
    },
    {
     "name": "stdout",
     "output_type": "stream",
     "text": [
      "Epoch 19/20 - Train Loss: 0.4411 - Val Loss: 0.4603 - Val Dice: 0.6150 - Val IoU: 0.5137\n"
     ]
    },
    {
     "name": "stderr",
     "output_type": "stream",
     "text": [
      "Epoch 20/20: 100%|██████████| 544/544 [00:51<00:00, 10.47batch/s]\n"
     ]
    },
    {
     "name": "stdout",
     "output_type": "stream",
     "text": [
      "Epoch 20/20 - Train Loss: 0.4356 - Val Loss: 0.4668 - Val Dice: 0.6111 - Val IoU: 0.5108\n",
      "\n",
      "finished training t2\n",
      "\n"
     ]
    }
   ],
   "execution_count": 57
  },
  {
   "metadata": {
    "ExecuteTime": {
     "end_time": "2025-08-25T07:39:06.021068Z",
     "start_time": "2025-08-25T07:39:06.018058Z"
    }
   },
   "cell_type": "code",
   "source": "",
   "id": "4394536b82ac8e42",
   "outputs": [],
   "execution_count": null
  }
 ],
 "metadata": {
  "kernelspec": {
   "display_name": "Python 3",
   "language": "python",
   "name": "python3"
  },
  "language_info": {
   "codemirror_mode": {
    "name": "ipython",
    "version": 2
   },
   "file_extension": ".py",
   "mimetype": "text/x-python",
   "name": "python",
   "nbconvert_exporter": "python",
   "pygments_lexer": "ipython2",
   "version": "2.7.6"
  }
 },
 "nbformat": 4,
 "nbformat_minor": 5
}
