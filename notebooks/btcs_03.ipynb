{
 "metadata": {
  "kernelspec": {
   "language": "python",
   "display_name": "Python 3",
   "name": "python3"
  },
  "language_info": {
   "name": "python",
   "version": "3.11.13",
   "mimetype": "text/x-python",
   "codemirror_mode": {
    "name": "ipython",
    "version": 3
   },
   "pygments_lexer": "ipython3",
   "nbconvert_exporter": "python",
   "file_extension": ".py"
  },
  "kaggle": {
   "accelerator": "gpu",
   "dataSources": [
    {
     "sourceId": 12885329,
     "sourceType": "datasetVersion",
     "datasetId": 8152212
    }
   ],
   "dockerImageVersionId": 31090,
   "isInternetEnabled": true,
   "language": "python",
   "sourceType": "notebook",
   "isGpuEnabled": true
  }
 },
 "nbformat_minor": 4,
 "nbformat": 4,
 "cells": [
  {
   "cell_type": "markdown",
   "source": "# Brain Tumor MRI Segmentation\n## Introduction\n\nBrain tumors are life-threatening conditions that require early and accurate diagnosis. Manual annotation of MRI scans is time-consuming and prone to human error.\nThis project focuses on:\n\nSegmentation of tumor regions using deep learning.\n\nWe employ an *U-Net* based transfer learning (*EfficientNet*) segmentation model, trained and evaluated on a custom made subset of the BraTS2020 datasets.",
   "metadata": {}
  },
  {
   "cell_type": "code",
   "source": [
    "import os\n",
    "import cv2\n",
    "from torch import nn\n",
    "from torch.utils.data import Dataset, DataLoader, random_split\n",
    "import albumentations as A\n",
    "from albumentations.pytorch import ToTensorV2\n",
    "import segmentation_models_pytorch as smp\n",
    "from tqdm import tqdm\n",
    "from torch.optim.lr_scheduler import ReduceLROnPlateau\n",
    "import torch.nn.functional as F"
   ],
   "metadata": {
    "trusted": true,
    "execution": {
     "iopub.status.busy": "2025-08-27T15:19:36.978035Z",
     "iopub.execute_input": "2025-08-27T15:19:36.978330Z",
     "iopub.status.idle": "2025-08-27T15:19:52.306183Z",
     "shell.execute_reply.started": "2025-08-27T15:19:36.978291Z",
     "shell.execute_reply": "2025-08-27T15:19:52.305280Z"
    }
   },
   "outputs": [],
   "execution_count": 2
  },
  {
   "cell_type": "code",
   "source": "class BrainMRIDataset(Dataset):\n    def __init__(self, image_dir, mask_dir, augment=False):\n        self.image_dir = image_dir\n        self.mask_dir = mask_dir\n        self.images = sorted(os.listdir(image_dir))\n        self.masks = sorted(os.listdir(mask_dir))\n\n        # agumentation\n        self.transform = A.Compose([\n            A.Resize(256, 256),\n            A.HorizontalFlip(p=0.5),\n            A.RandomRotate90(p=0.5),\n            A.ShiftScaleRotate(p=0.2),\n            A.Normalize(mean=(0.5,), std=(0.5,)),\n            ToTensorV2()\n        ]) if augment else A.Compose([\n            A.Resize(256, 256),\n            A.Normalize(mean=(0.5,), std=(0.5,)),\n            ToTensorV2()\n        ])\n\n    def __len__(self):\n        return len(self.images)\n\n    def __getitem__(self, idx):\n        img_path = os.path.join(self.image_dir, self.images[idx])\n        mask_path = os.path.join(self.mask_dir, self.masks[idx])\n\n        # load\n        image = cv2.imread(img_path, cv2.IMREAD_GRAYSCALE)\n        mask = cv2.imread(mask_path, cv2.IMREAD_GRAYSCALE)\n\n        # resize\n        image = cv2.resize(image, (256, 256))\n        mask = cv2.resize(mask, (256, 256), interpolation=cv2.INTER_NEAREST)\n\n        # apply augmentations\n        augmented = self.transform(image=image, mask=mask)\n        image = augmented[\"image\"]\n        mask = augmented[\"mask\"]\n\n        # convert to tensors\n        image = image.float() / 255.0  \n\n        # map mask to 0..3\n        mask = (mask // 85).long()\n\n        return image, mask\n\n",
   "metadata": {
    "trusted": true,
    "execution": {
     "iopub.status.busy": "2025-08-27T15:19:58.698106Z",
     "iopub.execute_input": "2025-08-27T15:19:58.698406Z",
     "iopub.status.idle": "2025-08-27T15:19:58.706890Z",
     "shell.execute_reply.started": "2025-08-27T15:19:58.698385Z",
     "shell.execute_reply": "2025-08-27T15:19:58.706252Z"
    }
   },
   "outputs": [],
   "execution_count": 3
  },
  {
   "cell_type": "markdown",
   "source": "## Model Architecture\n### Classification Model\n\n**Segmentation Model**\n\n- Architecture: U-Net\n- Encoder: *EfficientNetB0* (pretrained on ImageNet)\n- Decoder: Transposed convolutions\n- Loss Functions: Dice Loss + Cross Entropy Loss",
   "metadata": {}
  },
  {
   "cell_type": "code",
   "source": "def get_model():\n    model = smp.Unet(\n    encoder_name=\"timm-efficientnet-b0\", #resnet18\n    encoder_weights=\"imagenet\",\n    in_channels=1,\n    classes=4\n    )\n    return model",
   "metadata": {
    "trusted": true,
    "execution": {
     "iopub.status.busy": "2025-08-27T15:20:01.495324Z",
     "iopub.execute_input": "2025-08-27T15:20:01.495616Z",
     "iopub.status.idle": "2025-08-27T15:20:01.499925Z",
     "shell.execute_reply.started": "2025-08-27T15:20:01.495595Z",
     "shell.execute_reply": "2025-08-27T15:20:01.499116Z"
    }
   },
   "outputs": [],
   "execution_count": 4
  },
  {
   "cell_type": "markdown",
   "source": "## Metrics\n\n- Dice Coefficient:\n- IoU (Intersection over Union):\n",
   "metadata": {}
  },
  {
   "cell_type": "code",
   "source": "def dice_score(outputs, targets, num_classes=4, epsilon=1e-7):\n    \"\"\" Multi-class Dice score (macro average). \"\"\"\n    outputs = torch.softmax(outputs, dim=1)      \n    preds = torch.argmax(outputs, dim=1)         \n\n    dice_per_class = []\n    for cls in range(num_classes):\n        pred_cls = (preds == cls).float()\n        true_cls = (targets == cls).float()\n\n        intersection = (pred_cls * true_cls).sum()\n        union = pred_cls.sum() + true_cls.sum()\n\n        dice = (2 * intersection + epsilon) / (union + epsilon)\n        dice_per_class.append(dice.item())\n\n    return sum(dice_per_class) / num_classes\n\n\ndef iou_score(outputs, targets, num_classes=4, epsilon=1e-7):\n    \"\"\" Multi-class IoU (macro average). \"\"\"\n    outputs = torch.softmax(outputs, dim=1)\n    preds = torch.argmax(outputs, dim=1)\n\n    iou_per_class = []\n    for cls in range(num_classes):\n        pred_cls = (preds == cls).float()\n        true_cls = (targets == cls).float()\n\n        intersection = (pred_cls * true_cls).sum()\n        union = pred_cls.sum() + true_cls.sum() - intersection\n\n        iou = (intersection + epsilon) / (union + epsilon)\n        iou_per_class.append(iou.item())\n\n    return sum(iou_per_class) / num_classes\n\n\nclass WeightedCE_DiceLoss(nn.Module):\n    def __init__(self, class_weights=None, smooth=1e-6):\n        super().__init__()\n        self.class_weights = class_weights\n        self.smooth = smooth\n\n    def forward(self, inputs, targets):\n        \"\"\"\n        inputs: [B, C, H, W]  (softmax probs)\n        targets: [B, H, W]    (long, class labels)\n        \"\"\"\n        # Cross Entropy with weights\n        ce = F.cross_entropy(inputs, targets, weight=self.class_weights)\n\n        # Dice Loss (per class)\n        probs = F.softmax(inputs, dim=1)\n        targets_onehot = F.one_hot(targets, num_classes=probs.shape[1]).permute(0,3,1,2).float()\n\n        intersection = (probs * targets_onehot).sum(dim=(2,3))\n        dice = (2.*intersection + self.smooth) / (probs.sum(dim=(2,3)) + targets_onehot.sum(dim=(2,3)) + self.smooth)\n        dice_loss = 1 - dice.mean()\n\n        return 0.5* (ce + dice_loss)\n\n",
   "metadata": {
    "trusted": true,
    "execution": {
     "iopub.status.busy": "2025-08-27T15:20:01.793206Z",
     "iopub.execute_input": "2025-08-27T15:20:01.793930Z",
     "iopub.status.idle": "2025-08-27T15:20:01.803719Z",
     "shell.execute_reply.started": "2025-08-27T15:20:01.793905Z",
     "shell.execute_reply": "2025-08-27T15:20:01.803078Z"
    }
   },
   "outputs": [],
   "execution_count": 5
  },
  {
   "cell_type": "code",
   "source": [
    "def train_model(model, modality, train_loader, val_loader, optimizer, scheduler, criterion, epochs, device, best_loss=1):\n",
    "    history = {\"train_loss\": [], \"val_loss\": [], \"val_dice\": [], 'val_iou': []}\n",
    "\n",
    "    for epoch in range(epochs):\n",
    "        # ---- Training ----\n",
    "        model.train()\n",
    "        running_loss = 0.0\n",
    "        with tqdm(total=len(train_loader), desc=f\"Epoch {epoch+1}/{epochs}\", unit=\"batch\") as pbar:\n",
    "            for imgs, masks in train_loader:\n",
    "                imgs, masks = imgs.to(device), masks.to(device)\n",
    "\n",
    "                optimizer.zero_grad()\n",
    "                outputs = model(imgs)\n",
    "                loss = criterion(outputs, masks)\n",
    "                loss.backward()\n",
    "\n",
    "\n",
    "                optimizer.step()\n",
    "\n",
    "                running_loss += loss.item()\n",
    "                pbar.update(1)\n",
    "\n",
    "        avg_train_loss = running_loss / len(train_loader)\n",
    "\n",
    "        # ---- Validation ----\n",
    "        model.eval()\n",
    "        val_loss, val_dice, val_iou = 0.0, 0.0, 0.0\n",
    "        with torch.no_grad():\n",
    "            for imgs, masks in val_loader:\n",
    "                imgs, masks = imgs.to(device), masks.to(device)\n",
    "                outputs = model(imgs)\n",
    "\n",
    "                loss = criterion(outputs, masks)\n",
    "                val_loss += loss.item()\n",
    "                val_dice += dice_score(outputs, masks)\n",
    "                val_iou += iou_score(outputs, masks)\n",
    "\n",
    "        \n",
    "        \n",
    "        avg_val_loss = val_loss / len(val_loader)\n",
    "        avg_val_dice = val_dice / len(val_loader)\n",
    "        avg_val_iou  = val_iou / len(val_loader)\n",
    "        \n",
    "        scheduler.step(avg_val_loss)\n",
    "        \n",
    "        history[\"train_loss\"].append(avg_train_loss)\n",
    "        history[\"val_loss\"].append(avg_val_loss)\n",
    "        history[\"val_dice\"].append(avg_val_dice)\n",
    "        history[\"val_iou\"].append(avg_val_iou)\n",
    "\n",
    "        print(f\"Epoch {epoch+1}/{epochs} \"\n",
    "              f\"- Train Loss: {avg_train_loss:.4f} \"\n",
    "              f\"- Val Loss: {avg_val_loss:.4f} \"\n",
    "              f\"- Val Dice: {avg_val_dice:.4f} \"\n",
    "              f\"- Val IoU: {avg_val_iou:.4f}\")\n",
    "\n",
    "\n",
    "        if avg_val_loss < best_loss:\n",
    "            best_loss = avg_val_loss\n",
    "            save_path = f\"{modality}_unet.pth\" #os.path.join()  \"kaggle\", \"working\",\n",
    "            torch.save(model.state_dict(), save_path)\n",
    "\n",
    "\n",
    "    return history"
   ],
   "metadata": {
    "trusted": true,
    "execution": {
     "iopub.status.busy": "2025-08-27T16:23:13.748202Z",
     "iopub.execute_input": "2025-08-27T16:23:13.749055Z",
     "iopub.status.idle": "2025-08-27T16:23:13.759796Z",
     "shell.execute_reply.started": "2025-08-27T16:23:13.749011Z",
     "shell.execute_reply": "2025-08-27T16:23:13.758871Z"
    }
   },
   "outputs": [],
   "execution_count": 32
  },
  {
   "cell_type": "code",
   "source": "def train_one_modality(\n    modality, \n    root_dir=\"/kaggle/input/brats20-sampled-subset-png/dataset\", \n    epochs=10, \n    batch_size=8, \n    lr=1e-4, \n    device=\"cuda\",\n    weights_path=False   \n):\n    img_dir = os.path.join(root_dir, modality, \"images\")\n    mask_dir = os.path.join(root_dir, modality, \"masks\")\n\n    dataset = BrainMRIDataset(img_dir, mask_dir, augment=True)\n    val_size = int(0.2 * len(dataset))\n    train_size = len(dataset) - val_size\n    train_ds, val_ds = random_split(dataset, [train_size, val_size])\n\n    train_loader = DataLoader(\n        train_ds, batch_size=batch_size, num_workers=4, pin_memory=True, shuffle=True\n    )\n    val_loader = DataLoader(\n        val_ds, batch_size=batch_size, num_workers=4, pin_memory=True, shuffle=False\n    )\n\n    # Initialize model\n    model = get_model().to(device)\n\n    # Load weights if provided\n    if weights_path and os.path.exists(weights_path):\n        print(f\"Loading pretrained weights from {weights_path}\")\n        model.load_state_dict(torch.load(weights_path, map_location=device))\n\n    optimizer = torch.optim.Adam(model.parameters(), lr=lr)\n    scheduler = ReduceLROnPlateau(optimizer, mode='min', factor=0.5, patience=3, verbose=True)\n\n    weights = torch.tensor([0.2, 1.0, 1.0, 1.0], device=device)\n    criterion = WeightedCE_DiceLoss(class_weights=weights).to(device)\n\n    return train_model(\n        model, modality, train_loader, val_loader, optimizer, scheduler, criterion, epochs, device\n    )\n",
   "metadata": {
    "trusted": true,
    "execution": {
     "iopub.status.busy": "2025-08-27T16:09:55.049660Z",
     "iopub.execute_input": "2025-08-27T16:09:55.050340Z",
     "iopub.status.idle": "2025-08-27T16:09:55.058683Z",
     "shell.execute_reply.started": "2025-08-27T16:09:55.050314Z",
     "shell.execute_reply": "2025-08-27T16:09:55.057967Z"
    }
   },
   "outputs": [],
   "execution_count": 25
  },
  {
   "cell_type": "markdown",
   "source": "## Training & Results",
   "metadata": {}
  },
  {
   "cell_type": "code",
   "source": "histories = {}\nmodalities = [\"flair\", \"t1\", \"t1ce\", \"t2\"]",
   "metadata": {
    "trusted": true,
    "execution": {
     "iopub.status.busy": "2025-08-27T15:20:10.403847Z",
     "iopub.execute_input": "2025-08-27T15:20:10.404515Z",
     "iopub.status.idle": "2025-08-27T15:20:10.408360Z",
     "shell.execute_reply.started": "2025-08-27T15:20:10.404489Z",
     "shell.execute_reply": "2025-08-27T15:20:10.407695Z"
    }
   },
   "outputs": [],
   "execution_count": 8
  },
  {
   "cell_type": "code",
   "source": "m = modalities[0]\nhist = train_one_modality(m, epochs=30, batch_size=32, lr=1e-4)\nhistories[m] = hist\nprint(f\"\\nfinished training {m}\\n\")",
   "metadata": {
    "trusted": true,
    "execution": {
     "iopub.status.busy": "2025-08-27T12:57:25.590473Z",
     "iopub.execute_input": "2025-08-27T12:57:25.590747Z",
     "iopub.status.idle": "2025-08-27T13:16:55.173419Z",
     "shell.execute_reply.started": "2025-08-27T12:57:25.590725Z",
     "shell.execute_reply": "2025-08-27T13:16:55.172520Z"
    }
   },
   "outputs": [
    {
     "name": "stderr",
     "text": "Epoch 1/30: 100%|██████████| 136/136 [00:35<00:00,  3.78batch/s]\n",
     "output_type": "stream"
    },
    {
     "name": "stdout",
     "text": "Epoch 1/30 - Train Loss: 0.8463 - Val Loss: 0.6208 - Val Dice: 0.4259 - Val IoU: 0.3521\n",
     "output_type": "stream"
    },
    {
     "name": "stderr",
     "text": "Epoch 2/30: 100%|██████████| 136/136 [00:35<00:00,  3.78batch/s]\n",
     "output_type": "stream"
    },
    {
     "name": "stdout",
     "text": "Epoch 2/30 - Train Loss: 0.5446 - Val Loss: 0.4913 - Val Dice: 0.4663 - Val IoU: 0.3801\n",
     "output_type": "stream"
    },
    {
     "name": "stderr",
     "text": "Epoch 3/30: 100%|██████████| 136/136 [00:35<00:00,  3.78batch/s]\n",
     "output_type": "stream"
    },
    {
     "name": "stdout",
     "text": "Epoch 3/30 - Train Loss: 0.4679 - Val Loss: 0.4447 - Val Dice: 0.5391 - Val IoU: 0.4309\n",
     "output_type": "stream"
    },
    {
     "name": "stderr",
     "text": "Epoch 4/30: 100%|██████████| 136/136 [00:35<00:00,  3.78batch/s]\n",
     "output_type": "stream"
    },
    {
     "name": "stdout",
     "text": "Epoch 4/30 - Train Loss: 0.4320 - Val Loss: 0.4408 - Val Dice: 0.4905 - Val IoU: 0.3941\n",
     "output_type": "stream"
    },
    {
     "name": "stderr",
     "text": "Epoch 5/30: 100%|██████████| 136/136 [00:35<00:00,  3.78batch/s]\n",
     "output_type": "stream"
    },
    {
     "name": "stdout",
     "text": "Epoch 5/30 - Train Loss: 0.4126 - Val Loss: 0.4078 - Val Dice: 0.5652 - Val IoU: 0.4529\n",
     "output_type": "stream"
    },
    {
     "name": "stderr",
     "text": "Epoch 6/30: 100%|██████████| 136/136 [00:35<00:00,  3.78batch/s]\n",
     "output_type": "stream"
    },
    {
     "name": "stdout",
     "text": "Epoch 6/30 - Train Loss: 0.3993 - Val Loss: 0.3973 - Val Dice: 0.5750 - Val IoU: 0.4604\n",
     "output_type": "stream"
    },
    {
     "name": "stderr",
     "text": "Epoch 7/30: 100%|██████████| 136/136 [00:35<00:00,  3.78batch/s]\n",
     "output_type": "stream"
    },
    {
     "name": "stdout",
     "text": "Epoch 7/30 - Train Loss: 0.3905 - Val Loss: 0.3934 - Val Dice: 0.5683 - Val IoU: 0.4562\n",
     "output_type": "stream"
    },
    {
     "name": "stderr",
     "text": "Epoch 8/30: 100%|██████████| 136/136 [00:35<00:00,  3.78batch/s]\n",
     "output_type": "stream"
    },
    {
     "name": "stdout",
     "text": "Epoch 8/30 - Train Loss: 0.3825 - Val Loss: 0.3849 - Val Dice: 0.6066 - Val IoU: 0.4869\n",
     "output_type": "stream"
    },
    {
     "name": "stderr",
     "text": "Epoch 9/30: 100%|██████████| 136/136 [00:35<00:00,  3.79batch/s]\n",
     "output_type": "stream"
    },
    {
     "name": "stdout",
     "text": "Epoch 9/30 - Train Loss: 0.3764 - Val Loss: 0.3818 - Val Dice: 0.6121 - Val IoU: 0.4911\n",
     "output_type": "stream"
    },
    {
     "name": "stderr",
     "text": "Epoch 10/30: 100%|██████████| 136/136 [00:35<00:00,  3.78batch/s]\n",
     "output_type": "stream"
    },
    {
     "name": "stdout",
     "text": "Epoch 10/30 - Train Loss: 0.3723 - Val Loss: 0.3782 - Val Dice: 0.6263 - Val IoU: 0.5038\n",
     "output_type": "stream"
    },
    {
     "name": "stderr",
     "text": "Epoch 11/30: 100%|██████████| 136/136 [00:35<00:00,  3.78batch/s]\n",
     "output_type": "stream"
    },
    {
     "name": "stdout",
     "text": "Epoch 11/30 - Train Loss: 0.3682 - Val Loss: 0.3803 - Val Dice: 0.6182 - Val IoU: 0.4964\n",
     "output_type": "stream"
    },
    {
     "name": "stderr",
     "text": "Epoch 12/30: 100%|██████████| 136/136 [00:35<00:00,  3.79batch/s]\n",
     "output_type": "stream"
    },
    {
     "name": "stdout",
     "text": "Epoch 12/30 - Train Loss: 0.3652 - Val Loss: 0.3736 - Val Dice: 0.6356 - Val IoU: 0.5127\n",
     "output_type": "stream"
    },
    {
     "name": "stderr",
     "text": "Epoch 13/30: 100%|██████████| 136/136 [00:35<00:00,  3.78batch/s]\n",
     "output_type": "stream"
    },
    {
     "name": "stdout",
     "text": "Epoch 13/30 - Train Loss: 0.3600 - Val Loss: 0.3720 - Val Dice: 0.6455 - Val IoU: 0.5218\n",
     "output_type": "stream"
    },
    {
     "name": "stderr",
     "text": "Epoch 14/30: 100%|██████████| 136/136 [00:35<00:00,  3.79batch/s]\n",
     "output_type": "stream"
    },
    {
     "name": "stdout",
     "text": "Epoch 14/30 - Train Loss: 0.3579 - Val Loss: 0.3733 - Val Dice: 0.6389 - Val IoU: 0.5171\n",
     "output_type": "stream"
    },
    {
     "name": "stderr",
     "text": "Epoch 15/30: 100%|██████████| 136/136 [00:35<00:00,  3.78batch/s]\n",
     "output_type": "stream"
    },
    {
     "name": "stdout",
     "text": "Epoch 15/30 - Train Loss: 0.3567 - Val Loss: 0.3712 - Val Dice: 0.6416 - Val IoU: 0.5185\n",
     "output_type": "stream"
    },
    {
     "name": "stderr",
     "text": "Epoch 16/30: 100%|██████████| 136/136 [00:35<00:00,  3.79batch/s]\n",
     "output_type": "stream"
    },
    {
     "name": "stdout",
     "text": "Epoch 16/30 - Train Loss: 0.3532 - Val Loss: 0.3718 - Val Dice: 0.6333 - Val IoU: 0.5122\n",
     "output_type": "stream"
    },
    {
     "name": "stderr",
     "text": "Epoch 17/30: 100%|██████████| 136/136 [00:35<00:00,  3.79batch/s]\n",
     "output_type": "stream"
    },
    {
     "name": "stdout",
     "text": "Epoch 17/30 - Train Loss: 0.3509 - Val Loss: 0.3667 - Val Dice: 0.6553 - Val IoU: 0.5319\n",
     "output_type": "stream"
    },
    {
     "name": "stderr",
     "text": "Epoch 18/30: 100%|██████████| 136/136 [00:35<00:00,  3.78batch/s]\n",
     "output_type": "stream"
    },
    {
     "name": "stdout",
     "text": "Epoch 18/30 - Train Loss: 0.3493 - Val Loss: 0.3695 - Val Dice: 0.6354 - Val IoU: 0.5130\n",
     "output_type": "stream"
    },
    {
     "name": "stderr",
     "text": "Epoch 19/30: 100%|██████████| 136/136 [00:35<00:00,  3.79batch/s]\n",
     "output_type": "stream"
    },
    {
     "name": "stdout",
     "text": "Epoch 19/30 - Train Loss: 0.3469 - Val Loss: 0.3700 - Val Dice: 0.6406 - Val IoU: 0.5185\n",
     "output_type": "stream"
    },
    {
     "name": "stderr",
     "text": "Epoch 20/30: 100%|██████████| 136/136 [00:35<00:00,  3.79batch/s]\n",
     "output_type": "stream"
    },
    {
     "name": "stdout",
     "text": "Epoch 20/30 - Train Loss: 0.3454 - Val Loss: 0.3689 - Val Dice: 0.6436 - Val IoU: 0.5211\n",
     "output_type": "stream"
    },
    {
     "name": "stderr",
     "text": "Epoch 21/30: 100%|██████████| 136/136 [00:35<00:00,  3.78batch/s]\n",
     "output_type": "stream"
    },
    {
     "name": "stdout",
     "text": "Epoch 21/30 - Train Loss: 0.3423 - Val Loss: 0.3709 - Val Dice: 0.6390 - Val IoU: 0.5175\n",
     "output_type": "stream"
    },
    {
     "name": "stderr",
     "text": "Epoch 22/30: 100%|██████████| 136/136 [00:35<00:00,  3.78batch/s]\n",
     "output_type": "stream"
    },
    {
     "name": "stdout",
     "text": "Epoch 22/30 - Train Loss: 0.3395 - Val Loss: 0.3668 - Val Dice: 0.6541 - Val IoU: 0.5308\n",
     "output_type": "stream"
    },
    {
     "name": "stderr",
     "text": "Epoch 23/30: 100%|██████████| 136/136 [00:35<00:00,  3.78batch/s]\n",
     "output_type": "stream"
    },
    {
     "name": "stdout",
     "text": "Epoch 23/30 - Train Loss: 0.3381 - Val Loss: 0.3704 - Val Dice: 0.6537 - Val IoU: 0.5316\n",
     "output_type": "stream"
    },
    {
     "name": "stderr",
     "text": "Epoch 24/30: 100%|██████████| 136/136 [00:35<00:00,  3.78batch/s]\n",
     "output_type": "stream"
    },
    {
     "name": "stdout",
     "text": "Epoch 24/30 - Train Loss: 0.3367 - Val Loss: 0.3663 - Val Dice: 0.6609 - Val IoU: 0.5369\n",
     "output_type": "stream"
    },
    {
     "name": "stderr",
     "text": "Epoch 25/30: 100%|██████████| 136/136 [00:35<00:00,  3.79batch/s]\n",
     "output_type": "stream"
    },
    {
     "name": "stdout",
     "text": "Epoch 25/30 - Train Loss: 0.3362 - Val Loss: 0.3670 - Val Dice: 0.6633 - Val IoU: 0.5392\n",
     "output_type": "stream"
    },
    {
     "name": "stderr",
     "text": "Epoch 26/30: 100%|██████████| 136/136 [00:35<00:00,  3.78batch/s]\n",
     "output_type": "stream"
    },
    {
     "name": "stdout",
     "text": "Epoch 26/30 - Train Loss: 0.3343 - Val Loss: 0.3672 - Val Dice: 0.6533 - Val IoU: 0.5306\n",
     "output_type": "stream"
    },
    {
     "name": "stderr",
     "text": "Epoch 27/30: 100%|██████████| 136/136 [00:35<00:00,  3.78batch/s]\n",
     "output_type": "stream"
    },
    {
     "name": "stdout",
     "text": "Epoch 27/30 - Train Loss: 0.3336 - Val Loss: 0.3649 - Val Dice: 0.6675 - Val IoU: 0.5435\n",
     "output_type": "stream"
    },
    {
     "name": "stderr",
     "text": "Epoch 28/30: 100%|██████████| 136/136 [00:35<00:00,  3.78batch/s]\n",
     "output_type": "stream"
    },
    {
     "name": "stdout",
     "text": "Epoch 28/30 - Train Loss: 0.3325 - Val Loss: 0.3663 - Val Dice: 0.6650 - Val IoU: 0.5416\n",
     "output_type": "stream"
    },
    {
     "name": "stderr",
     "text": "Epoch 29/30: 100%|██████████| 136/136 [00:35<00:00,  3.78batch/s]\n",
     "output_type": "stream"
    },
    {
     "name": "stdout",
     "text": "Epoch 29/30 - Train Loss: 0.3319 - Val Loss: 0.3661 - Val Dice: 0.6625 - Val IoU: 0.5389\n",
     "output_type": "stream"
    },
    {
     "name": "stderr",
     "text": "Epoch 30/30: 100%|██████████| 136/136 [00:35<00:00,  3.79batch/s]\n",
     "output_type": "stream"
    },
    {
     "name": "stdout",
     "text": "Epoch 30/30 - Train Loss: 0.3309 - Val Loss: 0.3658 - Val Dice: 0.6668 - Val IoU: 0.5426\n\nfinished training flair\n\n",
     "output_type": "stream"
    }
   ],
   "execution_count": 18
  },
  {
   "cell_type": "code",
   "source": "m = modalities[1]\nhist = train_one_modality(m, epochs=30, batch_size=32, lr=1e-4)\nhistories[m] = hist\nprint(f\"\\nfinished training {m}\\n\")",
   "metadata": {
    "trusted": true,
    "execution": {
     "iopub.status.busy": "2025-08-27T13:33:29.123518Z",
     "iopub.execute_input": "2025-08-27T13:33:29.123855Z",
     "iopub.status.idle": "2025-08-27T13:53:02.348761Z",
     "shell.execute_reply.started": "2025-08-27T13:33:29.123828Z",
     "shell.execute_reply": "2025-08-27T13:53:02.347841Z"
    }
   },
   "outputs": [
    {
     "name": "stderr",
     "text": "Epoch 1/30: 100%|██████████| 136/136 [00:36<00:00,  3.78batch/s]\n",
     "output_type": "stream"
    },
    {
     "name": "stdout",
     "text": "Epoch 1/30 - Train Loss: 0.9753 - Val Loss: 0.7416 - Val Dice: 0.3413 - Val IoU: 0.2960\n",
     "output_type": "stream"
    },
    {
     "name": "stderr",
     "text": "Epoch 2/30: 100%|██████████| 136/136 [00:36<00:00,  3.78batch/s]\n",
     "output_type": "stream"
    },
    {
     "name": "stdout",
     "text": "Epoch 2/30 - Train Loss: 0.6316 - Val Loss: 0.5574 - Val Dice: 0.3694 - Val IoU: 0.3166\n",
     "output_type": "stream"
    },
    {
     "name": "stderr",
     "text": "Epoch 3/30: 100%|██████████| 136/136 [00:36<00:00,  3.77batch/s]\n",
     "output_type": "stream"
    },
    {
     "name": "stdout",
     "text": "Epoch 3/30 - Train Loss: 0.5222 - Val Loss: 0.4935 - Val Dice: 0.4016 - Val IoU: 0.3368\n",
     "output_type": "stream"
    },
    {
     "name": "stderr",
     "text": "Epoch 4/30: 100%|██████████| 136/136 [00:36<00:00,  3.77batch/s]\n",
     "output_type": "stream"
    },
    {
     "name": "stdout",
     "text": "Epoch 4/30 - Train Loss: 0.4768 - Val Loss: 0.4635 - Val Dice: 0.4747 - Val IoU: 0.3858\n",
     "output_type": "stream"
    },
    {
     "name": "stderr",
     "text": "Epoch 5/30: 100%|██████████| 136/136 [00:36<00:00,  3.77batch/s]\n",
     "output_type": "stream"
    },
    {
     "name": "stdout",
     "text": "Epoch 5/30 - Train Loss: 0.4515 - Val Loss: 0.4406 - Val Dice: 0.5435 - Val IoU: 0.4369\n",
     "output_type": "stream"
    },
    {
     "name": "stderr",
     "text": "Epoch 6/30: 100%|██████████| 136/136 [00:36<00:00,  3.78batch/s]\n",
     "output_type": "stream"
    },
    {
     "name": "stdout",
     "text": "Epoch 6/30 - Train Loss: 0.4352 - Val Loss: 0.4272 - Val Dice: 0.5592 - Val IoU: 0.4488\n",
     "output_type": "stream"
    },
    {
     "name": "stderr",
     "text": "Epoch 7/30: 100%|██████████| 136/136 [00:36<00:00,  3.77batch/s]\n",
     "output_type": "stream"
    },
    {
     "name": "stdout",
     "text": "Epoch 7/30 - Train Loss: 0.4240 - Val Loss: 0.4182 - Val Dice: 0.5754 - Val IoU: 0.4621\n",
     "output_type": "stream"
    },
    {
     "name": "stderr",
     "text": "Epoch 8/30: 100%|██████████| 136/136 [00:36<00:00,  3.78batch/s]\n",
     "output_type": "stream"
    },
    {
     "name": "stdout",
     "text": "Epoch 8/30 - Train Loss: 0.4155 - Val Loss: 0.4128 - Val Dice: 0.5806 - Val IoU: 0.4661\n",
     "output_type": "stream"
    },
    {
     "name": "stderr",
     "text": "Epoch 9/30: 100%|██████████| 136/136 [00:36<00:00,  3.77batch/s]\n",
     "output_type": "stream"
    },
    {
     "name": "stdout",
     "text": "Epoch 9/30 - Train Loss: 0.4075 - Val Loss: 0.4089 - Val Dice: 0.5744 - Val IoU: 0.4618\n",
     "output_type": "stream"
    },
    {
     "name": "stderr",
     "text": "Epoch 10/30: 100%|██████████| 136/136 [00:36<00:00,  3.77batch/s]\n",
     "output_type": "stream"
    },
    {
     "name": "stdout",
     "text": "Epoch 10/30 - Train Loss: 0.4028 - Val Loss: 0.4044 - Val Dice: 0.5975 - Val IoU: 0.4810\n",
     "output_type": "stream"
    },
    {
     "name": "stderr",
     "text": "Epoch 11/30: 100%|██████████| 136/136 [00:36<00:00,  3.77batch/s]\n",
     "output_type": "stream"
    },
    {
     "name": "stdout",
     "text": "Epoch 11/30 - Train Loss: 0.3985 - Val Loss: 0.4029 - Val Dice: 0.5938 - Val IoU: 0.4777\n",
     "output_type": "stream"
    },
    {
     "name": "stderr",
     "text": "Epoch 12/30: 100%|██████████| 136/136 [00:36<00:00,  3.77batch/s]\n",
     "output_type": "stream"
    },
    {
     "name": "stdout",
     "text": "Epoch 12/30 - Train Loss: 0.3947 - Val Loss: 0.4021 - Val Dice: 0.5855 - Val IoU: 0.4705\n",
     "output_type": "stream"
    },
    {
     "name": "stderr",
     "text": "Epoch 13/30: 100%|██████████| 136/136 [00:36<00:00,  3.78batch/s]\n",
     "output_type": "stream"
    },
    {
     "name": "stdout",
     "text": "Epoch 13/30 - Train Loss: 0.3906 - Val Loss: 0.4000 - Val Dice: 0.5963 - Val IoU: 0.4788\n",
     "output_type": "stream"
    },
    {
     "name": "stderr",
     "text": "Epoch 14/30: 100%|██████████| 136/136 [00:35<00:00,  3.78batch/s]\n",
     "output_type": "stream"
    },
    {
     "name": "stdout",
     "text": "Epoch 14/30 - Train Loss: 0.3874 - Val Loss: 0.3998 - Val Dice: 0.5927 - Val IoU: 0.4776\n",
     "output_type": "stream"
    },
    {
     "name": "stderr",
     "text": "Epoch 15/30: 100%|██████████| 136/136 [00:35<00:00,  3.78batch/s]\n",
     "output_type": "stream"
    },
    {
     "name": "stdout",
     "text": "Epoch 15/30 - Train Loss: 0.3844 - Val Loss: 0.4042 - Val Dice: 0.5919 - Val IoU: 0.4785\n",
     "output_type": "stream"
    },
    {
     "name": "stderr",
     "text": "Epoch 16/30: 100%|██████████| 136/136 [00:35<00:00,  3.78batch/s]\n",
     "output_type": "stream"
    },
    {
     "name": "stdout",
     "text": "Epoch 16/30 - Train Loss: 0.3828 - Val Loss: 0.3962 - Val Dice: 0.6099 - Val IoU: 0.4906\n",
     "output_type": "stream"
    },
    {
     "name": "stderr",
     "text": "Epoch 17/30: 100%|██████████| 136/136 [00:35<00:00,  3.78batch/s]\n",
     "output_type": "stream"
    },
    {
     "name": "stdout",
     "text": "Epoch 17/30 - Train Loss: 0.3790 - Val Loss: 0.3950 - Val Dice: 0.6086 - Val IoU: 0.4890\n",
     "output_type": "stream"
    },
    {
     "name": "stderr",
     "text": "Epoch 18/30: 100%|██████████| 136/136 [00:36<00:00,  3.77batch/s]\n",
     "output_type": "stream"
    },
    {
     "name": "stdout",
     "text": "Epoch 18/30 - Train Loss: 0.3762 - Val Loss: 0.3994 - Val Dice: 0.6085 - Val IoU: 0.4890\n",
     "output_type": "stream"
    },
    {
     "name": "stderr",
     "text": "Epoch 19/30: 100%|██████████| 136/136 [00:36<00:00,  3.78batch/s]\n",
     "output_type": "stream"
    },
    {
     "name": "stdout",
     "text": "Epoch 19/30 - Train Loss: 0.3746 - Val Loss: 0.3947 - Val Dice: 0.6108 - Val IoU: 0.4928\n",
     "output_type": "stream"
    },
    {
     "name": "stderr",
     "text": "Epoch 20/30: 100%|██████████| 136/136 [00:36<00:00,  3.78batch/s]\n",
     "output_type": "stream"
    },
    {
     "name": "stdout",
     "text": "Epoch 20/30 - Train Loss: 0.3716 - Val Loss: 0.3940 - Val Dice: 0.6139 - Val IoU: 0.4949\n",
     "output_type": "stream"
    },
    {
     "name": "stderr",
     "text": "Epoch 21/30: 100%|██████████| 136/136 [00:36<00:00,  3.77batch/s]\n",
     "output_type": "stream"
    },
    {
     "name": "stdout",
     "text": "Epoch 21/30 - Train Loss: 0.3716 - Val Loss: 0.3924 - Val Dice: 0.6124 - Val IoU: 0.4935\n",
     "output_type": "stream"
    },
    {
     "name": "stderr",
     "text": "Epoch 22/30: 100%|██████████| 136/136 [00:36<00:00,  3.77batch/s]\n",
     "output_type": "stream"
    },
    {
     "name": "stdout",
     "text": "Epoch 22/30 - Train Loss: 0.3681 - Val Loss: 0.3936 - Val Dice: 0.6186 - Val IoU: 0.4986\n",
     "output_type": "stream"
    },
    {
     "name": "stderr",
     "text": "Epoch 23/30: 100%|██████████| 136/136 [00:36<00:00,  3.78batch/s]\n",
     "output_type": "stream"
    },
    {
     "name": "stdout",
     "text": "Epoch 23/30 - Train Loss: 0.3669 - Val Loss: 0.3951 - Val Dice: 0.6139 - Val IoU: 0.4947\n",
     "output_type": "stream"
    },
    {
     "name": "stderr",
     "text": "Epoch 24/30: 100%|██████████| 136/136 [00:36<00:00,  3.77batch/s]\n",
     "output_type": "stream"
    },
    {
     "name": "stdout",
     "text": "Epoch 24/30 - Train Loss: 0.3651 - Val Loss: 0.3930 - Val Dice: 0.6239 - Val IoU: 0.5045\n",
     "output_type": "stream"
    },
    {
     "name": "stderr",
     "text": "Epoch 25/30: 100%|██████████| 136/136 [00:36<00:00,  3.78batch/s]\n",
     "output_type": "stream"
    },
    {
     "name": "stdout",
     "text": "Epoch 25/30 - Train Loss: 0.3640 - Val Loss: 0.3932 - Val Dice: 0.6194 - Val IoU: 0.5006\n",
     "output_type": "stream"
    },
    {
     "name": "stderr",
     "text": "Epoch 26/30: 100%|██████████| 136/136 [00:36<00:00,  3.78batch/s]\n",
     "output_type": "stream"
    },
    {
     "name": "stdout",
     "text": "Epoch 26/30 - Train Loss: 0.3595 - Val Loss: 0.3928 - Val Dice: 0.6191 - Val IoU: 0.5005\n",
     "output_type": "stream"
    },
    {
     "name": "stderr",
     "text": "Epoch 27/30: 100%|██████████| 136/136 [00:35<00:00,  3.78batch/s]\n",
     "output_type": "stream"
    },
    {
     "name": "stdout",
     "text": "Epoch 27/30 - Train Loss: 0.3582 - Val Loss: 0.3921 - Val Dice: 0.6254 - Val IoU: 0.5062\n",
     "output_type": "stream"
    },
    {
     "name": "stderr",
     "text": "Epoch 28/30: 100%|██████████| 136/136 [00:35<00:00,  3.78batch/s]\n",
     "output_type": "stream"
    },
    {
     "name": "stdout",
     "text": "Epoch 28/30 - Train Loss: 0.3566 - Val Loss: 0.3909 - Val Dice: 0.6274 - Val IoU: 0.5080\n",
     "output_type": "stream"
    },
    {
     "name": "stderr",
     "text": "Epoch 29/30: 100%|██████████| 136/136 [00:36<00:00,  3.77batch/s]\n",
     "output_type": "stream"
    },
    {
     "name": "stdout",
     "text": "Epoch 29/30 - Train Loss: 0.3560 - Val Loss: 0.3917 - Val Dice: 0.6353 - Val IoU: 0.5146\n",
     "output_type": "stream"
    },
    {
     "name": "stderr",
     "text": "Epoch 30/30: 100%|██████████| 136/136 [00:36<00:00,  3.78batch/s]\n",
     "output_type": "stream"
    },
    {
     "name": "stdout",
     "text": "Epoch 30/30 - Train Loss: 0.3555 - Val Loss: 0.3906 - Val Dice: 0.6226 - Val IoU: 0.5032\n\nfinished training t1\n\n",
     "output_type": "stream"
    }
   ],
   "execution_count": 20
  },
  {
   "cell_type": "code",
   "source": "m = modalities[2]\nhist = train_one_modality(m, epochs=30, batch_size=8, lr=1e-4)\nhistories[m] = hist\nprint(f\"\\nfinished training {m}\\n\")",
   "metadata": {
    "trusted": true,
    "execution": {
     "iopub.status.busy": "2025-08-27T14:12:30.574878Z",
     "iopub.execute_input": "2025-08-27T14:12:30.575524Z",
     "iopub.status.idle": "2025-08-27T14:38:10.797681Z",
     "shell.execute_reply.started": "2025-08-27T14:12:30.575494Z",
     "shell.execute_reply": "2025-08-27T14:38:10.796691Z"
    }
   },
   "outputs": [
    {
     "name": "stderr",
     "text": "Epoch 1/30: 100%|██████████| 544/544 [00:47<00:00, 11.46batch/s]\n",
     "output_type": "stream"
    },
    {
     "name": "stdout",
     "text": "Epoch 1/30 - Train Loss: 0.5885 - Val Loss: 0.4293 - Val Dice: 0.5778 - Val IoU: 0.4735\n",
     "output_type": "stream"
    },
    {
     "name": "stderr",
     "text": "Epoch 2/30: 100%|██████████| 544/544 [00:47<00:00, 11.47batch/s]\n",
     "output_type": "stream"
    },
    {
     "name": "stdout",
     "text": "Epoch 2/30 - Train Loss: 0.4062 - Val Loss: 0.3844 - Val Dice: 0.6181 - Val IoU: 0.5097\n",
     "output_type": "stream"
    },
    {
     "name": "stderr",
     "text": "Epoch 3/30: 100%|██████████| 544/544 [00:47<00:00, 11.52batch/s]\n",
     "output_type": "stream"
    },
    {
     "name": "stdout",
     "text": "Epoch 3/30 - Train Loss: 0.3793 - Val Loss: 0.3696 - Val Dice: 0.6589 - Val IoU: 0.5489\n",
     "output_type": "stream"
    },
    {
     "name": "stderr",
     "text": "Epoch 4/30: 100%|██████████| 544/544 [00:47<00:00, 11.52batch/s]\n",
     "output_type": "stream"
    },
    {
     "name": "stdout",
     "text": "Epoch 4/30 - Train Loss: 0.3664 - Val Loss: 0.3660 - Val Dice: 0.6750 - Val IoU: 0.5653\n",
     "output_type": "stream"
    },
    {
     "name": "stderr",
     "text": "Epoch 5/30: 100%|██████████| 544/544 [00:47<00:00, 11.55batch/s]\n",
     "output_type": "stream"
    },
    {
     "name": "stdout",
     "text": "Epoch 5/30 - Train Loss: 0.3589 - Val Loss: 0.3608 - Val Dice: 0.6639 - Val IoU: 0.5548\n",
     "output_type": "stream"
    },
    {
     "name": "stderr",
     "text": "Epoch 6/30: 100%|██████████| 544/544 [00:47<00:00, 11.53batch/s]\n",
     "output_type": "stream"
    },
    {
     "name": "stdout",
     "text": "Epoch 6/30 - Train Loss: 0.3529 - Val Loss: 0.3603 - Val Dice: 0.6750 - Val IoU: 0.5660\n",
     "output_type": "stream"
    },
    {
     "name": "stderr",
     "text": "Epoch 7/30: 100%|██████████| 544/544 [00:47<00:00, 11.51batch/s]\n",
     "output_type": "stream"
    },
    {
     "name": "stdout",
     "text": "Epoch 7/30 - Train Loss: 0.3488 - Val Loss: 0.3551 - Val Dice: 0.6823 - Val IoU: 0.5742\n",
     "output_type": "stream"
    },
    {
     "name": "stderr",
     "text": "Epoch 8/30: 100%|██████████| 544/544 [00:47<00:00, 11.52batch/s]\n",
     "output_type": "stream"
    },
    {
     "name": "stdout",
     "text": "Epoch 8/30 - Train Loss: 0.3468 - Val Loss: 0.3568 - Val Dice: 0.6410 - Val IoU: 0.5317\n",
     "output_type": "stream"
    },
    {
     "name": "stderr",
     "text": "Epoch 9/30: 100%|██████████| 544/544 [00:47<00:00, 11.54batch/s]\n",
     "output_type": "stream"
    },
    {
     "name": "stdout",
     "text": "Epoch 9/30 - Train Loss: 0.3431 - Val Loss: 0.3529 - Val Dice: 0.6899 - Val IoU: 0.5799\n",
     "output_type": "stream"
    },
    {
     "name": "stderr",
     "text": "Epoch 10/30: 100%|██████████| 544/544 [00:47<00:00, 11.52batch/s]\n",
     "output_type": "stream"
    },
    {
     "name": "stdout",
     "text": "Epoch 10/30 - Train Loss: 0.3400 - Val Loss: 0.3507 - Val Dice: 0.7046 - Val IoU: 0.5958\n",
     "output_type": "stream"
    },
    {
     "name": "stderr",
     "text": "Epoch 11/30: 100%|██████████| 544/544 [00:47<00:00, 11.49batch/s]\n",
     "output_type": "stream"
    },
    {
     "name": "stdout",
     "text": "Epoch 11/30 - Train Loss: 0.3384 - Val Loss: 0.3528 - Val Dice: 0.6790 - Val IoU: 0.5698\n",
     "output_type": "stream"
    },
    {
     "name": "stderr",
     "text": "Epoch 12/30: 100%|██████████| 544/544 [00:47<00:00, 11.50batch/s]\n",
     "output_type": "stream"
    },
    {
     "name": "stdout",
     "text": "Epoch 12/30 - Train Loss: 0.3365 - Val Loss: 0.3491 - Val Dice: 0.6995 - Val IoU: 0.5904\n",
     "output_type": "stream"
    },
    {
     "name": "stderr",
     "text": "Epoch 13/30: 100%|██████████| 544/544 [00:47<00:00, 11.45batch/s]\n",
     "output_type": "stream"
    },
    {
     "name": "stdout",
     "text": "Epoch 13/30 - Train Loss: 0.3346 - Val Loss: 0.3523 - Val Dice: 0.6862 - Val IoU: 0.5761\n",
     "output_type": "stream"
    },
    {
     "name": "stderr",
     "text": "Epoch 14/30: 100%|██████████| 544/544 [00:47<00:00, 11.48batch/s]\n",
     "output_type": "stream"
    },
    {
     "name": "stdout",
     "text": "Epoch 14/30 - Train Loss: 0.3325 - Val Loss: 0.3507 - Val Dice: 0.7058 - Val IoU: 0.5965\n",
     "output_type": "stream"
    },
    {
     "name": "stderr",
     "text": "Epoch 15/30: 100%|██████████| 544/544 [00:47<00:00, 11.50batch/s]\n",
     "output_type": "stream"
    },
    {
     "name": "stdout",
     "text": "Epoch 15/30 - Train Loss: 0.3310 - Val Loss: 0.3503 - Val Dice: 0.7010 - Val IoU: 0.5916\n",
     "output_type": "stream"
    },
    {
     "name": "stderr",
     "text": "Epoch 16/30: 100%|██████████| 544/544 [00:47<00:00, 11.55batch/s]\n",
     "output_type": "stream"
    },
    {
     "name": "stdout",
     "text": "Epoch 16/30 - Train Loss: 0.3294 - Val Loss: 0.3478 - Val Dice: 0.7046 - Val IoU: 0.5951\n",
     "output_type": "stream"
    },
    {
     "name": "stderr",
     "text": "Epoch 17/30: 100%|██████████| 544/544 [00:47<00:00, 11.54batch/s]\n",
     "output_type": "stream"
    },
    {
     "name": "stdout",
     "text": "Epoch 17/30 - Train Loss: 0.3287 - Val Loss: 0.3487 - Val Dice: 0.6877 - Val IoU: 0.5775\n",
     "output_type": "stream"
    },
    {
     "name": "stderr",
     "text": "Epoch 18/30: 100%|██████████| 544/544 [00:47<00:00, 11.50batch/s]\n",
     "output_type": "stream"
    },
    {
     "name": "stdout",
     "text": "Epoch 18/30 - Train Loss: 0.3265 - Val Loss: 0.3462 - Val Dice: 0.7021 - Val IoU: 0.5919\n",
     "output_type": "stream"
    },
    {
     "name": "stderr",
     "text": "Epoch 19/30: 100%|██████████| 544/544 [00:47<00:00, 11.48batch/s]\n",
     "output_type": "stream"
    },
    {
     "name": "stdout",
     "text": "Epoch 19/30 - Train Loss: 0.3256 - Val Loss: 0.3464 - Val Dice: 0.6902 - Val IoU: 0.5799\n",
     "output_type": "stream"
    },
    {
     "name": "stderr",
     "text": "Epoch 20/30: 100%|██████████| 544/544 [00:47<00:00, 11.46batch/s]\n",
     "output_type": "stream"
    },
    {
     "name": "stdout",
     "text": "Epoch 20/30 - Train Loss: 0.3249 - Val Loss: 0.3469 - Val Dice: 0.6953 - Val IoU: 0.5849\n",
     "output_type": "stream"
    },
    {
     "name": "stderr",
     "text": "Epoch 21/30: 100%|██████████| 544/544 [00:47<00:00, 11.44batch/s]\n",
     "output_type": "stream"
    },
    {
     "name": "stdout",
     "text": "Epoch 21/30 - Train Loss: 0.3230 - Val Loss: 0.3484 - Val Dice: 0.7047 - Val IoU: 0.5953\n",
     "output_type": "stream"
    },
    {
     "name": "stderr",
     "text": "Epoch 22/30: 100%|██████████| 544/544 [00:47<00:00, 11.45batch/s]\n",
     "output_type": "stream"
    },
    {
     "name": "stdout",
     "text": "Epoch 22/30 - Train Loss: 0.3226 - Val Loss: 0.3459 - Val Dice: 0.7085 - Val IoU: 0.5997\n",
     "output_type": "stream"
    },
    {
     "name": "stderr",
     "text": "Epoch 23/30: 100%|██████████| 544/544 [00:47<00:00, 11.51batch/s]\n",
     "output_type": "stream"
    },
    {
     "name": "stdout",
     "text": "Epoch 23/30 - Train Loss: 0.3211 - Val Loss: 0.3462 - Val Dice: 0.7198 - Val IoU: 0.6113\n",
     "output_type": "stream"
    },
    {
     "name": "stderr",
     "text": "Epoch 24/30: 100%|██████████| 544/544 [00:47<00:00, 11.47batch/s]\n",
     "output_type": "stream"
    },
    {
     "name": "stdout",
     "text": "Epoch 24/30 - Train Loss: 0.3204 - Val Loss: 0.3460 - Val Dice: 0.7136 - Val IoU: 0.6050\n",
     "output_type": "stream"
    },
    {
     "name": "stderr",
     "text": "Epoch 25/30: 100%|██████████| 544/544 [00:47<00:00, 11.50batch/s]\n",
     "output_type": "stream"
    },
    {
     "name": "stdout",
     "text": "Epoch 25/30 - Train Loss: 0.3185 - Val Loss: 0.3489 - Val Dice: 0.7136 - Val IoU: 0.6052\n",
     "output_type": "stream"
    },
    {
     "name": "stderr",
     "text": "Epoch 26/30: 100%|██████████| 544/544 [00:47<00:00, 11.50batch/s]\n",
     "output_type": "stream"
    },
    {
     "name": "stdout",
     "text": "Epoch 26/30 - Train Loss: 0.3174 - Val Loss: 0.3498 - Val Dice: 0.6836 - Val IoU: 0.5733\n",
     "output_type": "stream"
    },
    {
     "name": "stderr",
     "text": "Epoch 27/30: 100%|██████████| 544/544 [00:47<00:00, 11.42batch/s]\n",
     "output_type": "stream"
    },
    {
     "name": "stdout",
     "text": "Epoch 27/30 - Train Loss: 0.3137 - Val Loss: 0.3494 - Val Dice: 0.7158 - Val IoU: 0.6078\n",
     "output_type": "stream"
    },
    {
     "name": "stderr",
     "text": "Epoch 28/30: 100%|██████████| 544/544 [00:47<00:00, 11.47batch/s]\n",
     "output_type": "stream"
    },
    {
     "name": "stdout",
     "text": "Epoch 28/30 - Train Loss: 0.3128 - Val Loss: 0.3471 - Val Dice: 0.7148 - Val IoU: 0.6059\n",
     "output_type": "stream"
    },
    {
     "name": "stderr",
     "text": "Epoch 29/30: 100%|██████████| 544/544 [00:47<00:00, 11.45batch/s]\n",
     "output_type": "stream"
    },
    {
     "name": "stdout",
     "text": "Epoch 29/30 - Train Loss: 0.3112 - Val Loss: 0.3480 - Val Dice: 0.7167 - Val IoU: 0.6095\n",
     "output_type": "stream"
    },
    {
     "name": "stderr",
     "text": "Epoch 30/30: 100%|██████████| 544/544 [00:47<00:00, 11.45batch/s]\n",
     "output_type": "stream"
    },
    {
     "name": "stdout",
     "text": "Epoch 30/30 - Train Loss: 0.3103 - Val Loss: 0.3479 - Val Dice: 0.7152 - Val IoU: 0.6065\n\nfinished training t1ce\n\n",
     "output_type": "stream"
    }
   ],
   "execution_count": 21
  },
  {
   "cell_type": "code",
   "source": "m = modalities[3]\nhist = train_one_modality(m, epochs=30, batch_size=8, lr=1e-4)\nhistories[m] = hist\nprint(f\"\\nfinished training {m}\\n\")",
   "metadata": {
    "trusted": true,
    "execution": {
     "iopub.status.busy": "2025-08-27T15:20:38.051887Z",
     "iopub.execute_input": "2025-08-27T15:20:38.052280Z",
     "iopub.status.idle": "2025-08-27T15:47:38.229396Z",
     "shell.execute_reply.started": "2025-08-27T15:20:38.052251Z",
     "shell.execute_reply": "2025-08-27T15:47:38.228425Z"
    }
   },
   "outputs": [
    {
     "name": "stderr",
     "text": "Epoch 1/30: 100%|██████████| 544/544 [00:50<00:00, 10.68batch/s]\n",
     "output_type": "stream"
    },
    {
     "name": "stdout",
     "text": "Epoch 1/30 - Train Loss: 0.5512 - Val Loss: 0.4378 - Val Dice: 0.4288 - Val IoU: 0.3646\n",
     "output_type": "stream"
    },
    {
     "name": "stderr",
     "text": "Epoch 2/30: 100%|██████████| 544/544 [00:49<00:00, 10.97batch/s]\n",
     "output_type": "stream"
    },
    {
     "name": "stdout",
     "text": "Epoch 2/30 - Train Loss: 0.4205 - Val Loss: 0.4047 - Val Dice: 0.5183 - Val IoU: 0.4236\n",
     "output_type": "stream"
    },
    {
     "name": "stderr",
     "text": "Epoch 3/30: 100%|██████████| 544/544 [00:49<00:00, 10.92batch/s]\n",
     "output_type": "stream"
    },
    {
     "name": "stdout",
     "text": "Epoch 3/30 - Train Loss: 0.4004 - Val Loss: 0.4017 - Val Dice: 0.5289 - Val IoU: 0.4358\n",
     "output_type": "stream"
    },
    {
     "name": "stderr",
     "text": "Epoch 4/30: 100%|██████████| 544/544 [00:49<00:00, 10.94batch/s]\n",
     "output_type": "stream"
    },
    {
     "name": "stdout",
     "text": "Epoch 4/30 - Train Loss: 0.3912 - Val Loss: 0.3834 - Val Dice: 0.5785 - Val IoU: 0.4733\n",
     "output_type": "stream"
    },
    {
     "name": "stderr",
     "text": "Epoch 5/30: 100%|██████████| 544/544 [00:49<00:00, 10.95batch/s]\n",
     "output_type": "stream"
    },
    {
     "name": "stdout",
     "text": "Epoch 5/30 - Train Loss: 0.3841 - Val Loss: 0.3787 - Val Dice: 0.5941 - Val IoU: 0.4888\n",
     "output_type": "stream"
    },
    {
     "name": "stderr",
     "text": "Epoch 6/30: 100%|██████████| 544/544 [00:49<00:00, 11.03batch/s]\n",
     "output_type": "stream"
    },
    {
     "name": "stdout",
     "text": "Epoch 6/30 - Train Loss: 0.3781 - Val Loss: 0.3764 - Val Dice: 0.5909 - Val IoU: 0.4844\n",
     "output_type": "stream"
    },
    {
     "name": "stderr",
     "text": "Epoch 7/30: 100%|██████████| 544/544 [00:49<00:00, 10.99batch/s]\n",
     "output_type": "stream"
    },
    {
     "name": "stdout",
     "text": "Epoch 7/30 - Train Loss: 0.3743 - Val Loss: 0.3761 - Val Dice: 0.5979 - Val IoU: 0.4915\n",
     "output_type": "stream"
    },
    {
     "name": "stderr",
     "text": "Epoch 8/30: 100%|██████████| 544/544 [00:49<00:00, 11.03batch/s]\n",
     "output_type": "stream"
    },
    {
     "name": "stdout",
     "text": "Epoch 8/30 - Train Loss: 0.3720 - Val Loss: 0.3721 - Val Dice: 0.6173 - Val IoU: 0.5091\n",
     "output_type": "stream"
    },
    {
     "name": "stderr",
     "text": "Epoch 9/30: 100%|██████████| 544/544 [00:49<00:00, 10.94batch/s]\n",
     "output_type": "stream"
    },
    {
     "name": "stdout",
     "text": "Epoch 9/30 - Train Loss: 0.3673 - Val Loss: 0.3698 - Val Dice: 0.6200 - Val IoU: 0.5123\n",
     "output_type": "stream"
    },
    {
     "name": "stderr",
     "text": "Epoch 10/30: 100%|██████████| 544/544 [00:49<00:00, 10.99batch/s]\n",
     "output_type": "stream"
    },
    {
     "name": "stdout",
     "text": "Epoch 10/30 - Train Loss: 0.3650 - Val Loss: 0.3706 - Val Dice: 0.6129 - Val IoU: 0.5046\n",
     "output_type": "stream"
    },
    {
     "name": "stderr",
     "text": "Epoch 11/30: 100%|██████████| 544/544 [00:49<00:00, 10.90batch/s]\n",
     "output_type": "stream"
    },
    {
     "name": "stdout",
     "text": "Epoch 11/30 - Train Loss: 0.3619 - Val Loss: 0.3689 - Val Dice: 0.6133 - Val IoU: 0.5061\n",
     "output_type": "stream"
    },
    {
     "name": "stderr",
     "text": "Epoch 12/30: 100%|██████████| 544/544 [00:49<00:00, 10.95batch/s]\n",
     "output_type": "stream"
    },
    {
     "name": "stdout",
     "text": "Epoch 12/30 - Train Loss: 0.3589 - Val Loss: 0.3691 - Val Dice: 0.6096 - Val IoU: 0.5033\n",
     "output_type": "stream"
    },
    {
     "name": "stderr",
     "text": "Epoch 13/30: 100%|██████████| 544/544 [00:49<00:00, 11.01batch/s]\n",
     "output_type": "stream"
    },
    {
     "name": "stdout",
     "text": "Epoch 13/30 - Train Loss: 0.3572 - Val Loss: 0.3737 - Val Dice: 0.6015 - Val IoU: 0.4956\n",
     "output_type": "stream"
    },
    {
     "name": "stderr",
     "text": "Epoch 14/30: 100%|██████████| 544/544 [00:49<00:00, 10.90batch/s]\n",
     "output_type": "stream"
    },
    {
     "name": "stdout",
     "text": "Epoch 14/30 - Train Loss: 0.3553 - Val Loss: 0.3664 - Val Dice: 0.6249 - Val IoU: 0.5172\n",
     "output_type": "stream"
    },
    {
     "name": "stderr",
     "text": "Epoch 15/30: 100%|██████████| 544/544 [00:49<00:00, 10.93batch/s]\n",
     "output_type": "stream"
    },
    {
     "name": "stdout",
     "text": "Epoch 15/30 - Train Loss: 0.3521 - Val Loss: 0.3669 - Val Dice: 0.6188 - Val IoU: 0.5114\n",
     "output_type": "stream"
    },
    {
     "name": "stderr",
     "text": "Epoch 16/30: 100%|██████████| 544/544 [00:49<00:00, 10.98batch/s]\n",
     "output_type": "stream"
    },
    {
     "name": "stdout",
     "text": "Epoch 16/30 - Train Loss: 0.3519 - Val Loss: 0.3708 - Val Dice: 0.6112 - Val IoU: 0.5037\n",
     "output_type": "stream"
    },
    {
     "name": "stderr",
     "text": "Epoch 17/30: 100%|██████████| 544/544 [00:49<00:00, 11.04batch/s]\n",
     "output_type": "stream"
    },
    {
     "name": "stdout",
     "text": "Epoch 17/30 - Train Loss: 0.3495 - Val Loss: 0.3725 - Val Dice: 0.6084 - Val IoU: 0.5030\n",
     "output_type": "stream"
    },
    {
     "name": "stderr",
     "text": "Epoch 18/30: 100%|██████████| 544/544 [00:49<00:00, 11.05batch/s]\n",
     "output_type": "stream"
    },
    {
     "name": "stdout",
     "text": "Epoch 18/30 - Train Loss: 0.3475 - Val Loss: 0.3675 - Val Dice: 0.6240 - Val IoU: 0.5174\n",
     "output_type": "stream"
    },
    {
     "name": "stderr",
     "text": "Epoch 19/30: 100%|██████████| 544/544 [00:49<00:00, 10.98batch/s]\n",
     "output_type": "stream"
    },
    {
     "name": "stdout",
     "text": "Epoch 19/30 - Train Loss: 0.3429 - Val Loss: 0.3644 - Val Dice: 0.6321 - Val IoU: 0.5245\n",
     "output_type": "stream"
    },
    {
     "name": "stderr",
     "text": "Epoch 20/30: 100%|██████████| 544/544 [00:49<00:00, 11.00batch/s]\n",
     "output_type": "stream"
    },
    {
     "name": "stdout",
     "text": "Epoch 20/30 - Train Loss: 0.3408 - Val Loss: 0.3656 - Val Dice: 0.6329 - Val IoU: 0.5254\n",
     "output_type": "stream"
    },
    {
     "name": "stderr",
     "text": "Epoch 21/30: 100%|██████████| 544/544 [00:49<00:00, 11.00batch/s]\n",
     "output_type": "stream"
    },
    {
     "name": "stdout",
     "text": "Epoch 21/30 - Train Loss: 0.3398 - Val Loss: 0.3635 - Val Dice: 0.6332 - Val IoU: 0.5255\n",
     "output_type": "stream"
    },
    {
     "name": "stderr",
     "text": "Epoch 22/30: 100%|██████████| 544/544 [00:49<00:00, 10.94batch/s]\n",
     "output_type": "stream"
    },
    {
     "name": "stdout",
     "text": "Epoch 22/30 - Train Loss: 0.3373 - Val Loss: 0.3674 - Val Dice: 0.6292 - Val IoU: 0.5221\n",
     "output_type": "stream"
    },
    {
     "name": "stderr",
     "text": "Epoch 23/30: 100%|██████████| 544/544 [00:49<00:00, 10.95batch/s]\n",
     "output_type": "stream"
    },
    {
     "name": "stdout",
     "text": "Epoch 23/30 - Train Loss: 0.3373 - Val Loss: 0.3647 - Val Dice: 0.6337 - Val IoU: 0.5254\n",
     "output_type": "stream"
    },
    {
     "name": "stderr",
     "text": "Epoch 24/30: 100%|██████████| 544/544 [00:49<00:00, 11.01batch/s]\n",
     "output_type": "stream"
    },
    {
     "name": "stdout",
     "text": "Epoch 24/30 - Train Loss: 0.3358 - Val Loss: 0.3650 - Val Dice: 0.6376 - Val IoU: 0.5299\n",
     "output_type": "stream"
    },
    {
     "name": "stderr",
     "text": "Epoch 25/30: 100%|██████████| 544/544 [00:49<00:00, 10.99batch/s]\n",
     "output_type": "stream"
    },
    {
     "name": "stdout",
     "text": "Epoch 25/30 - Train Loss: 0.3356 - Val Loss: 0.3654 - Val Dice: 0.6352 - Val IoU: 0.5269\n",
     "output_type": "stream"
    },
    {
     "name": "stderr",
     "text": "Epoch 26/30: 100%|██████████| 544/544 [00:49<00:00, 10.99batch/s]\n",
     "output_type": "stream"
    },
    {
     "name": "stdout",
     "text": "Epoch 26/30 - Train Loss: 0.3323 - Val Loss: 0.3657 - Val Dice: 0.6407 - Val IoU: 0.5330\n",
     "output_type": "stream"
    },
    {
     "name": "stderr",
     "text": "Epoch 27/30: 100%|██████████| 544/544 [00:49<00:00, 11.06batch/s]\n",
     "output_type": "stream"
    },
    {
     "name": "stdout",
     "text": "Epoch 27/30 - Train Loss: 0.3324 - Val Loss: 0.3654 - Val Dice: 0.6436 - Val IoU: 0.5360\n",
     "output_type": "stream"
    },
    {
     "name": "stderr",
     "text": "Epoch 28/30: 100%|██████████| 544/544 [00:49<00:00, 11.05batch/s]\n",
     "output_type": "stream"
    },
    {
     "name": "stdout",
     "text": "Epoch 28/30 - Train Loss: 0.3307 - Val Loss: 0.3651 - Val Dice: 0.6398 - Val IoU: 0.5320\n",
     "output_type": "stream"
    },
    {
     "name": "stderr",
     "text": "Epoch 29/30: 100%|██████████| 544/544 [00:49<00:00, 11.02batch/s]\n",
     "output_type": "stream"
    },
    {
     "name": "stdout",
     "text": "Epoch 29/30 - Train Loss: 0.3305 - Val Loss: 0.3666 - Val Dice: 0.6373 - Val IoU: 0.5299\n",
     "output_type": "stream"
    },
    {
     "name": "stderr",
     "text": "Epoch 30/30: 100%|██████████| 544/544 [00:49<00:00, 10.98batch/s]\n",
     "output_type": "stream"
    },
    {
     "name": "stdout",
     "text": "Epoch 30/30 - Train Loss: 0.3289 - Val Loss: 0.3636 - Val Dice: 0.6428 - Val IoU: 0.5345\n\nfinished training t2\n\n",
     "output_type": "stream"
    }
   ],
   "execution_count": 10
  },
  {
   "cell_type": "code",
   "source": "import matplotlib.pyplot as plt\n\nepochs = range(1, 31)\n\n# Plot Train and Val Loss\nplt.figure(figsize=(12,6))\nfor k, v in histories.items():  # .items() gives key, value\n    plt.plot(epochs, v[\"train_loss\"], label=f\"{k} Train\", linestyle='--')\n    plt.plot(epochs, v[\"val_loss\"], label=f\"{k} Val\", linestyle='-')\nplt.xlabel(\"Epochs\")\nplt.ylabel(\"Loss\")\nplt.title(\"Training and Validation Loss for all 4 models\")\nplt.legend()\nplt.grid(True)\nplt.show()\n\n# Plot Val Dice and Val IoU\nplt.figure(figsize=(12,6))\nfor k, v in histories.items():\n    plt.plot(epochs, v[\"val_dice\"], label=f\"{k} Dice\", linestyle='--')\n    plt.plot(epochs, v[\"val_iou\"], label=f\"{k} IoU\", linestyle='-')\nplt.xlabel(\"Epochs\")\nplt.ylabel(\"Score\")\nplt.title(\"Validation Dice and IoU scores for all 4 models\")\nplt.legend()\nplt.grid(True)\nplt.show()\n",
   "metadata": {
    "trusted": true,
    "execution": {
     "iopub.status.busy": "2025-08-27T16:00:59.204898Z",
     "iopub.execute_input": "2025-08-27T16:00:59.205281Z",
     "iopub.status.idle": "2025-08-27T16:00:59.787847Z",
     "shell.execute_reply.started": "2025-08-27T16:00:59.205253Z",
     "shell.execute_reply": "2025-08-27T16:00:59.787059Z"
    }
   },
   "outputs": [
    {
     "output_type": "display_data",
     "data": {
      "text/plain": "<Figure size 1200x600 with 1 Axes>",
      "image/png": "[encoded data removed]"
     },
     "metadata": {}
    },
    {
     "output_type": "display_data",
     "data": {
      "text/plain": "<Figure size 1200x600 with 1 Axes>",
      "image/png": "[encoded data removed]"
     },
     "metadata": {}
    }
   ],
   "execution_count": 24
  },
  {
   "cell_type": "code",
   "source": [
    "import torch\n",
    "import matplotlib.pyplot as plt\n",
    "import numpy as np\n",
    "\n",
    "device = \"cuda\"\n",
    "\n",
    "# Define colors for 4 classes (adjust if needed)\n",
    "COLORS = {\n",
    "    0: (0, 0, 0),       # background - black\n",
    "    1: (255, 0, 0),     # class 1 - red\n",
    "    2: (0, 255, 0),     # class 2 - green\n",
    "    3: (0, 0, 255)      # class 3 - blue\n",
    "}\n",
    "\n",
    "def decode_mask(mask):\n",
    "    \"\"\"Convert mask (H,W) with class indices into RGB image\"\"\"\n",
    "    h, w = mask.shape\n",
    "    color_mask = np.zeros((h, w, 3), dtype=np.uint8)\n",
    "    for cls, color in COLORS.items():\n",
    "        color_mask[mask == cls] = color\n",
    "    return color_mask\n",
    "\n",
    "# ---- Example prediction ----\n",
    "\n",
    "model = get_model().to(device);\n",
    "model.load_state_dict(torch.load(\"/kaggle/working/flair_2_unet_resnet18.pth\", map_location=device))\n",
    "    \n",
    "dataset = BrainMRIDataset(\"/kaggle/input/brats20-sampled-subset-png/dataset/flair/images\",\n",
    "                          \"/kaggle/input/brats20-sampled-subset-png/dataset/flair/masks\")\n",
    "\n",
    "model.eval()\n",
    "with torch.no_grad():\n",
    "    sample_img, sample_mask = dataset[0]   \n",
    "    img_tensor = sample_img.unsqueeze(0).to(device)  \n",
    "    pred = model(img_tensor)               \n",
    "    pred_class = torch.argmax(pred, dim=1).squeeze().cpu().numpy()\n",
    "\n",
    "# Convert ground truth & prediction to color masks\n",
    "gt_mask = sample_mask.numpy()  \n",
    "gt_colored = decode_mask(gt_mask)\n",
    "pred_colored = decode_mask(pred_class)\n",
    "\n",
    "# Plot comparison\n",
    "plt.figure(figsize=(12,4))\n",
    "plt.subplot(1,3,1)\n",
    "plt.imshow(sample_img.squeeze(), cmap=\"gray\")\n",
    "plt.title(\"MRI Image\")\n",
    "\n",
    "plt.subplot(1,3,2)\n",
    "plt.imshow(gt_colored)\n",
    "plt.title(\"Ground Truth\")\n",
    "\n",
    "plt.subplot(1,3,3)\n",
    "plt.imshow(pred_colored)\n",
    "plt.title(\"Prediction\")\n",
    "plt.show()"
   ],
   "metadata": {
    "trusted": true,
    "execution": {
     "iopub.status.busy": "2025-08-27T17:09:39.531472Z",
     "iopub.execute_input": "2025-08-27T17:09:39.531735Z",
     "iopub.status.idle": "2025-08-27T17:09:40.349965Z",
     "shell.execute_reply.started": "2025-08-27T17:09:39.531719Z",
     "shell.execute_reply": "2025-08-27T17:09:40.349147Z"
    }
   },
   "outputs": [
    {
     "output_type": "display_data",
     "data": {
      "text/plain": "<Figure size 1200x400 with 3 Axes>",
      "image/png": "[encoded data removed]"
     },
     "metadata": {}
    }
   ],
   "execution_count": 42
  },
  {
   "cell_type": "markdown",
   "source": "## Post-Training Analysis\n\n- Model performs well on clear tumor regions but struggles on very small/blurred tumors.\n- Overfitting observed after N epochs → applied Early Stopping + Data Augmentation.\n- Segmentation masks show smooth tumor boundaries, but misclassification occurs in noisy regions.\n\n### models perform reseonably well with respect to the size of dataset used and hardware constraints\n\nTrained few more epochs in hope of improvement but no improvement observed.",
   "metadata": {}
  },
  {
   "cell_type": "code",
   "source": "ext_hist_flair = train_one_modality(\"flair\", epochs=5, weights_path=\"/kaggle/working/flair_unet.pth\")",
   "metadata": {
    "trusted": true,
    "execution": {
     "iopub.status.busy": "2025-08-27T16:23:44.472836Z",
     "iopub.execute_input": "2025-08-27T16:23:44.474015Z",
     "iopub.status.idle": "2025-08-27T16:28:11.445672Z",
     "shell.execute_reply.started": "2025-08-27T16:23:44.473950Z",
     "shell.execute_reply": "2025-08-27T16:28:11.444768Z"
    }
   },
   "outputs": [
    {
     "name": "stdout",
     "text": "Loading pretrained weights from /kaggle/working/flair_2_unet_resnet18.pth\n",
     "output_type": "stream"
    },
    {
     "name": "stderr",
     "text": "Epoch 1/5: 100%|██████████| 543/543 [00:49<00:00, 11.03batch/s]\n",
     "output_type": "stream"
    },
    {
     "name": "stdout",
     "text": "Epoch 1/5 - Train Loss: 0.3499 - Val Loss: 0.3459 - Val Dice: 0.6659 - Val IoU: 0.5557\n",
     "output_type": "stream"
    },
    {
     "name": "stderr",
     "text": "Epoch 2/5: 100%|██████████| 543/543 [00:49<00:00, 11.06batch/s]\n",
     "output_type": "stream"
    },
    {
     "name": "stdout",
     "text": "Epoch 2/5 - Train Loss: 0.3478 - Val Loss: 0.3447 - Val Dice: 0.6702 - Val IoU: 0.5597\n",
     "output_type": "stream"
    },
    {
     "name": "stderr",
     "text": "Epoch 3/5: 100%|██████████| 543/543 [00:48<00:00, 11.10batch/s]\n",
     "output_type": "stream"
    },
    {
     "name": "stdout",
     "text": "Epoch 3/5 - Train Loss: 0.3466 - Val Loss: 0.3426 - Val Dice: 0.6847 - Val IoU: 0.5769\n",
     "output_type": "stream"
    },
    {
     "name": "stderr",
     "text": "Epoch 4/5: 100%|██████████| 543/543 [00:48<00:00, 11.09batch/s]\n",
     "output_type": "stream"
    },
    {
     "name": "stdout",
     "text": "Epoch 4/5 - Train Loss: 0.3434 - Val Loss: 0.3449 - Val Dice: 0.6772 - Val IoU: 0.5667\n",
     "output_type": "stream"
    },
    {
     "name": "stderr",
     "text": "Epoch 5/5: 100%|██████████| 543/543 [00:49<00:00, 11.07batch/s]\n",
     "output_type": "stream"
    },
    {
     "name": "stdout",
     "text": "Epoch 5/5 - Train Loss: 0.3431 - Val Loss: 0.3446 - Val Dice: 0.6830 - Val IoU: 0.5723\n",
     "output_type": "stream"
    }
   ],
   "execution_count": 34
  },
  {
   "cell_type": "code",
   "source": "ext_hist_t1 = train_one_modality(\"t1\", epochs=7, weights_path=\"/kaggle/working/t1_unet.pth\")",
   "metadata": {
    "trusted": true,
    "execution": {
     "iopub.status.busy": "2025-08-27T16:30:28.633307Z",
     "iopub.execute_input": "2025-08-27T16:30:28.633627Z",
     "iopub.status.idle": "2025-08-27T16:36:43.494685Z",
     "shell.execute_reply.started": "2025-08-27T16:30:28.633602Z",
     "shell.execute_reply": "2025-08-27T16:36:43.493708Z"
    }
   },
   "outputs": [
    {
     "name": "stdout",
     "text": "Loading pretrained weights from /kaggle/working/t1_2_unet_resnet18.pth\n",
     "output_type": "stream"
    },
    {
     "name": "stderr",
     "text": "Epoch 1/7: 100%|██████████| 544/544 [00:49<00:00, 11.04batch/s]\n",
     "output_type": "stream"
    },
    {
     "name": "stdout",
     "text": "Epoch 1/7 - Train Loss: 0.3756 - Val Loss: 0.3674 - Val Dice: 0.6324 - Val IoU: 0.5211\n",
     "output_type": "stream"
    },
    {
     "name": "stderr",
     "text": "Epoch 2/7: 100%|██████████| 544/544 [00:49<00:00, 11.06batch/s]\n",
     "output_type": "stream"
    },
    {
     "name": "stdout",
     "text": "Epoch 2/7 - Train Loss: 0.3745 - Val Loss: 0.3686 - Val Dice: 0.6271 - Val IoU: 0.5177\n",
     "output_type": "stream"
    },
    {
     "name": "stderr",
     "text": "Epoch 3/7: 100%|██████████| 544/544 [00:49<00:00, 11.10batch/s]\n",
     "output_type": "stream"
    },
    {
     "name": "stdout",
     "text": "Epoch 3/7 - Train Loss: 0.3713 - Val Loss: 0.3732 - Val Dice: 0.6241 - Val IoU: 0.5165\n",
     "output_type": "stream"
    },
    {
     "name": "stderr",
     "text": "Epoch 4/7: 100%|██████████| 544/544 [00:48<00:00, 11.12batch/s]\n",
     "output_type": "stream"
    },
    {
     "name": "stdout",
     "text": "Epoch 4/7 - Train Loss: 0.3702 - Val Loss: 0.3687 - Val Dice: 0.6277 - Val IoU: 0.5175\n",
     "output_type": "stream"
    },
    {
     "name": "stderr",
     "text": "Epoch 5/7: 100%|██████████| 544/544 [00:49<00:00, 11.10batch/s]\n",
     "output_type": "stream"
    },
    {
     "name": "stdout",
     "text": "Epoch 5/7 - Train Loss: 0.3687 - Val Loss: 0.3745 - Val Dice: 0.6258 - Val IoU: 0.5161\n",
     "output_type": "stream"
    },
    {
     "name": "stderr",
     "text": "Epoch 6/7: 100%|██████████| 544/544 [00:48<00:00, 11.14batch/s]\n",
     "output_type": "stream"
    },
    {
     "name": "stdout",
     "text": "Epoch 6/7 - Train Loss: 0.3622 - Val Loss: 0.3678 - Val Dice: 0.6395 - Val IoU: 0.5293\n",
     "output_type": "stream"
    },
    {
     "name": "stderr",
     "text": "Epoch 7/7: 100%|██████████| 544/544 [00:48<00:00, 11.15batch/s]\n",
     "output_type": "stream"
    },
    {
     "name": "stdout",
     "text": "Epoch 7/7 - Train Loss: 0.3595 - Val Loss: 0.3674 - Val Dice: 0.6400 - Val IoU: 0.5301\n",
     "output_type": "stream"
    }
   ],
   "execution_count": 35
  },
  {
   "cell_type": "code",
   "source": "ext_hist_t2 = train_one_modality(\"t2\", epochs=7, weights_path=\"/kaggle/working/t2_unet.pth\")",
   "metadata": {
    "trusted": true,
    "execution": {
     "iopub.status.busy": "2025-08-27T16:36:51.258060Z",
     "iopub.execute_input": "2025-08-27T16:36:51.258835Z",
     "iopub.status.idle": "2025-08-27T16:43:04.623520Z",
     "shell.execute_reply.started": "2025-08-27T16:36:51.258807Z",
     "shell.execute_reply": "2025-08-27T16:43:04.622497Z"
    }
   },
   "outputs": [
    {
     "name": "stdout",
     "text": "Loading pretrained weights from /kaggle/working/t2_2_unet_resnet18.pth\n",
     "output_type": "stream"
    },
    {
     "name": "stderr",
     "text": "Epoch 1/7: 100%|██████████| 544/544 [00:48<00:00, 11.24batch/s]\n",
     "output_type": "stream"
    },
    {
     "name": "stdout",
     "text": "Epoch 1/7 - Train Loss: 0.3465 - Val Loss: 0.3439 - Val Dice: 0.6897 - Val IoU: 0.5803\n",
     "output_type": "stream"
    },
    {
     "name": "stderr",
     "text": "Epoch 2/7: 100%|██████████| 544/544 [00:49<00:00, 11.09batch/s]\n",
     "output_type": "stream"
    },
    {
     "name": "stdout",
     "text": "Epoch 2/7 - Train Loss: 0.3458 - Val Loss: 0.3449 - Val Dice: 0.6821 - Val IoU: 0.5716\n",
     "output_type": "stream"
    },
    {
     "name": "stderr",
     "text": "Epoch 3/7: 100%|██████████| 544/544 [00:49<00:00, 11.05batch/s]\n",
     "output_type": "stream"
    },
    {
     "name": "stdout",
     "text": "Epoch 3/7 - Train Loss: 0.3433 - Val Loss: 0.3441 - Val Dice: 0.6873 - Val IoU: 0.5768\n",
     "output_type": "stream"
    },
    {
     "name": "stderr",
     "text": "Epoch 4/7: 100%|██████████| 544/544 [00:49<00:00, 11.10batch/s]\n",
     "output_type": "stream"
    },
    {
     "name": "stdout",
     "text": "Epoch 4/7 - Train Loss: 0.3429 - Val Loss: 0.3453 - Val Dice: 0.6813 - Val IoU: 0.5703\n",
     "output_type": "stream"
    },
    {
     "name": "stderr",
     "text": "Epoch 5/7: 100%|██████████| 544/544 [00:49<00:00, 11.09batch/s]\n",
     "output_type": "stream"
    },
    {
     "name": "stdout",
     "text": "Epoch 5/7 - Train Loss: 0.3406 - Val Loss: 0.3479 - Val Dice: 0.6752 - Val IoU: 0.5642\n",
     "output_type": "stream"
    },
    {
     "name": "stderr",
     "text": "Epoch 6/7: 100%|██████████| 544/544 [00:49<00:00, 11.05batch/s]\n",
     "output_type": "stream"
    },
    {
     "name": "stdout",
     "text": "Epoch 6/7 - Train Loss: 0.3363 - Val Loss: 0.3461 - Val Dice: 0.6848 - Val IoU: 0.5761\n",
     "output_type": "stream"
    },
    {
     "name": "stderr",
     "text": "Epoch 7/7: 100%|██████████| 544/544 [00:49<00:00, 11.02batch/s]\n",
     "output_type": "stream"
    },
    {
     "name": "stdout",
     "text": "Epoch 7/7 - Train Loss: 0.3334 - Val Loss: 0.3448 - Val Dice: 0.6910 - Val IoU: 0.5799\n",
     "output_type": "stream"
    }
   ],
   "execution_count": 36
  },
  {
   "cell_type": "code",
   "source": "ext_hist_t1ce = train_one_modality(\"t1ce\", epochs=5, weights_path=\"/kaggle/working/t1ce_unet.pth\")",
   "metadata": {
    "trusted": true,
    "execution": {
     "iopub.status.busy": "2025-08-27T16:17:40.043291Z",
     "iopub.execute_input": "2025-08-27T16:17:40.043612Z",
     "iopub.status.idle": "2025-08-27T16:22:10.677843Z",
     "shell.execute_reply.started": "2025-08-27T16:17:40.043585Z",
     "shell.execute_reply": "2025-08-27T16:22:10.676848Z"
    }
   },
   "outputs": [
    {
     "name": "stdout",
     "text": "Loading pretrained weights from /kaggle/working/t1ce_2_unet_resnet18.pth\n",
     "output_type": "stream"
    },
    {
     "name": "stderr",
     "text": "Epoch 1/5: 100%|██████████| 544/544 [00:49<00:00, 11.07batch/s]\n",
     "output_type": "stream"
    },
    {
     "name": "stdout",
     "text": "Epoch 1/5 - Train Loss: 0.3274 - Val Loss: 0.3223 - Val Dice: 0.7403 - Val IoU: 0.6326\n",
     "output_type": "stream"
    },
    {
     "name": "stderr",
     "text": "Epoch 2/5: 100%|██████████| 544/544 [00:48<00:00, 11.12batch/s]\n",
     "output_type": "stream"
    },
    {
     "name": "stdout",
     "text": "Epoch 2/5 - Train Loss: 0.3256 - Val Loss: 0.3197 - Val Dice: 0.7473 - Val IoU: 0.6381\n",
     "output_type": "stream"
    },
    {
     "name": "stderr",
     "text": "Epoch 3/5: 100%|██████████| 544/544 [00:49<00:00, 10.94batch/s]\n",
     "output_type": "stream"
    },
    {
     "name": "stdout",
     "text": "Epoch 3/5 - Train Loss: 0.3248 - Val Loss: 0.3211 - Val Dice: 0.7502 - Val IoU: 0.6417\n",
     "output_type": "stream"
    },
    {
     "name": "stderr",
     "text": "Epoch 4/5: 100%|██████████| 544/544 [00:49<00:00, 10.97batch/s]\n",
     "output_type": "stream"
    },
    {
     "name": "stdout",
     "text": "Epoch 4/5 - Train Loss: 0.3227 - Val Loss: 0.3195 - Val Dice: 0.7478 - Val IoU: 0.6388\n",
     "output_type": "stream"
    },
    {
     "name": "stderr",
     "text": "Epoch 5/5: 100%|██████████| 544/544 [00:49<00:00, 10.91batch/s]\n",
     "output_type": "stream"
    },
    {
     "name": "stdout",
     "text": "Epoch 5/5 - Train Loss: 0.3222 - Val Loss: 0.3203 - Val Dice: 0.7720 - Val IoU: 0.6666\n",
     "output_type": "stream"
    }
   ],
   "execution_count": 30
  }
 ]
}
