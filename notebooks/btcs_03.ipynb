{
 "cells": [
  {
   "metadata": {},
   "cell_type": "markdown",
   "source": [
    "# Brain Tumor Segmentation\n",
    "\n",
    "This project uses a Convolutional Neural Network (CNN) to analyse MRI brain scan images to indentify tumor regions and perform multiclass segmentation. The model is trained using a subset of the **BraTS2020** datset from Kaggle and is designed for deployment in clinical aid tools.\n",
    "\n",
    "### Objective\n",
    "To segment MRI images of the brain into:\n",
    "- Background\n",
    "- Enhancing\n",
    "- non Enhancing\n",
    "- Edema\n",
    "\n",
    "We use **transfer learning with MobileNetV2** for efficient classification, aiming for both accuracy and lightweight deployment.\n",
    "\n",
    "---"
   ],
   "id": "d7fc60227d682f4d"
  },
  {
   "metadata": {},
   "cell_type": "code",
   "outputs": [],
   "execution_count": 2,
   "source": [
    "from pathlib import Path\n",
    "import numpy as np\n",
    "import cv2\n",
    "\n",
    "import torch\n",
    "from torch import nn, optim\n",
    "from torch.utils.data import Dataset, DataLoader, random_split\n",
    "\n",
    "import albumentations as A\n",
    "from albumentations.pytorch import ToTensorV2\n",
    "\n",
    "import segmentation_models_pytorch as smp\n",
    "\n",
    "from tqdm import tqdm"
   ],
   "id": "2ba40687"
  },
  {
   "metadata": {},
   "cell_type": "markdown",
   "source": [
    "### Clean data\n",
    "\n",
    "Remove triplets with empty segmentation overlays in training data"
   ],
   "id": "71761921e1de7384"
  },
  {
   "cell_type": "code",
   "execution_count": 3,
   "id": "76619892",
   "metadata": {
    "execution": {
     "iopub.execute_input": "2025-09-05T14:20:48.269888Z",
     "iopub.status.busy": "2025-09-05T14:20:48.269637Z",
     "iopub.status.idle": "2025-09-05T14:20:50.263439Z",
     "shell.execute_reply": "2025-09-05T14:20:50.262558Z"
    },
    "papermill": {
     "duration": 2.016407,
     "end_time": "2025-09-05T14:20:50.264736",
     "exception": false,
     "start_time": "2025-09-05T14:20:48.248329",
     "status": "completed"
    },
    "tags": []
   },
   "outputs": [
    {
     "name": "stdout",
     "output_type": "stream",
     "text": [
      "Total triplets found: 37242\n"
     ]
    }
   ],
   "source": [
    "root_dir = \"/kaggle/input/brats-subset/sampled_pngs\"\n",
    "\n",
    "flair_dir = Path(root_dir) / \"flair\"\n",
    "t1ce_dir  = Path(root_dir) / \"t1ce\"\n",
    "seg_dir   = Path(root_dir) / \"seg\"\n",
    "\n",
    "def parse_filename(fname: str):\n",
    "    \"\"\"\n",
    "    Example: BraTS20_Training_001_flair_axial_32.png\n",
    "    Returns: (pid, plane, slice)\n",
    "    \"\"\"\n",
    "    parts = fname.split(\"_\")\n",
    "    pid = parts[2]   # '001'\n",
    "    plane = parts[4] # 'axial', 'sagittal', or 'coronal'\n",
    "    slice_idx = parts[5].replace(\".png\", \"\")\n",
    "    return pid, plane, slice_idx\n",
    "\n",
    "# Build lookup dictionaries\n",
    "flair_map, t1ce_map, seg_map = {}, {}, {}\n",
    "\n",
    "for f in flair_dir.glob(\"*.png\"):\n",
    "    pid, plane, sl = parse_filename(f.name)\n",
    "    key = (pid, plane, sl)\n",
    "    flair_map[key] = str(f)\n",
    "\n",
    "for f in t1ce_dir.glob(\"*.png\"):\n",
    "    pid, plane, sl = parse_filename(f.name)\n",
    "    key = (pid, plane, sl)\n",
    "    t1ce_map[key] = str(f)\n",
    "\n",
    "for f in seg_dir.glob(\"*.png\"):\n",
    "    pid, plane, sl = parse_filename(f.name)\n",
    "    key = (pid, plane, sl)\n",
    "    seg_map[key] = str(f)\n",
    "\n",
    "# Collect triplets\n",
    "triplets = []\n",
    "for key in flair_map.keys():\n",
    "    if key in t1ce_map and key in seg_map:\n",
    "        triplets.append((flair_map[key], t1ce_map[key], seg_map[key]))\n",
    "\n",
    "print(f\"Total triplets found: {len(triplets)}\")"
   ]
  },
  {
   "cell_type": "code",
   "execution_count": 4,
   "id": "d171888b",
   "metadata": {
    "execution": {
     "iopub.execute_input": "2025-09-05T14:20:50.307644Z",
     "iopub.status.busy": "2025-09-05T14:20:50.307379Z",
     "iopub.status.idle": "2025-09-05T14:24:37.735533Z",
     "shell.execute_reply": "2025-09-05T14:24:37.734751Z"
    },
    "papermill": {
     "duration": 227.472464,
     "end_time": "2025-09-05T14:24:37.758314",
     "exception": false,
     "start_time": "2025-09-05T14:20:50.285850",
     "status": "completed"
    },
    "tags": []
   },
   "outputs": [
    {
     "name": "stdout",
     "output_type": "stream",
     "text": [
      "total items with empty seg masks: 14317\n"
     ]
    }
   ],
   "source": [
    "import random\n",
    "\n",
    "# Split slices\n",
    "labeled_slices = [t for t in triplets if cv2.imread(t[2], cv2.IMREAD_GRAYSCALE).max() > 0]\n",
    "empty_slices = [t for t in triplets if cv2.imread(t[2], cv2.IMREAD_GRAYSCALE).max() == 0]\n",
    "\n",
    "print(f\"total items with empty seg masks: {len(empty_slices)}\")"
   ]
  },
  {
   "cell_type": "code",
   "execution_count": 5,
   "id": "a589b3d9",
   "metadata": {
    "execution": {
     "iopub.execute_input": "2025-09-05T14:24:37.802659Z",
     "iopub.status.busy": "2025-09-05T14:24:37.802027Z",
     "iopub.status.idle": "2025-09-05T14:24:37.815445Z",
     "shell.execute_reply": "2025-09-05T14:24:37.814598Z"
    },
    "papermill": {
     "duration": 0.037187,
     "end_time": "2025-09-05T14:24:37.816628",
     "exception": false,
     "start_time": "2025-09-05T14:24:37.779441",
     "status": "completed"
    },
    "tags": []
   },
   "outputs": [
    {
     "name": "stdout",
     "output_type": "stream",
     "text": [
      "Final dataset size: 24356\n"
     ]
    }
   ],
   "source": [
    "# Keep 10% of empty slices\n",
    "keep_empty_frac = 0.1\n",
    "kept_empty = random.sample(empty_slices, int(len(empty_slices) * keep_empty_frac))\n",
    "\n",
    "# Final dataset\n",
    "final_triplets = labeled_slices + kept_empty\n",
    "random.shuffle(final_triplets)\n",
    "\n",
    "print(f\"Final dataset size: {len(final_triplets)}\")"
   ]
  },
  {
   "metadata": {},
   "cell_type": "markdown",
   "source": [
    "## Dataset and Data Loaders\n",
    "\n",
    "- Perform Image agumentation\n",
    "- Randomly drop one channel to drop modality\n",
    "- Randomly send same mosality in both channels"
   ],
   "id": "c8d07bf815251021"
  },
  {
   "cell_type": "code",
   "execution_count": 6,
   "id": "40283423",
   "metadata": {
    "execution": {
     "iopub.execute_input": "2025-09-05T14:24:37.861750Z",
     "iopub.status.busy": "2025-09-05T14:24:37.861051Z",
     "iopub.status.idle": "2025-09-05T14:24:37.872811Z",
     "shell.execute_reply": "2025-09-05T14:24:37.872052Z"
    },
    "papermill": {
     "duration": 0.035351,
     "end_time": "2025-09-05T14:24:37.873973",
     "exception": false,
     "start_time": "2025-09-05T14:24:37.838622",
     "status": "completed"
    },
    "tags": []
   },
   "outputs": [],
   "source": [
    "class ChannelDropout(A.ImageOnlyTransform):\n",
    "    \"\"\"\n",
    "    Randomly zero one channel (simulate missing modality).\n",
    "    Optionally collapse both channels to the same surviving channel\n",
    "    to simulate inference with a single channel duplicated.\n",
    "    \"\"\"\n",
    "    def __init__(self, p=0.5, collapse_prob=0.25, always_apply=False):\n",
    "        super().__init__(always_apply, p)\n",
    "        self.collapse_prob = collapse_prob\n",
    "\n",
    "    def apply(self, img, **params):\n",
    "        # img: H x W x C\n",
    "        if img.ndim == 3 and img.shape[2] == 2:\n",
    "            drop_ch = np.random.randint(0, 2)   # 0 or 1\n",
    "            keep_ch = 1 - drop_ch\n",
    "            img[:, :, drop_ch] = 0.0\n",
    "            if np.random.rand() < self.collapse_prob:\n",
    "                # collapse: duplicate keep_ch into drop_ch\n",
    "                img[:, :, drop_ch] = img[:, :, keep_ch]\n",
    "        return img\n",
    "\n",
    "\n",
    "class BT_Dataset(Dataset):\n",
    "    def __init__(self, triplets, img_size=256, augment=True, dropout=True, n_classes=4):\n",
    "        self.triplets = triplets\n",
    "        self.n_classes = n_classes\n",
    "        self.mapping = {0: 0, 85: 1, 170: 2, 255: 3}   # <-- adjust to your actual PNG values\n",
    "\n",
    "        transforms_list = [\n",
    "            A.Resize(img_size, img_size)\n",
    "        ]\n",
    "        if augment:\n",
    "            transforms_list.extend([\n",
    "                A.HorizontalFlip(p=0.5),\n",
    "                A.VerticalFlip(p=0.2),\n",
    "                A.RandomRotate90(p=0.5),\n",
    "               A.Affine(translate_percent={\"x\": (-0.1, 0.1), \"y\": (-0.1, 0.1)},\n",
    "                         scale=(0.9, 1.1),\n",
    "                         rotate=(-15, 15),\n",
    "                         p=0.5),\n",
    "                        ])\n",
    "        if dropout:\n",
    "            transforms_list.append(ChannelDropout(p=0.5, collapse_prob=0.25))\n",
    "\n",
    "        transforms_list.extend([\n",
    "            A.Normalize(mean=(0, 0), std=(1, 1)),\n",
    "            ToTensorV2()\n",
    "        ])\n",
    "\n",
    "        self.transform = A.Compose(transforms_list)\n",
    "\n",
    "\n",
    "    def remap_mask_values(self, mask):\n",
    "        \"\"\"\n",
    "        Remap pixel values in the mask image to class IDs.\n",
    "        Example mapping: {0:0, 85:1, 170:2, 255:3}\n",
    "        \"\"\"\n",
    "        mask_out = np.zeros_like(mask, dtype=np.int64)\n",
    "        for k, v in self.mapping.items():\n",
    "            mask_out[mask == k] = v\n",
    "        return mask_out\n",
    "\n",
    "    \n",
    "    def __len__(self):\n",
    "        return len(self.triplets)\n",
    "\n",
    "    def __getitem__(self, idx):\n",
    "        flair_path, t1ce_path, seg_path = self.triplets[idx]\n",
    "\n",
    "        flair = cv2.imread(flair_path, cv2.IMREAD_GRAYSCALE).astype('float32')\n",
    "        t1ce  = cv2.imread(t1ce_path, cv2.IMREAD_GRAYSCALE).astype('float32')\n",
    "        seg   = cv2.imread(seg_path, cv2.IMREAD_GRAYSCALE).astype('int64')\n",
    "\n",
    "        seg   = self.remap_mask_values(seg)  # <-- here\n",
    "\n",
    "        img = np.stack([flair, t1ce], axis=-1)   # HxWx2\n",
    "\n",
    "        transformed = self.transform(image=img, mask=seg)\n",
    "        img_tensor = transformed['image']        # (C,H,W)\n",
    "        mask_tensor = transformed['mask'].long() # (H,W) integer IDs\n",
    "\n",
    "        return img_tensor, mask_tensor\n"
   ]
  },
  {
   "cell_type": "code",
   "execution_count": 7,
   "id": "b1d3c5d6",
   "metadata": {
    "execution": {
     "iopub.execute_input": "2025-09-05T14:24:37.975359Z",
     "iopub.status.busy": "2025-09-05T14:24:37.975047Z",
     "iopub.status.idle": "2025-09-05T14:24:39.527681Z",
     "shell.execute_reply": "2025-09-05T14:24:39.526438Z"
    },
    "papermill": {
     "duration": 1.576316,
     "end_time": "2025-09-05T14:24:39.529267",
     "exception": false,
     "start_time": "2025-09-05T14:24:37.952951",
     "status": "completed"
    },
    "tags": []
   },
   "outputs": [
    {
     "name": "stdout",
     "output_type": "stream",
     "text": [
      "torch.Size([32, 2, 256, 256])\n",
      "torch.Size([32, 256, 256])\n"
     ]
    }
   ],
   "source": [
    "dataset = BT_Dataset(triplets, img_size=256, augment=True, dropout=True)\n",
    "\n",
    "train_size = int(0.8 * len(dataset))\n",
    "val_size = len(dataset) - train_size\n",
    "train_ds, val_ds = random_split(dataset, [train_size, val_size])\n",
    "\n",
    "train_loader = DataLoader(train_ds, batch_size=32,num_workers=4,shuffle=True)\n",
    "val_loader   = DataLoader(val_ds, batch_size=32, num_workers=4, shuffle=False)\n",
    "\n",
    "imgs, masks = next(iter(train_loader))\n",
    "print(imgs.shape)   # [B, 2, H, W]\n",
    "print(masks.shape)  # [B, H, W]"
   ]
  },
  {
   "cell_type": "code",
   "execution_count": 8,
   "id": "991d1227",
   "metadata": {
    "execution": {
     "iopub.execute_input": "2025-09-05T14:24:39.599124Z",
     "iopub.status.busy": "2025-09-05T14:24:39.598194Z",
     "iopub.status.idle": "2025-09-05T14:24:39.660206Z",
     "shell.execute_reply": "2025-09-05T14:24:39.659371Z"
    },
    "papermill": {
     "duration": 0.103867,
     "end_time": "2025-09-05T14:24:39.661573",
     "exception": false,
     "start_time": "2025-09-05T14:24:39.557706",
     "status": "completed"
    },
    "tags": []
   },
   "outputs": [],
   "source": [
    "# pick device\n",
    "device = torch.device('cuda' if torch.cuda.is_available() else 'cpu')"
   ]
  },
  {
   "metadata": {},
   "cell_type": "markdown",
   "source": [
    "## Load modal\n",
    "\n",
    "- Architecture: Unet\n",
    "- Encoder : Efficientnet-B0"
   ],
   "id": "732625767c59e09"
  },
  {
   "cell_type": "code",
   "execution_count": 9,
   "id": "d693e3e2",
   "metadata": {
    "execution": {
     "iopub.execute_input": "2025-09-05T14:24:39.706144Z",
     "iopub.status.busy": "2025-09-05T14:24:39.705623Z",
     "iopub.status.idle": "2025-09-05T14:24:41.398627Z",
     "shell.execute_reply": "2025-09-05T14:24:41.397958Z"
    },
    "papermill": {
     "duration": 1.716632,
     "end_time": "2025-09-05T14:24:41.400022",
     "exception": false,
     "start_time": "2025-09-05T14:24:39.683390",
     "status": "completed"
    },
    "tags": []
   },
   "outputs": [
    {
     "data": {
      "application/vnd.jupyter.widget-view+json": {
       "model_id": "d2606969b1454c42a68bdbb071dcd1e0",
       "version_major": 2,
       "version_minor": 0
      },
      "text/plain": [
       "config.json:   0%|          | 0.00/106 [00:00<?, ?B/s]"
      ]
     },
     "metadata": {},
     "output_type": "display_data"
    },
    {
     "data": {
      "application/vnd.jupyter.widget-view+json": {
       "model_id": "44742f7e5881406f946346198803dc5d",
       "version_major": 2,
       "version_minor": 0
      },
      "text/plain": [
       "model.safetensors:   0%|          | 0.00/21.4M [00:00<?, ?B/s]"
      ]
     },
     "metadata": {},
     "output_type": "display_data"
    }
   ],
   "source": [
    "n_classes = 4  # adjust to however many classes your mask uses\n",
    "\n",
    "model = smp.Unet(\n",
    "    encoder_name='timm-efficientnet-b0',\n",
    "    encoder_weights='imagenet',\n",
    "    in_channels=2,     # FLAIR + T1CE\n",
    "    classes=n_classes   # multi-class\n",
    "    # output\n",
    ").to(device)"
   ]
  },
  {
   "metadata": {},
   "cell_type": "markdown",
   "source": [
    "## Metrics\n",
    "\n",
    "- Loss fucntion : weighted CrossEntropy + Dice Loss\n",
    "- Performace Metric : Multiclass IOU score"
   ],
   "id": "9425174f5e3f11df"
  },
  {
   "cell_type": "code",
   "execution_count": 10,
   "id": "3736bace",
   "metadata": {
    "execution": {
     "iopub.execute_input": "2025-09-05T14:24:41.446227Z",
     "iopub.status.busy": "2025-09-05T14:24:41.445479Z",
     "iopub.status.idle": "2025-09-05T14:24:41.451209Z",
     "shell.execute_reply": "2025-09-05T14:24:41.450618Z"
    },
    "papermill": {
     "duration": 0.029695,
     "end_time": "2025-09-05T14:24:41.452351",
     "exception": false,
     "start_time": "2025-09-05T14:24:41.422656",
     "status": "completed"
    },
    "tags": []
   },
   "outputs": [],
   "source": [
    "ce_loss = nn.CrossEntropyLoss()  # expects raw logits [B, C, H, W] and targets [B, H, W]\n",
    "\n",
    "def multiclass_dice_loss(logits, targets, eps=1e-6):\n",
    "    \"\"\"Compute mean Dice loss across classes (excluding background if desired).\"\"\"\n",
    "    probs = torch.softmax(logits, dim=1)   # [B, C, H, W]\n",
    "    targets_one_hot = torch.nn.functional.one_hot(targets, num_classes=logits.shape[1]) # [B, H, W, C]\n",
    "    targets_one_hot = targets_one_hot.permute(0, 3, 1, 2).float()                       # [B, C, H, W]\n",
    "    dims = (0,2,3)\n",
    "    intersection = torch.sum(probs * targets_one_hot, dims)\n",
    "    cardinality = torch.sum(probs + targets_one_hot, dims)\n",
    "    dice_per_class = (2. * intersection + eps) / (cardinality + eps)\n",
    "    return 1 - dice_per_class.mean()\n",
    "\n",
    "def lossfn(logits, masks):\n",
    "    return 0.5 * ce_loss(logits, masks) + 0.5 * multiclass_dice_loss(logits, masks)"
   ]
  },
  {
   "cell_type": "code",
   "execution_count": 11,
   "id": "3fb1f5b8",
   "metadata": {
    "execution": {
     "iopub.execute_input": "2025-09-05T14:24:41.498214Z",
     "iopub.status.busy": "2025-09-05T14:24:41.497541Z",
     "iopub.status.idle": "2025-09-05T14:24:41.502870Z",
     "shell.execute_reply": "2025-09-05T14:24:41.502124Z"
    },
    "papermill": {
     "duration": 0.029953,
     "end_time": "2025-09-05T14:24:41.504215",
     "exception": false,
     "start_time": "2025-09-05T14:24:41.474262",
     "status": "completed"
    },
    "tags": []
   },
   "outputs": [],
   "source": [
    "@torch.no_grad()\n",
    "def compute_mean_iou(logits, targets, eps=1e-6):\n",
    "    preds = torch.argmax(logits, dim=1)       # [B, H, W]\n",
    "    ious = []\n",
    "    for c in range(logits.shape[1]):          # per class\n",
    "        inter = ((preds == c) & (targets == c)).sum().float()\n",
    "        union = ((preds == c) | (targets == c)).sum().float()\n",
    "        if union > 0:\n",
    "            ious.append((inter + eps) / (union + eps))\n",
    "    return torch.stack(ious).mean().item() if ious else 0.0"
   ]
  },
  {
   "cell_type": "code",
   "execution_count": 12,
   "id": "47d872ef",
   "metadata": {
    "execution": {
     "iopub.execute_input": "2025-09-05T14:24:41.549965Z",
     "iopub.status.busy": "2025-09-05T14:24:41.549245Z",
     "iopub.status.idle": "2025-09-05T14:24:41.558328Z",
     "shell.execute_reply": "2025-09-05T14:24:41.557565Z"
    },
    "papermill": {
     "duration": 0.033126,
     "end_time": "2025-09-05T14:24:41.559555",
     "exception": false,
     "start_time": "2025-09-05T14:24:41.526429",
     "status": "completed"
    },
    "tags": []
   },
   "outputs": [],
   "source": [
    "def train_model(\n",
    "    model, \n",
    "    train_loader, \n",
    "    val_loader,\n",
    "    epochs=10, \n",
    "    lr=1e-3, \n",
    "    device=\"cuda\", \n",
    "    save_path=\"/kaggle/working/brain_tumor_segmenter.pth\",\n",
    "):\n",
    "    model = model.to(device)\n",
    "    optimizer = optim.Adam(model.parameters(), lr=lr)\n",
    "    scaler = torch.amp.GradScaler(\"cuda\") if torch.cuda.is_available() else None\n",
    "    best_val_iou = 0.0\n",
    "\n",
    "    # ---- history dict ----\n",
    "    history = {\n",
    "        \"train_loss\": [],\n",
    "        \"val_loss\": [],\n",
    "        \"val_iou\": []\n",
    "    }\n",
    "\n",
    "    for epoch in range(epochs):\n",
    "        # ---- Train ----\n",
    "        model.train()\n",
    "        train_loss = 0\n",
    "\n",
    "        pbar = tqdm(train_loader, desc=f\"Epoch [{epoch+1}/{epochs}] Train\")\n",
    "        for imgs, masks in pbar:\n",
    "            imgs, masks = imgs.to(device), masks.to(device)\n",
    "\n",
    "            optimizer.zero_grad()\n",
    "            with torch.amp.autocast(\"cuda\",enabled=(scaler is not None)):\n",
    "                logits = model(imgs)\n",
    "                loss = lossfn(logits, masks)\n",
    "            if scaler:\n",
    "                scaler.scale(loss).backward()\n",
    "                scaler.step(optimizer)\n",
    "                scaler.update()\n",
    "            else:\n",
    "                loss.backward()\n",
    "                optimizer.step()\n",
    "\n",
    "            \n",
    "            train_loss += loss \n",
    "\n",
    "        # ---- Validate ----\n",
    "        model.eval()\n",
    "        val_loss = 0\n",
    "        val_iou = 0\n",
    "        \n",
    "        with torch.no_grad():\n",
    "            for imgs, masks in tqdm(val_loader, desc=\"Valid\"):\n",
    "                imgs, masks = imgs.to(device), masks.to(device)\n",
    "                logits = model(imgs)\n",
    "                val_loss += lossfn(logits, masks)\n",
    "                val_iou += compute_mean_iou(logits, masks)\n",
    "\n",
    "        avg_train_loss = train_loss / len(train_loader)\n",
    "        avg_val_loss = val_loss / len(val_loader)\n",
    "        avg_val_iou = val_iou /  len(val_loader)\n",
    "\n",
    "        print(f\"Epoch {epoch+1}: \"\n",
    "              f\"Train Loss {avg_train_loss:.4f} \"\n",
    "              f\"Val Loss {avg_val_loss:.4f}, Val IoU {avg_val_iou:.4f}\")\n",
    "\n",
    "        # ---- save metrics to history ----\n",
    "        history[\"train_loss\"].append(avg_train_loss.item())\n",
    "        history[\"val_loss\"].append(avg_val_loss.item())\n",
    "        history[\"val_iou\"].append(avg_val_iou)\n",
    "\n",
    "        # ---- Save best model ----\n",
    "        if avg_val_iou > best_val_iou:\n",
    "            best_val_iou = avg_val_iou\n",
    "            torch.save(model.state_dict(), save_path)\n",
    "\n",
    "    print(f\"Training done. Best Val IoU: {best_val_iou:.4f}\")\n",
    "\n",
    "    return history\n"
   ]
  },
  {
   "metadata": {},
   "cell_type": "markdown",
   "source": "## Model training",
   "id": "6162d65f336c79d8"
  },
  {
   "cell_type": "code",
   "execution_count": 13,
   "id": "d6c3670b",
   "metadata": {
    "execution": {
     "iopub.execute_input": "2025-09-05T14:24:41.604458Z",
     "iopub.status.busy": "2025-09-05T14:24:41.603872Z",
     "iopub.status.idle": "2025-09-05T15:20:24.501948Z",
     "shell.execute_reply": "2025-09-05T15:20:24.501096Z"
    },
    "papermill": {
     "duration": 3342.922964,
     "end_time": "2025-09-05T15:20:24.504314",
     "exception": false,
     "start_time": "2025-09-05T14:24:41.581350",
     "status": "completed"
    },
    "tags": []
   },
   "outputs": [
    {
     "name": "stderr",
     "output_type": "stream",
     "text": [
      "Epoch [1/10] Train: 100%|██████████| 932/932 [05:05<00:00,  3.05it/s]\n",
      "Valid: 100%|██████████| 233/233 [00:39<00:00,  5.83it/s]\n"
     ]
    },
    {
     "name": "stdout",
     "output_type": "stream",
     "text": [
      "Epoch 1: Train Loss 0.1610 Val Loss 0.1162, Val IoU 0.7022\n"
     ]
    },
    {
     "name": "stderr",
     "output_type": "stream",
     "text": [
      "Epoch [2/10] Train: 100%|██████████| 932/932 [05:04<00:00,  3.06it/s]\n",
      "Valid: 100%|██████████| 233/233 [00:27<00:00,  8.50it/s]\n"
     ]
    },
    {
     "name": "stdout",
     "output_type": "stream",
     "text": [
      "Epoch 2: Train Loss 0.1067 Val Loss 0.0997, Val IoU 0.7363\n"
     ]
    },
    {
     "name": "stderr",
     "output_type": "stream",
     "text": [
      "Epoch [3/10] Train: 100%|██████████| 932/932 [05:04<00:00,  3.06it/s]\n",
      "Valid: 100%|██████████| 233/233 [00:27<00:00,  8.57it/s]\n"
     ]
    },
    {
     "name": "stdout",
     "output_type": "stream",
     "text": [
      "Epoch 3: Train Loss 0.0995 Val Loss 0.0968, Val IoU 0.7421\n"
     ]
    },
    {
     "name": "stderr",
     "output_type": "stream",
     "text": [
      "Epoch [4/10] Train: 100%|██████████| 932/932 [05:04<00:00,  3.06it/s]\n",
      "Valid: 100%|██████████| 233/233 [00:27<00:00,  8.49it/s]\n"
     ]
    },
    {
     "name": "stdout",
     "output_type": "stream",
     "text": [
      "Epoch 4: Train Loss 0.0959 Val Loss 0.0969, Val IoU 0.7421\n"
     ]
    },
    {
     "name": "stderr",
     "output_type": "stream",
     "text": [
      "Epoch [5/10] Train: 100%|██████████| 932/932 [05:04<00:00,  3.06it/s]\n",
      "Valid: 100%|██████████| 233/233 [00:27<00:00,  8.35it/s]\n"
     ]
    },
    {
     "name": "stdout",
     "output_type": "stream",
     "text": [
      "Epoch 5: Train Loss 0.0942 Val Loss 0.0915, Val IoU 0.7525\n"
     ]
    },
    {
     "name": "stderr",
     "output_type": "stream",
     "text": [
      "Epoch [6/10] Train: 100%|██████████| 932/932 [05:05<00:00,  3.06it/s]\n",
      "Valid: 100%|██████████| 233/233 [00:27<00:00,  8.43it/s]\n"
     ]
    },
    {
     "name": "stdout",
     "output_type": "stream",
     "text": [
      "Epoch 6: Train Loss 0.0914 Val Loss 0.0888, Val IoU 0.7581\n"
     ]
    },
    {
     "name": "stderr",
     "output_type": "stream",
     "text": [
      "Epoch [7/10] Train: 100%|██████████| 932/932 [05:04<00:00,  3.06it/s]\n",
      "Valid: 100%|██████████| 233/233 [00:26<00:00,  8.65it/s]\n"
     ]
    },
    {
     "name": "stdout",
     "output_type": "stream",
     "text": [
      "Epoch 7: Train Loss 0.0896 Val Loss 0.0859, Val IoU 0.7657\n"
     ]
    },
    {
     "name": "stderr",
     "output_type": "stream",
     "text": [
      "Epoch [8/10] Train: 100%|██████████| 932/932 [05:05<00:00,  3.05it/s]\n",
      "Valid: 100%|██████████| 233/233 [00:27<00:00,  8.51it/s]\n"
     ]
    },
    {
     "name": "stdout",
     "output_type": "stream",
     "text": [
      "Epoch 8: Train Loss 0.0879 Val Loss 0.0892, Val IoU 0.7580\n"
     ]
    },
    {
     "name": "stderr",
     "output_type": "stream",
     "text": [
      "Epoch [9/10] Train: 100%|██████████| 932/932 [05:05<00:00,  3.06it/s]\n",
      "Valid: 100%|██████████| 233/233 [00:27<00:00,  8.51it/s]\n"
     ]
    },
    {
     "name": "stdout",
     "output_type": "stream",
     "text": [
      "Epoch 9: Train Loss 0.0873 Val Loss 0.0854, Val IoU 0.7661\n"
     ]
    },
    {
     "name": "stderr",
     "output_type": "stream",
     "text": [
      "Epoch [10/10] Train: 100%|██████████| 932/932 [05:05<00:00,  3.05it/s]\n",
      "Valid: 100%|██████████| 233/233 [00:27<00:00,  8.46it/s]\n"
     ]
    },
    {
     "name": "stdout",
     "output_type": "stream",
     "text": [
      "Epoch 10: Train Loss 0.0853 Val Loss 0.0845, Val IoU 0.7674\n",
      "Training done. Best Val IoU: 0.7674\n"
     ]
    }
   ],
   "source": [
    "history = train_model(model, train_loader, val_loader)"
   ]
  },
  {
   "metadata": {},
   "cell_type": "markdown",
   "source": "## Metrics Analysis",
   "id": "95e463172eaa12a9"
  },
  {
   "cell_type": "code",
   "execution_count": 14,
   "id": "4d48fe81",
   "metadata": {
    "execution": {
     "iopub.execute_input": "2025-09-05T15:20:25.356860Z",
     "iopub.status.busy": "2025-09-05T15:20:25.356525Z",
     "iopub.status.idle": "2025-09-05T15:20:25.712401Z",
     "shell.execute_reply": "2025-09-05T15:20:25.711557Z"
    },
    "papermill": {
     "duration": 0.783353,
     "end_time": "2025-09-05T15:20:25.713510",
     "exception": false,
     "start_time": "2025-09-05T15:20:24.930157",
     "status": "completed"
    },
    "tags": []
   },
   "outputs": [
    {
     "data": {
      "image/png": "[encoded data removed]",
      "text/plain": [
       "<Figure size 640x480 with 1 Axes>"
      ]
     },
     "metadata": {},
     "output_type": "display_data"
    },
    {
     "data": {
      "image/png": "[encoded data removed]",
      "text/plain": [
       "<Figure size 640x480 with 1 Axes>"
      ]
     },
     "metadata": {},
     "output_type": "display_data"
    }
   ],
   "source": [
    "import matplotlib.pyplot as plt\n",
    "\n",
    "plt.plot(history[\"train_loss\"], label=\"Train Loss\")\n",
    "plt.plot(history[\"val_loss\"], label=\"Val Loss\")\n",
    "plt.legend(); plt.title(\"Loss Curve\"); plt.show()\n",
    "plt.plot(history[\"val_iou\"], label=\"Val IoU\")\n",
    "plt.legend(); plt.title(\"IoU Curve\"); plt.show()"
   ]
  }
 ],
 "metadata": {
  "kaggle": {
   "accelerator": "gpu",
   "dataSources": [
    {
     "datasetId": 8189469,
     "sourceId": 12941265,
     "sourceType": "datasetVersion"
    }
   ],
   "dockerImageVersionId": 31089,
   "isGpuEnabled": true,
   "isInternetEnabled": true,
   "language": "python",
   "sourceType": "notebook"
  },
  "kernelspec": {
   "display_name": "Python 3",
   "language": "python",
   "name": "python3"
  },
  "language_info": {
   "codemirror_mode": {
    "name": "ipython",
    "version": 3
   },
   "file_extension": ".py",
   "mimetype": "text/x-python",
   "name": "python",
   "nbconvert_exporter": "python",
   "pygments_lexer": "ipython3",
   "version": "3.11.13"
  },
  "papermill": {
   "default_parameters": {},
   "duration": 3675.464518,
   "end_time": "2025-09-05T15:20:28.972397",
   "environment_variables": {},
   "exception": null,
   "input_path": "__notebook__.ipynb",
   "output_path": "__notebook__.ipynb",
   "parameters": {},
   "start_time": "2025-09-05T14:19:13.507879",
   "version": "2.6.0"
  },
  "widgets": {
   "application/vnd.jupyter.widget-state+json": {
    "state": {
     "107a88d3e926439aa0b730362faf2854": {
      "model_module": "@jupyter-widgets/base",
      "model_module_version": "2.0.0",
      "model_name": "LayoutModel",
      "state": {
       "_model_module": "@jupyter-widgets/base",
       "_model_module_version": "2.0.0",
       "_model_name": "LayoutModel",
       "_view_count": null,
       "_view_module": "@jupyter-widgets/base",
       "_view_module_version": "2.0.0",
       "_view_name": "LayoutView",
       "align_content": null,
       "align_items": null,
       "align_self": null,
       "border_bottom": null,
       "border_left": null,
       "border_right": null,
       "border_top": null,
       "bottom": null,
       "display": null,
       "flex": null,
       "flex_flow": null,
       "grid_area": null,
       "grid_auto_columns": null,
       "grid_auto_flow": null,
       "grid_auto_rows": null,
       "grid_column": null,
       "grid_gap": null,
       "grid_row": null,
       "grid_template_areas": null,
       "grid_template_columns": null,
       "grid_template_rows": null,
       "height": null,
       "justify_content": null,
       "justify_items": null,
       "left": null,
       "margin": null,
       "max_height": null,
       "max_width": null,
       "min_height": null,
       "min_width": null,
       "object_fit": null,
       "object_position": null,
       "order": null,
       "overflow": null,
       "padding": null,
       "right": null,
       "top": null,
       "visibility": null,
       "width": null
      }
     },
     "1566ac6899e74982bb1ee75ebda9d79c": {
      "model_module": "@jupyter-widgets/controls",
      "model_module_version": "2.0.0",
      "model_name": "HTMLModel",
      "state": {
       "_dom_classes": [],
       "_model_module": "@jupyter-widgets/controls",
       "_model_module_version": "2.0.0",
       "_model_name": "HTMLModel",
       "_view_count": null,
       "_view_module": "@jupyter-widgets/controls",
       "_view_module_version": "2.0.0",
       "_view_name": "HTMLView",
       "description": "",
       "description_allow_html": false,
       "layout": "IPY_MODEL_5dcfcd70e3a94d7a8b65f19ee631790d",
       "placeholder": "​",
       "style": "IPY_MODEL_57758028da7f4538896bf270bd168e2a",
       "tabbable": null,
       "tooltip": null,
       "value": " 21.4M/21.4M [00:00&lt;00:00, 24.5MB/s]"
      }
     },
     "200d2c42ad2e47429dae5bbed6e1055f": {
      "model_module": "@jupyter-widgets/controls",
      "model_module_version": "2.0.0",
      "model_name": "HTMLModel",
      "state": {
       "_dom_classes": [],
       "_model_module": "@jupyter-widgets/controls",
       "_model_module_version": "2.0.0",
       "_model_name": "HTMLModel",
       "_view_count": null,
       "_view_module": "@jupyter-widgets/controls",
       "_view_module_version": "2.0.0",
       "_view_name": "HTMLView",
       "description": "",
       "description_allow_html": false,
       "layout": "IPY_MODEL_b6d47ba0c8084549a5915804a3bb7e0e",
       "placeholder": "​",
       "style": "IPY_MODEL_98d8454f38414af2bb3195946693626e",
       "tabbable": null,
       "tooltip": null,
       "value": "model.safetensors: 100%"
      }
     },
     "398fbacf7133431fa8c62d08489b84de": {
      "model_module": "@jupyter-widgets/controls",
      "model_module_version": "2.0.0",
      "model_name": "ProgressStyleModel",
      "state": {
       "_model_module": "@jupyter-widgets/controls",
       "_model_module_version": "2.0.0",
       "_model_name": "ProgressStyleModel",
       "_view_count": null,
       "_view_module": "@jupyter-widgets/base",
       "_view_module_version": "2.0.0",
       "_view_name": "StyleView",
       "bar_color": null,
       "description_width": ""
      }
     },
     "39bd0a4c90134c6a9f244155580212ca": {
      "model_module": "@jupyter-widgets/base",
      "model_module_version": "2.0.0",
      "model_name": "LayoutModel",
      "state": {
       "_model_module": "@jupyter-widgets/base",
       "_model_module_version": "2.0.0",
       "_model_name": "LayoutModel",
       "_view_count": null,
       "_view_module": "@jupyter-widgets/base",
       "_view_module_version": "2.0.0",
       "_view_name": "LayoutView",
       "align_content": null,
       "align_items": null,
       "align_self": null,
       "border_bottom": null,
       "border_left": null,
       "border_right": null,
       "border_top": null,
       "bottom": null,
       "display": null,
       "flex": null,
       "flex_flow": null,
       "grid_area": null,
       "grid_auto_columns": null,
       "grid_auto_flow": null,
       "grid_auto_rows": null,
       "grid_column": null,
       "grid_gap": null,
       "grid_row": null,
       "grid_template_areas": null,
       "grid_template_columns": null,
       "grid_template_rows": null,
       "height": null,
       "justify_content": null,
       "justify_items": null,
       "left": null,
       "margin": null,
       "max_height": null,
       "max_width": null,
       "min_height": null,
       "min_width": null,
       "object_fit": null,
       "object_position": null,
       "order": null,
       "overflow": null,
       "padding": null,
       "right": null,
       "top": null,
       "visibility": null,
       "width": null
      }
     },
     "3d33908eef1645758f78c5c704e8f240": {
      "model_module": "@jupyter-widgets/controls",
      "model_module_version": "2.0.0",
      "model_name": "ProgressStyleModel",
      "state": {
       "_model_module": "@jupyter-widgets/controls",
       "_model_module_version": "2.0.0",
       "_model_name": "ProgressStyleModel",
       "_view_count": null,
       "_view_module": "@jupyter-widgets/base",
       "_view_module_version": "2.0.0",
       "_view_name": "StyleView",
       "bar_color": null,
       "description_width": ""
      }
     },
     "42699c63e6a24fcf9d4a1952cbfd3f95": {
      "model_module": "@jupyter-widgets/controls",
      "model_module_version": "2.0.0",
      "model_name": "FloatProgressModel",
      "state": {
       "_dom_classes": [],
       "_model_module": "@jupyter-widgets/controls",
       "_model_module_version": "2.0.0",
       "_model_name": "FloatProgressModel",
       "_view_count": null,
       "_view_module": "@jupyter-widgets/controls",
       "_view_module_version": "2.0.0",
       "_view_name": "ProgressView",
       "bar_style": "success",
       "description": "",
       "description_allow_html": false,
       "layout": "IPY_MODEL_39bd0a4c90134c6a9f244155580212ca",
       "max": 2.1355344E7,
       "min": 0.0,
       "orientation": "horizontal",
       "style": "IPY_MODEL_3d33908eef1645758f78c5c704e8f240",
       "tabbable": null,
       "tooltip": null,
       "value": 2.1355344E7
      }
     },
     "44742f7e5881406f946346198803dc5d": {
      "model_module": "@jupyter-widgets/controls",
      "model_module_version": "2.0.0",
      "model_name": "HBoxModel",
      "state": {
       "_dom_classes": [],
       "_model_module": "@jupyter-widgets/controls",
       "_model_module_version": "2.0.0",
       "_model_name": "HBoxModel",
       "_view_count": null,
       "_view_module": "@jupyter-widgets/controls",
       "_view_module_version": "2.0.0",
       "_view_name": "HBoxView",
       "box_style": "",
       "children": [
        "IPY_MODEL_200d2c42ad2e47429dae5bbed6e1055f",
        "IPY_MODEL_42699c63e6a24fcf9d4a1952cbfd3f95",
        "IPY_MODEL_1566ac6899e74982bb1ee75ebda9d79c"
       ],
       "layout": "IPY_MODEL_7f65e1197da44196bc608a18a651066a",
       "tabbable": null,
       "tooltip": null
      }
     },
     "57758028da7f4538896bf270bd168e2a": {
      "model_module": "@jupyter-widgets/controls",
      "model_module_version": "2.0.0",
      "model_name": "HTMLStyleModel",
      "state": {
       "_model_module": "@jupyter-widgets/controls",
       "_model_module_version": "2.0.0",
       "_model_name": "HTMLStyleModel",
       "_view_count": null,
       "_view_module": "@jupyter-widgets/base",
       "_view_module_version": "2.0.0",
       "_view_name": "StyleView",
       "background": null,
       "description_width": "",
       "font_size": null,
       "text_color": null
      }
     },
     "5dcfcd70e3a94d7a8b65f19ee631790d": {
      "model_module": "@jupyter-widgets/base",
      "model_module_version": "2.0.0",
      "model_name": "LayoutModel",
      "state": {
       "_model_module": "@jupyter-widgets/base",
       "_model_module_version": "2.0.0",
       "_model_name": "LayoutModel",
       "_view_count": null,
       "_view_module": "@jupyter-widgets/base",
       "_view_module_version": "2.0.0",
       "_view_name": "LayoutView",
       "align_content": null,
       "align_items": null,
       "align_self": null,
       "border_bottom": null,
       "border_left": null,
       "border_right": null,
       "border_top": null,
       "bottom": null,
       "display": null,
       "flex": null,
       "flex_flow": null,
       "grid_area": null,
       "grid_auto_columns": null,
       "grid_auto_flow": null,
       "grid_auto_rows": null,
       "grid_column": null,
       "grid_gap": null,
       "grid_row": null,
       "grid_template_areas": null,
       "grid_template_columns": null,
       "grid_template_rows": null,
       "height": null,
       "justify_content": null,
       "justify_items": null,
       "left": null,
       "margin": null,
       "max_height": null,
       "max_width": null,
       "min_height": null,
       "min_width": null,
       "object_fit": null,
       "object_position": null,
       "order": null,
       "overflow": null,
       "padding": null,
       "right": null,
       "top": null,
       "visibility": null,
       "width": null
      }
     },
     "6615b1974ca745259da87e2ab550af3f": {
      "model_module": "@jupyter-widgets/base",
      "model_module_version": "2.0.0",
      "model_name": "LayoutModel",
      "state": {
       "_model_module": "@jupyter-widgets/base",
       "_model_module_version": "2.0.0",
       "_model_name": "LayoutModel",
       "_view_count": null,
       "_view_module": "@jupyter-widgets/base",
       "_view_module_version": "2.0.0",
       "_view_name": "LayoutView",
       "align_content": null,
       "align_items": null,
       "align_self": null,
       "border_bottom": null,
       "border_left": null,
       "border_right": null,
       "border_top": null,
       "bottom": null,
       "display": null,
       "flex": null,
       "flex_flow": null,
       "grid_area": null,
       "grid_auto_columns": null,
       "grid_auto_flow": null,
       "grid_auto_rows": null,
       "grid_column": null,
       "grid_gap": null,
       "grid_row": null,
       "grid_template_areas": null,
       "grid_template_columns": null,
       "grid_template_rows": null,
       "height": null,
       "justify_content": null,
       "justify_items": null,
       "left": null,
       "margin": null,
       "max_height": null,
       "max_width": null,
       "min_height": null,
       "min_width": null,
       "object_fit": null,
       "object_position": null,
       "order": null,
       "overflow": null,
       "padding": null,
       "right": null,
       "top": null,
       "visibility": null,
       "width": null
      }
     },
     "69be2a77e4c747ab949bdfc8a999eaab": {
      "model_module": "@jupyter-widgets/base",
      "model_module_version": "2.0.0",
      "model_name": "LayoutModel",
      "state": {
       "_model_module": "@jupyter-widgets/base",
       "_model_module_version": "2.0.0",
       "_model_name": "LayoutModel",
       "_view_count": null,
       "_view_module": "@jupyter-widgets/base",
       "_view_module_version": "2.0.0",
       "_view_name": "LayoutView",
       "align_content": null,
       "align_items": null,
       "align_self": null,
       "border_bottom": null,
       "border_left": null,
       "border_right": null,
       "border_top": null,
       "bottom": null,
       "display": null,
       "flex": null,
       "flex_flow": null,
       "grid_area": null,
       "grid_auto_columns": null,
       "grid_auto_flow": null,
       "grid_auto_rows": null,
       "grid_column": null,
       "grid_gap": null,
       "grid_row": null,
       "grid_template_areas": null,
       "grid_template_columns": null,
       "grid_template_rows": null,
       "height": null,
       "justify_content": null,
       "justify_items": null,
       "left": null,
       "margin": null,
       "max_height": null,
       "max_width": null,
       "min_height": null,
       "min_width": null,
       "object_fit": null,
       "object_position": null,
       "order": null,
       "overflow": null,
       "padding": null,
       "right": null,
       "top": null,
       "visibility": null,
       "width": null
      }
     },
     "7f65e1197da44196bc608a18a651066a": {
      "model_module": "@jupyter-widgets/base",
      "model_module_version": "2.0.0",
      "model_name": "LayoutModel",
      "state": {
       "_model_module": "@jupyter-widgets/base",
       "_model_module_version": "2.0.0",
       "_model_name": "LayoutModel",
       "_view_count": null,
       "_view_module": "@jupyter-widgets/base",
       "_view_module_version": "2.0.0",
       "_view_name": "LayoutView",
       "align_content": null,
       "align_items": null,
       "align_self": null,
       "border_bottom": null,
       "border_left": null,
       "border_right": null,
       "border_top": null,
       "bottom": null,
       "display": null,
       "flex": null,
       "flex_flow": null,
       "grid_area": null,
       "grid_auto_columns": null,
       "grid_auto_flow": null,
       "grid_auto_rows": null,
       "grid_column": null,
       "grid_gap": null,
       "grid_row": null,
       "grid_template_areas": null,
       "grid_template_columns": null,
       "grid_template_rows": null,
       "height": null,
       "justify_content": null,
       "justify_items": null,
       "left": null,
       "margin": null,
       "max_height": null,
       "max_width": null,
       "min_height": null,
       "min_width": null,
       "object_fit": null,
       "object_position": null,
       "order": null,
       "overflow": null,
       "padding": null,
       "right": null,
       "top": null,
       "visibility": null,
       "width": null
      }
     },
     "8414ad9ecba046c789a7f9078bf1fd32": {
      "model_module": "@jupyter-widgets/base",
      "model_module_version": "2.0.0",
      "model_name": "LayoutModel",
      "state": {
       "_model_module": "@jupyter-widgets/base",
       "_model_module_version": "2.0.0",
       "_model_name": "LayoutModel",
       "_view_count": null,
       "_view_module": "@jupyter-widgets/base",
       "_view_module_version": "2.0.0",
       "_view_name": "LayoutView",
       "align_content": null,
       "align_items": null,
       "align_self": null,
       "border_bottom": null,
       "border_left": null,
       "border_right": null,
       "border_top": null,
       "bottom": null,
       "display": null,
       "flex": null,
       "flex_flow": null,
       "grid_area": null,
       "grid_auto_columns": null,
       "grid_auto_flow": null,
       "grid_auto_rows": null,
       "grid_column": null,
       "grid_gap": null,
       "grid_row": null,
       "grid_template_areas": null,
       "grid_template_columns": null,
       "grid_template_rows": null,
       "height": null,
       "justify_content": null,
       "justify_items": null,
       "left": null,
       "margin": null,
       "max_height": null,
       "max_width": null,
       "min_height": null,
       "min_width": null,
       "object_fit": null,
       "object_position": null,
       "order": null,
       "overflow": null,
       "padding": null,
       "right": null,
       "top": null,
       "visibility": null,
       "width": null
      }
     },
     "98d8454f38414af2bb3195946693626e": {
      "model_module": "@jupyter-widgets/controls",
      "model_module_version": "2.0.0",
      "model_name": "HTMLStyleModel",
      "state": {
       "_model_module": "@jupyter-widgets/controls",
       "_model_module_version": "2.0.0",
       "_model_name": "HTMLStyleModel",
       "_view_count": null,
       "_view_module": "@jupyter-widgets/base",
       "_view_module_version": "2.0.0",
       "_view_name": "StyleView",
       "background": null,
       "description_width": "",
       "font_size": null,
       "text_color": null
      }
     },
     "a194a02ee44e4187b3c4e95625aed1cb": {
      "model_module": "@jupyter-widgets/controls",
      "model_module_version": "2.0.0",
      "model_name": "FloatProgressModel",
      "state": {
       "_dom_classes": [],
       "_model_module": "@jupyter-widgets/controls",
       "_model_module_version": "2.0.0",
       "_model_name": "FloatProgressModel",
       "_view_count": null,
       "_view_module": "@jupyter-widgets/controls",
       "_view_module_version": "2.0.0",
       "_view_name": "ProgressView",
       "bar_style": "success",
       "description": "",
       "description_allow_html": false,
       "layout": "IPY_MODEL_6615b1974ca745259da87e2ab550af3f",
       "max": 106.0,
       "min": 0.0,
       "orientation": "horizontal",
       "style": "IPY_MODEL_398fbacf7133431fa8c62d08489b84de",
       "tabbable": null,
       "tooltip": null,
       "value": 106.0
      }
     },
     "b6d47ba0c8084549a5915804a3bb7e0e": {
      "model_module": "@jupyter-widgets/base",
      "model_module_version": "2.0.0",
      "model_name": "LayoutModel",
      "state": {
       "_model_module": "@jupyter-widgets/base",
       "_model_module_version": "2.0.0",
       "_model_name": "LayoutModel",
       "_view_count": null,
       "_view_module": "@jupyter-widgets/base",
       "_view_module_version": "2.0.0",
       "_view_name": "LayoutView",
       "align_content": null,
       "align_items": null,
       "align_self": null,
       "border_bottom": null,
       "border_left": null,
       "border_right": null,
       "border_top": null,
       "bottom": null,
       "display": null,
       "flex": null,
       "flex_flow": null,
       "grid_area": null,
       "grid_auto_columns": null,
       "grid_auto_flow": null,
       "grid_auto_rows": null,
       "grid_column": null,
       "grid_gap": null,
       "grid_row": null,
       "grid_template_areas": null,
       "grid_template_columns": null,
       "grid_template_rows": null,
       "height": null,
       "justify_content": null,
       "justify_items": null,
       "left": null,
       "margin": null,
       "max_height": null,
       "max_width": null,
       "min_height": null,
       "min_width": null,
       "object_fit": null,
       "object_position": null,
       "order": null,
       "overflow": null,
       "padding": null,
       "right": null,
       "top": null,
       "visibility": null,
       "width": null
      }
     },
     "ce5b57bc4dd2471ba98a468bef694690": {
      "model_module": "@jupyter-widgets/controls",
      "model_module_version": "2.0.0",
      "model_name": "HTMLStyleModel",
      "state": {
       "_model_module": "@jupyter-widgets/controls",
       "_model_module_version": "2.0.0",
       "_model_name": "HTMLStyleModel",
       "_view_count": null,
       "_view_module": "@jupyter-widgets/base",
       "_view_module_version": "2.0.0",
       "_view_name": "StyleView",
       "background": null,
       "description_width": "",
       "font_size": null,
       "text_color": null
      }
     },
     "d2606969b1454c42a68bdbb071dcd1e0": {
      "model_module": "@jupyter-widgets/controls",
      "model_module_version": "2.0.0",
      "model_name": "HBoxModel",
      "state": {
       "_dom_classes": [],
       "_model_module": "@jupyter-widgets/controls",
       "_model_module_version": "2.0.0",
       "_model_name": "HBoxModel",
       "_view_count": null,
       "_view_module": "@jupyter-widgets/controls",
       "_view_module_version": "2.0.0",
       "_view_name": "HBoxView",
       "box_style": "",
       "children": [
        "IPY_MODEL_e25b3f3153324920b32f89dc06920d52",
        "IPY_MODEL_a194a02ee44e4187b3c4e95625aed1cb",
        "IPY_MODEL_dc09976dfe3f4f2397f343137a01518d"
       ],
       "layout": "IPY_MODEL_8414ad9ecba046c789a7f9078bf1fd32",
       "tabbable": null,
       "tooltip": null
      }
     },
     "da6ff09d78384978abcffc3d314e0579": {
      "model_module": "@jupyter-widgets/controls",
      "model_module_version": "2.0.0",
      "model_name": "HTMLStyleModel",
      "state": {
       "_model_module": "@jupyter-widgets/controls",
       "_model_module_version": "2.0.0",
       "_model_name": "HTMLStyleModel",
       "_view_count": null,
       "_view_module": "@jupyter-widgets/base",
       "_view_module_version": "2.0.0",
       "_view_name": "StyleView",
       "background": null,
       "description_width": "",
       "font_size": null,
       "text_color": null
      }
     },
     "dc09976dfe3f4f2397f343137a01518d": {
      "model_module": "@jupyter-widgets/controls",
      "model_module_version": "2.0.0",
      "model_name": "HTMLModel",
      "state": {
       "_dom_classes": [],
       "_model_module": "@jupyter-widgets/controls",
       "_model_module_version": "2.0.0",
       "_model_name": "HTMLModel",
       "_view_count": null,
       "_view_module": "@jupyter-widgets/controls",
       "_view_module_version": "2.0.0",
       "_view_name": "HTMLView",
       "description": "",
       "description_allow_html": false,
       "layout": "IPY_MODEL_107a88d3e926439aa0b730362faf2854",
       "placeholder": "​",
       "style": "IPY_MODEL_ce5b57bc4dd2471ba98a468bef694690",
       "tabbable": null,
       "tooltip": null,
       "value": " 106/106 [00:00&lt;00:00, 10.6kB/s]"
      }
     },
     "e25b3f3153324920b32f89dc06920d52": {
      "model_module": "@jupyter-widgets/controls",
      "model_module_version": "2.0.0",
      "model_name": "HTMLModel",
      "state": {
       "_dom_classes": [],
       "_model_module": "@jupyter-widgets/controls",
       "_model_module_version": "2.0.0",
       "_model_name": "HTMLModel",
       "_view_count": null,
       "_view_module": "@jupyter-widgets/controls",
       "_view_module_version": "2.0.0",
       "_view_name": "HTMLView",
       "description": "",
       "description_allow_html": false,
       "layout": "IPY_MODEL_69be2a77e4c747ab949bdfc8a999eaab",
       "placeholder": "​",
       "style": "IPY_MODEL_da6ff09d78384978abcffc3d314e0579",
       "tabbable": null,
       "tooltip": null,
       "value": "config.json: 100%"
      }
     }
    },
    "version_major": 2,
    "version_minor": 0
   }
  }
 },
 "nbformat": 4,
 "nbformat_minor": 5
}
