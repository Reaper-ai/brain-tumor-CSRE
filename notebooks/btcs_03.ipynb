{
 "nbformat": 4,
 "nbformat_minor": 0,
 "metadata": {
  "colab": {
   "provenance": [],
   "gpuType": "T4"
  },
  "kernelspec": {
   "name": "python3",
   "display_name": "Python 3"
  },
  "language_info": {
   "name": "python"
  },
  "accelerator": "GPU"
 },
 "cells": [
  {
   "cell_type": "markdown",
   "source": [
    "# Brain Tumor MRI Segemtation using UNet\n",
    "\n",
    "This project uses a Convolutional Neural Network (CNN) to classify MRI brain scan images into multiple tumor types. The model is trained using the **BraTS2020** dataset pre organised and converted to .npy files from .nii files\n",
    "\n",
    "### Objective\n",
    "To segment MRI images of the brain into:\n",
    "- background\n",
    "- edema,\n",
    "- non-enhancing,\n",
    "- enhancing tumor\n",
    "\n",
    "We use **transfer learning with resnet18**\n",
    "\n",
    "We train a seperate model for each *modularity available (flair, t1, t1ce,t2)* and then ensemble them to make pridictions."
   ],
   "metadata": {
    "id": "ZCC1CCYrQhWc"
   }
  },
  {
   "cell_type": "code",
   "source": [
    "import os, random\n",
    "import torch\n",
    "from dataset import BraTSDataset2D\n",
    "from torch.utils.data import DataLoader\n",
    "import random"
   ],
   "metadata": {
    "id": "8IDApnbwHHJA",
    "ExecuteTime": {
     "end_time": "2025-08-16T14:46:48.243856Z",
     "start_time": "2025-08-16T14:46:44.239562Z"
    }
   },
   "outputs": [],
   "execution_count": 1
  },
  {
   "cell_type": "code",
   "source": [
    "import torch\n",
    "import torch.nn as nn\n",
    "import torch.optim as optim\n",
    "from tqdm import tqdm\n",
    "import segmentation_models_pytorch as smp\n",
    "from torch.optim.lr_scheduler import CosineAnnealingLR"
   ],
   "metadata": {
    "id": "ERPelcsjIIwG",
    "ExecuteTime": {
     "end_time": "2025-08-16T14:46:51.365886Z",
     "start_time": "2025-08-16T14:46:48.260534Z"
    }
   },
   "outputs": [],
   "execution_count": 2
  },
  {
   "cell_type": "code",
   "source": [
    "device = torch.device(\"cuda\" if torch.cuda.is_available() else \"cpu\")\n",
    "print(\"Using device:\", device)"
   ],
   "metadata": {
    "colab": {
     "base_uri": "https://localhost:8080/"
    },
    "id": "gwcqVP-9ILLJ",
    "outputId": "0fae8860-13ac-401f-86e9-8fc6c80e8858",
    "ExecuteTime": {
     "end_time": "2025-08-16T14:46:52.248412Z",
     "start_time": "2025-08-16T14:46:52.079882Z"
    }
   },
   "outputs": [
    {
     "name": "stdout",
     "output_type": "stream",
     "text": [
      "Using device: cuda\n"
     ]
    }
   ],
   "execution_count": 3
  },
  {
   "cell_type": "markdown",
   "source": [
    "## Data Pipeline\n",
    "\n",
    "- Dataset Class: BraTSDataset2D\n",
    "- Mode: Slice-wise 2D training\n",
    "- Preprocessing:\n",
    "  - Normalization per slice\n",
    "  - Label remapping (4 → 3)"
   ],
   "metadata": {
    "id": "CgP5qy0eN08v"
   }
  },
  {
   "cell_type": "markdown",
   "source": [
    "## Model\n",
    "- **Architecture**: U-Net (2D)\n",
    "- Input Channels: Single modality (e.g., flair)\n",
    "- Output: Pixel-wise segmentation (4 classes)\n",
    "\n",
    "- **Loss Function**: Dice Loss\n",
    "- **Optimizer**: AdamW\n",
    "- **Learning Rate Scheduler**:CosineAnnealingLR"
   ],
   "metadata": {
    "id": "KxubRtYLOGt8"
   }
  },
  {
   "cell_type": "code",
   "source": [
    "in_channels = 1\n",
    "classes = 4      # 0=background, 1=edema, 2=core, 3=enhancing\n",
    "\n",
    "model = smp.Unet(\n",
    "    encoder_name=\"resnet18\",\n",
    "    encoder_weights=None,\n",
    "    in_channels=in_channels,\n",
    "    classes=classes\n",
    ").to(device)"
   ],
   "metadata": {
    "id": "DF4PsgRnINT5",
    "ExecuteTime": {
     "end_time": "2025-08-16T14:47:16.324925Z",
     "start_time": "2025-08-16T14:47:16.170810Z"
    }
   },
   "outputs": [],
   "execution_count": 7
  },
  {
   "cell_type": "code",
   "source": [
    "loss_fn = smp.losses.DiceLoss(mode=\"multiclass\")\n",
    "optimizer = optim.Adam(model.parameters(), lr=1e-3)\n",
    "scheduler = CosineAnnealingLR(optimizer, T_max=10)"
   ],
   "metadata": {
    "id": "n8lIxgRbIPVP",
    "ExecuteTime": {
     "end_time": "2025-08-16T14:47:17.607640Z",
     "start_time": "2025-08-16T14:47:17.603622Z"
    }
   },
   "outputs": [],
   "execution_count": 8
  },
  {
   "cell_type": "code",
   "source": [
    "def train_val_loop(model, train_loader, val_loader):\n",
    "  # -------------------------------\n",
    "  # Training loop\n",
    "  # -------------------------------\n",
    "  num_epochs = 10\n",
    "  metrics = []\n",
    "  for epoch in range(1, num_epochs+1):\n",
    "      model.train()\n",
    "      train_loss = 0.0\n",
    "      for imgs, masks in tqdm(train_loader, desc=f\"Epoch {epoch} [Train]\"):\n",
    "          imgs, masks = imgs.to(device), masks.to(device)\n",
    "          optimizer.zero_grad()\n",
    "          outputs = model(imgs)\n",
    "          loss = loss_fn(outputs, masks)\n",
    "          loss.backward()\n",
    "          optimizer.step()\n",
    "          train_loss += loss.item() * imgs.size(0)\n",
    "\n",
    "      scheduler.step()\n",
    "      train_loss /= len(train_loader.dataset)\n",
    "      print(f\"Epoch {epoch} - Train Loss: {train_loss:.4f}\")\n",
    "\n",
    "      # -------------------------------\n",
    "      # Validation loop\n",
    "      # -------------------------------\n",
    "      model.eval()\n",
    "      val_loss = 0.0\n",
    "      with torch.no_grad():\n",
    "          for imgs, masks in tqdm(val_loader, desc=f\"Epoch {epoch} [Val]\"):\n",
    "              imgs, masks = imgs.to(device), masks.to(device)\n",
    "              outputs = model(imgs)\n",
    "              loss = loss_fn(outputs, masks)\n",
    "              val_loss += loss.item() * imgs.size(0)\n",
    "\n",
    "      val_loss /= len(val_loader.dataset)\n",
    "      print(f\"Epoch {epoch} - Val Loss: {val_loss:.4f}\")\n",
    "\n",
    "      metrics.append([train_loss, val_loss])\n",
    "  print(\"Training complete!\")\n",
    "\n",
    "  return model.state_dict(), metrics"
   ],
   "metadata": {
    "id": "URALUfpKIRZU",
    "ExecuteTime": {
     "end_time": "2025-08-16T14:47:19.117977Z",
     "start_time": "2025-08-16T14:47:19.111080Z"
    }
   },
   "outputs": [],
   "execution_count": 9
  },
  {
   "cell_type": "markdown",
   "source": [
    "## flair"
   ],
   "metadata": {
    "id": "047u1EcTNdhK"
   }
  },
  {
   "metadata": {
    "ExecuteTime": {
     "end_time": "2025-08-16T14:47:26.310712Z",
     "start_time": "2025-08-16T14:47:26.307609Z"
    }
   },
   "cell_type": "code",
   "source": "root_dir = \"../data/BraTS_2020_Train\"",
   "outputs": [],
   "execution_count": 10
  },
  {
   "cell_type": "code",
   "source": "train_ids , val_ids = check_files(root_dir = root_dir ,modality = \"flair\")",
   "metadata": {
    "colab": {
     "base_uri": "https://localhost:8080/"
    },
    "id": "9k9RO0VyL3Bm",
    "outputId": "a74ed0f2-218b-4b7b-9277-644c3c432bac",
    "ExecuteTime": {
     "end_time": "2025-08-16T14:47:27.492015Z",
     "start_time": "2025-08-16T14:47:27.483161Z"
    }
   },
   "outputs": [
    {
     "name": "stdout",
     "output_type": "stream",
     "text": [
      "flair - Training: 295, Validation: 74\n"
     ]
    }
   ],
   "execution_count": 11
  },
  {
   "cell_type": "code",
   "source": "train_loader, val_loader = make_dataloaders(root_dir = root_dir, train_ids = train_ids, val_ids = val_ids, modality = \"flair\")",
   "metadata": {
    "colab": {
     "base_uri": "https://localhost:8080/"
    },
    "id": "7v0YcTd1MXGJ",
    "outputId": "412ef05d-d08a-4440-be16-1d59a4cbd9da",
    "ExecuteTime": {
     "end_time": "2025-08-16T14:47:57.959835Z",
     "start_time": "2025-08-16T14:47:45.307532Z"
    }
   },
   "outputs": [
    {
     "name": "stdout",
     "output_type": "stream",
     "text": [
      "DataLoaders ready!\n"
     ]
    }
   ],
   "execution_count": 13
  },
  {
   "cell_type": "code",
   "source": " weights , metrics = train_val_loop(model, train_loader, val_loader)",
   "metadata": {
    "colab": {
     "base_uri": "https://localhost:8080/",
     "height": 304
    },
    "id": "UjGZqgG7JtUT",
    "outputId": "b681a753-444f-4d54-a279-307559f9bac2",
    "jupyter": {
     "is_executing": true
    },
    "ExecuteTime": {
     "end_time": "2025-08-16T15:14:10.111055400Z",
     "start_time": "2025-08-16T14:48:44.871846Z"
    }
   },
   "outputs": [
    {
     "name": "stderr",
     "output_type": "stream",
     "text": [
      "Epoch 1 [Train]:  60%|██████    | 1724/2858 [16:16<06:59,  2.71it/s]   "
     ]
    }
   ],
   "execution_count": null
  },
  {
   "cell_type": "code",
   "source": [
    "torch.save(weights, f\"./flair_model.pth\")"
   ],
   "metadata": {
    "id": "ibfqbtBBNNyS"
   },
   "execution_count": null,
   "outputs": []
  }
 ]
}
